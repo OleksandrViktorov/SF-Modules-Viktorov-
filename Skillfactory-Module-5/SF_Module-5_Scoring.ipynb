{
 "cells": [
  {
   "cell_type": "markdown",
   "metadata": {},
   "source": [
    "### Описания полей\n",
    "\n",
    "- client_id - идентификатор клиента\n",
    "\n",
    "\n",
    "- education - уровень образования\n",
    "\n",
    "\n",
    "- sex - пол заемщика\n",
    "\n",
    "\n",
    "- age - возраст заемщика\n",
    "\n",
    "\n",
    "- car - флаг наличия автомобиля\n",
    "\n",
    "\n",
    "- car_type - флаг автомобиля иномарки\n",
    "\n",
    "\n",
    "- decline_app_cnt - количество отказанных прошлых заявок\n",
    "\n",
    "\n",
    "- good_work - флаг наличия “хорошей” работы\n",
    "\n",
    "\n",
    "- bki_request_cnt - количество запросов в БКИ\n",
    "\n",
    "\n",
    "- home_address - категоризатор домашнего адреса\n",
    "\n",
    "\n",
    "- work_address - категоризатор рабочего адреса\n",
    "\n",
    "\n",
    "- income - доход заемщика\n",
    "\n",
    "\n",
    "- foreign_passport - наличие загранпаспорта\n",
    "\n",
    "\n",
    "- sna - связь заемщика с клиентами банка\n",
    "\n",
    "\n",
    "- first_time - давность наличия информации о заемщике\n",
    "\n",
    "\n",
    "- score_bki - скоринговый балл по данным из БКИ\n",
    "\n",
    "\n",
    "- region_rating - рейтинг региона\n",
    "\n",
    "\n",
    "- app_date - дата подачи заявки\n",
    "\n",
    "- default - флаг дефолта по кредиту"
   ]
  },
  {
   "cell_type": "code",
   "execution_count": 1,
   "metadata": {},
   "outputs": [],
   "source": [
    "from sklearn.metrics import mean_squared_error\n",
    "from sklearn.metrics import accuracy_score, precision_score, recall_score, f1_score\n",
    "from sklearn.metrics import precision_recall_curve, average_precision_score\n",
    "\n",
    "import seaborn as sns\n",
    "import pandas as pd\n",
    "import numpy as np\n",
    "\n",
    "import matplotlib.pyplot as plt\n",
    "%matplotlib inline\n",
    "\n",
    "import warnings\n",
    "warnings.filterwarnings('ignore')\n",
    "\n",
    "from sklearn.feature_selection import f_classif, mutual_info_classif\n",
    "from sklearn.preprocessing import LabelEncoder, OneHotEncoder, StandardScaler\n",
    "\n",
    "from sklearn.model_selection import train_test_split\n",
    "from sklearn.linear_model import LogisticRegression\n",
    "from sklearn.model_selection import GridSearchCV, RandomizedSearchCV\n",
    "\n",
    "from sklearn.metrics import confusion_matrix\n",
    "from sklearn.metrics import auc, roc_auc_score, roc_curve"
   ]
  },
  {
   "cell_type": "code",
   "execution_count": 2,
   "metadata": {},
   "outputs": [],
   "source": [
    "test = pd.read_csv('test.csv')\n",
    "train = pd.read_csv('train.csv')\n",
    "sample_submission = pd.read_csv('sample_submission.csv')"
   ]
  },
  {
   "cell_type": "code",
   "execution_count": 3,
   "metadata": {},
   "outputs": [
    {
     "name": "stdout",
     "output_type": "stream",
     "text": [
      "набор данных для обучения \n",
      "shape= (73799, 19)\n",
      "набор данных для тестирования \n",
      "shape= (36349, 18)\n"
     ]
    }
   ],
   "source": [
    "print('набор данных для обучения \\nshape=', train.shape)\n",
    "print('набор данных для тестирования \\nshape=', test.shape)"
   ]
  },
  {
   "cell_type": "code",
   "execution_count": 4,
   "metadata": {
    "scrolled": false
   },
   "outputs": [
    {
     "name": "stdout",
     "output_type": "stream",
     "text": [
      "<class 'pandas.core.frame.DataFrame'>\n",
      "RangeIndex: 73799 entries, 0 to 73798\n",
      "Data columns (total 19 columns):\n",
      " #   Column            Non-Null Count  Dtype  \n",
      "---  ------            --------------  -----  \n",
      " 0   client_id         73799 non-null  int64  \n",
      " 1   app_date          73799 non-null  object \n",
      " 2   education         73492 non-null  object \n",
      " 3   sex               73799 non-null  object \n",
      " 4   age               73799 non-null  int64  \n",
      " 5   car               73799 non-null  object \n",
      " 6   car_type          73799 non-null  object \n",
      " 7   decline_app_cnt   73799 non-null  int64  \n",
      " 8   good_work         73799 non-null  int64  \n",
      " 9   score_bki         73799 non-null  float64\n",
      " 10  bki_request_cnt   73799 non-null  int64  \n",
      " 11  region_rating     73799 non-null  int64  \n",
      " 12  home_address      73799 non-null  int64  \n",
      " 13  work_address      73799 non-null  int64  \n",
      " 14  income            73799 non-null  int64  \n",
      " 15  sna               73799 non-null  int64  \n",
      " 16  first_time        73799 non-null  int64  \n",
      " 17  foreign_passport  73799 non-null  object \n",
      " 18  default           73799 non-null  int64  \n",
      "dtypes: float64(1), int64(12), object(6)\n",
      "memory usage: 10.7+ MB\n"
     ]
    }
   ],
   "source": [
    "train.info()"
   ]
  },
  {
   "cell_type": "code",
   "execution_count": 5,
   "metadata": {},
   "outputs": [
    {
     "name": "stdout",
     "output_type": "stream",
     "text": [
      "0    64427\n",
      "1     9372\n",
      "Name: default, dtype: int64\n",
      "Соотношение количество значений 1 к количеству значений 0 в целевой переменной в тренировочной выборке: 14 %\n"
     ]
    }
   ],
   "source": [
    "print(train.default.value_counts())\n",
    "print('Соотношение количество значений 1 к количеству значений 0 в целевой переменной в тренировочной выборке:',\n",
    "      int(train.default.value_counts()[1] / train.default.value_counts()[0] *100), '%')"
   ]
  },
  {
   "cell_type": "code",
   "execution_count": 6,
   "metadata": {
    "scrolled": false
   },
   "outputs": [
    {
     "name": "stdout",
     "output_type": "stream",
     "text": [
      "<class 'pandas.core.frame.DataFrame'>\n",
      "RangeIndex: 36349 entries, 0 to 36348\n",
      "Data columns (total 18 columns):\n",
      " #   Column            Non-Null Count  Dtype  \n",
      "---  ------            --------------  -----  \n",
      " 0   client_id         36349 non-null  int64  \n",
      " 1   app_date          36349 non-null  object \n",
      " 2   education         36178 non-null  object \n",
      " 3   sex               36349 non-null  object \n",
      " 4   age               36349 non-null  int64  \n",
      " 5   car               36349 non-null  object \n",
      " 6   car_type          36349 non-null  object \n",
      " 7   decline_app_cnt   36349 non-null  int64  \n",
      " 8   good_work         36349 non-null  int64  \n",
      " 9   score_bki         36349 non-null  float64\n",
      " 10  bki_request_cnt   36349 non-null  int64  \n",
      " 11  region_rating     36349 non-null  int64  \n",
      " 12  home_address      36349 non-null  int64  \n",
      " 13  work_address      36349 non-null  int64  \n",
      " 14  income            36349 non-null  int64  \n",
      " 15  sna               36349 non-null  int64  \n",
      " 16  first_time        36349 non-null  int64  \n",
      " 17  foreign_passport  36349 non-null  object \n",
      "dtypes: float64(1), int64(11), object(6)\n",
      "memory usage: 5.0+ MB\n"
     ]
    }
   ],
   "source": [
    "test.info()"
   ]
  },
  {
   "cell_type": "code",
   "execution_count": 7,
   "metadata": {},
   "outputs": [
    {
     "data": {
      "text/html": [
       "<div>\n",
       "<style scoped>\n",
       "    .dataframe tbody tr th:only-of-type {\n",
       "        vertical-align: middle;\n",
       "    }\n",
       "\n",
       "    .dataframe tbody tr th {\n",
       "        vertical-align: top;\n",
       "    }\n",
       "\n",
       "    .dataframe thead th {\n",
       "        text-align: right;\n",
       "    }\n",
       "</style>\n",
       "<table border=\"1\" class=\"dataframe\">\n",
       "  <thead>\n",
       "    <tr style=\"text-align: right;\">\n",
       "      <th></th>\n",
       "      <th>client_id</th>\n",
       "      <th>app_date</th>\n",
       "      <th>education</th>\n",
       "      <th>sex</th>\n",
       "      <th>age</th>\n",
       "      <th>car</th>\n",
       "      <th>car_type</th>\n",
       "      <th>decline_app_cnt</th>\n",
       "      <th>good_work</th>\n",
       "      <th>score_bki</th>\n",
       "      <th>bki_request_cnt</th>\n",
       "      <th>region_rating</th>\n",
       "      <th>home_address</th>\n",
       "      <th>work_address</th>\n",
       "      <th>income</th>\n",
       "      <th>sna</th>\n",
       "      <th>first_time</th>\n",
       "      <th>foreign_passport</th>\n",
       "      <th>default</th>\n",
       "      <th>is_test</th>\n",
       "    </tr>\n",
       "  </thead>\n",
       "  <tbody>\n",
       "    <tr>\n",
       "      <th>0</th>\n",
       "      <td>25905</td>\n",
       "      <td>01FEB2014</td>\n",
       "      <td>SCH</td>\n",
       "      <td>M</td>\n",
       "      <td>62</td>\n",
       "      <td>Y</td>\n",
       "      <td>Y</td>\n",
       "      <td>0</td>\n",
       "      <td>0</td>\n",
       "      <td>-2.008753</td>\n",
       "      <td>1</td>\n",
       "      <td>50</td>\n",
       "      <td>1</td>\n",
       "      <td>2</td>\n",
       "      <td>18000</td>\n",
       "      <td>4</td>\n",
       "      <td>1</td>\n",
       "      <td>N</td>\n",
       "      <td>0.0</td>\n",
       "      <td>0</td>\n",
       "    </tr>\n",
       "    <tr>\n",
       "      <th>1</th>\n",
       "      <td>63161</td>\n",
       "      <td>12MAR2014</td>\n",
       "      <td>SCH</td>\n",
       "      <td>F</td>\n",
       "      <td>59</td>\n",
       "      <td>N</td>\n",
       "      <td>N</td>\n",
       "      <td>0</td>\n",
       "      <td>0</td>\n",
       "      <td>-1.532276</td>\n",
       "      <td>3</td>\n",
       "      <td>50</td>\n",
       "      <td>2</td>\n",
       "      <td>3</td>\n",
       "      <td>19000</td>\n",
       "      <td>4</td>\n",
       "      <td>1</td>\n",
       "      <td>N</td>\n",
       "      <td>0.0</td>\n",
       "      <td>0</td>\n",
       "    </tr>\n",
       "    <tr>\n",
       "      <th>2</th>\n",
       "      <td>25887</td>\n",
       "      <td>01FEB2014</td>\n",
       "      <td>SCH</td>\n",
       "      <td>M</td>\n",
       "      <td>25</td>\n",
       "      <td>Y</td>\n",
       "      <td>N</td>\n",
       "      <td>2</td>\n",
       "      <td>0</td>\n",
       "      <td>-1.408142</td>\n",
       "      <td>1</td>\n",
       "      <td>80</td>\n",
       "      <td>1</td>\n",
       "      <td>2</td>\n",
       "      <td>30000</td>\n",
       "      <td>1</td>\n",
       "      <td>4</td>\n",
       "      <td>Y</td>\n",
       "      <td>0.0</td>\n",
       "      <td>0</td>\n",
       "    </tr>\n",
       "    <tr>\n",
       "      <th>3</th>\n",
       "      <td>16222</td>\n",
       "      <td>23JAN2014</td>\n",
       "      <td>SCH</td>\n",
       "      <td>F</td>\n",
       "      <td>53</td>\n",
       "      <td>N</td>\n",
       "      <td>N</td>\n",
       "      <td>0</td>\n",
       "      <td>0</td>\n",
       "      <td>-2.057471</td>\n",
       "      <td>2</td>\n",
       "      <td>50</td>\n",
       "      <td>2</td>\n",
       "      <td>3</td>\n",
       "      <td>10000</td>\n",
       "      <td>1</td>\n",
       "      <td>3</td>\n",
       "      <td>N</td>\n",
       "      <td>0.0</td>\n",
       "      <td>0</td>\n",
       "    </tr>\n",
       "    <tr>\n",
       "      <th>4</th>\n",
       "      <td>101655</td>\n",
       "      <td>18APR2014</td>\n",
       "      <td>GRD</td>\n",
       "      <td>M</td>\n",
       "      <td>48</td>\n",
       "      <td>N</td>\n",
       "      <td>N</td>\n",
       "      <td>0</td>\n",
       "      <td>1</td>\n",
       "      <td>-1.244723</td>\n",
       "      <td>1</td>\n",
       "      <td>60</td>\n",
       "      <td>2</td>\n",
       "      <td>3</td>\n",
       "      <td>30000</td>\n",
       "      <td>1</td>\n",
       "      <td>4</td>\n",
       "      <td>Y</td>\n",
       "      <td>0.0</td>\n",
       "      <td>0</td>\n",
       "    </tr>\n",
       "  </tbody>\n",
       "</table>\n",
       "</div>"
      ],
      "text/plain": [
       "   client_id   app_date education sex  age car car_type  decline_app_cnt  \\\n",
       "0      25905  01FEB2014       SCH   M   62   Y        Y                0   \n",
       "1      63161  12MAR2014       SCH   F   59   N        N                0   \n",
       "2      25887  01FEB2014       SCH   M   25   Y        N                2   \n",
       "3      16222  23JAN2014       SCH   F   53   N        N                0   \n",
       "4     101655  18APR2014       GRD   M   48   N        N                0   \n",
       "\n",
       "   good_work  score_bki  bki_request_cnt  region_rating  home_address  \\\n",
       "0          0  -2.008753                1             50             1   \n",
       "1          0  -1.532276                3             50             2   \n",
       "2          0  -1.408142                1             80             1   \n",
       "3          0  -2.057471                2             50             2   \n",
       "4          1  -1.244723                1             60             2   \n",
       "\n",
       "   work_address  income  sna  first_time foreign_passport  default  is_test  \n",
       "0             2   18000    4           1                N      0.0        0  \n",
       "1             3   19000    4           1                N      0.0        0  \n",
       "2             2   30000    1           4                Y      0.0        0  \n",
       "3             3   10000    1           3                N      0.0        0  \n",
       "4             3   30000    1           4                Y      0.0        0  "
      ]
     },
     "execution_count": 7,
     "metadata": {},
     "output_type": "execute_result"
    }
   ],
   "source": [
    "# Для корректной обработки данных объединим train и test в один датасет\n",
    "\n",
    "train['is_test'] = 0 # помечаем train\n",
    "test['is_test'] = 1 # помечаем test\n",
    "#test['default'] = 1  # imaginary value for now\n",
    "\n",
    "df = train.append(test, sort=False).reset_index(drop=True)\n",
    "df.head()"
   ]
  },
  {
   "cell_type": "code",
   "execution_count": 8,
   "metadata": {
    "scrolled": true
   },
   "outputs": [
    {
     "data": {
      "text/plain": [
       "(110148, 20)"
      ]
     },
     "execution_count": 8,
     "metadata": {},
     "output_type": "execute_result"
    }
   ],
   "source": [
    "df.shape"
   ]
  },
  {
   "cell_type": "markdown",
   "metadata": {},
   "source": [
    "## Заполним пропуски"
   ]
  },
  {
   "cell_type": "code",
   "execution_count": 9,
   "metadata": {},
   "outputs": [
    {
     "data": {
      "text/plain": [
       "client_id               0\n",
       "app_date                0\n",
       "education             478\n",
       "sex                     0\n",
       "age                     0\n",
       "car                     0\n",
       "car_type                0\n",
       "decline_app_cnt         0\n",
       "good_work               0\n",
       "score_bki               0\n",
       "bki_request_cnt         0\n",
       "region_rating           0\n",
       "home_address            0\n",
       "work_address            0\n",
       "income                  0\n",
       "sna                     0\n",
       "first_time              0\n",
       "foreign_passport        0\n",
       "default             36349\n",
       "is_test                 0\n",
       "dtype: int64"
      ]
     },
     "execution_count": 9,
     "metadata": {},
     "output_type": "execute_result"
    }
   ],
   "source": [
    "df.isna().sum()"
   ]
  },
  {
   "cell_type": "code",
   "execution_count": 10,
   "metadata": {},
   "outputs": [
    {
     "data": {
      "text/plain": [
       "SCH    57998\n",
       "GRD    34768\n",
       "UGR    14748\n",
       "PGR     1865\n",
       "ACD      291\n",
       "Name: education, dtype: int64"
      ]
     },
     "execution_count": 10,
     "metadata": {},
     "output_type": "execute_result"
    }
   ],
   "source": [
    "# Пропуски содержатся только в признаке education, default наш целевой признак\n",
    "\n",
    "df.education.value_counts()"
   ]
  },
  {
   "cell_type": "code",
   "execution_count": 11,
   "metadata": {},
   "outputs": [],
   "source": [
    "# Пропуски признака education заполним модой\n",
    "\n",
    "df.education[df.education.isna()] = df.education.mode()[0]"
   ]
  },
  {
   "cell_type": "code",
   "execution_count": 12,
   "metadata": {},
   "outputs": [
    {
     "data": {
      "text/plain": [
       "client_id               0\n",
       "app_date                0\n",
       "education               0\n",
       "sex                     0\n",
       "age                     0\n",
       "car                     0\n",
       "car_type                0\n",
       "decline_app_cnt         0\n",
       "good_work               0\n",
       "score_bki               0\n",
       "bki_request_cnt         0\n",
       "region_rating           0\n",
       "home_address            0\n",
       "work_address            0\n",
       "income                  0\n",
       "sna                     0\n",
       "first_time              0\n",
       "foreign_passport        0\n",
       "default             36349\n",
       "is_test                 0\n",
       "dtype: int64"
      ]
     },
     "execution_count": 12,
     "metadata": {},
     "output_type": "execute_result"
    }
   ],
   "source": [
    "df.isna().sum()"
   ]
  },
  {
   "cell_type": "markdown",
   "metadata": {},
   "source": [
    "## Обработка временного признака"
   ]
  },
  {
   "cell_type": "code",
   "execution_count": 13,
   "metadata": {},
   "outputs": [
    {
     "data": {
      "text/plain": [
       "2014    110148\n",
       "Name: app_date, dtype: int64"
      ]
     },
     "execution_count": 13,
     "metadata": {},
     "output_type": "execute_result"
    }
   ],
   "source": [
    "df.app_date = pd.to_datetime(df.app_date)\n",
    "df.app_date.dt.year.value_counts()"
   ]
  },
  {
   "cell_type": "code",
   "execution_count": 14,
   "metadata": {},
   "outputs": [
    {
     "data": {
      "text/plain": [
       "3    31597\n",
       "2    27097\n",
       "4    26266\n",
       "1    25188\n",
       "Name: app_date, dtype: int64"
      ]
     },
     "execution_count": 14,
     "metadata": {},
     "output_type": "execute_result"
    }
   ],
   "source": [
    "df.app_date.dt.month.value_counts()"
   ]
  },
  {
   "cell_type": "markdown",
   "metadata": {},
   "source": [
    "#### Интервал дат в выборке: январь-апрель 2014. Даты распределены в тренировочной и в тестовой выборках примерно одинаково."
   ]
  },
  {
   "cell_type": "code",
   "execution_count": 15,
   "metadata": {},
   "outputs": [
    {
     "data": {
      "text/plain": [
       "1    18180\n",
       "0    17858\n",
       "2    17581\n",
       "3    17421\n",
       "4    16749\n",
       "5    12202\n",
       "6    10157\n",
       "Name: app_weekday, dtype: int64"
      ]
     },
     "execution_count": 15,
     "metadata": {},
     "output_type": "execute_result"
    }
   ],
   "source": [
    "# Создадим новый признак: день недели подачи заявки \n",
    "\n",
    "df['app_weekday'] = df.app_date.dt.weekday\n",
    "df.app_weekday.value_counts()"
   ]
  },
  {
   "cell_type": "markdown",
   "metadata": {},
   "source": [
    "#### На выходные дни приходится значительно меньше заявок, чем на будни."
   ]
  },
  {
   "cell_type": "code",
   "execution_count": 16,
   "metadata": {},
   "outputs": [],
   "source": [
    "# преобразование даты в число\n",
    "\n",
    "df.app_date = df.app_date.dt.strftime('%m%d').astype('int64')"
   ]
  },
  {
   "cell_type": "code",
   "execution_count": 17,
   "metadata": {},
   "outputs": [],
   "source": [
    "# новый признак: количество заявок в данный день\n",
    "\n",
    "apps_per_date = df.app_date.value_counts()\n",
    "\n",
    "df['apps_per_day'] = df.app_date.map(apps_per_date)"
   ]
  },
  {
   "cell_type": "markdown",
   "metadata": {},
   "source": [
    "### Разделим переменные на группы"
   ]
  },
  {
   "cell_type": "code",
   "execution_count": 18,
   "metadata": {},
   "outputs": [],
   "source": [
    "# бинарные признаки\n",
    "bin_cols = ['sex', 'car', 'car_type', 'good_work', 'foreign_passport']\n",
    "\n",
    "# категориальные признаки\n",
    "cat_cols = ['education', 'home_address', 'work_address',\n",
    "        'sna', 'first_time','app_weekday']\n",
    "\n",
    "# числовые признаки\n",
    "num_cols = ['app_date', 'age', 'decline_app_cnt', 'score_bki',\n",
    "        'bki_request_cnt', 'region_rating', 'income','apps_per_day']"
   ]
  },
  {
   "cell_type": "markdown",
   "metadata": {},
   "source": [
    "## Обработка признаков"
   ]
  },
  {
   "cell_type": "markdown",
   "metadata": {},
   "source": [
    "### Числовые признаки"
   ]
  },
  {
   "cell_type": "code",
   "execution_count": 19,
   "metadata": {},
   "outputs": [
    {
     "data": {
      "image/png": "[encoded data removed]",
      "text/plain": [
       "<Figure size 1800x720 with 9 Axes>"
      ]
     },
     "metadata": {
      "needs_background": "light"
     },
     "output_type": "display_data"
    }
   ],
   "source": [
    "df[df.is_test == 0][num_cols].hist(figsize=(25,10),bins=100);"
   ]
  },
  {
   "cell_type": "code",
   "execution_count": 20,
   "metadata": {},
   "outputs": [
    {
     "data": {
      "image/png": "[encoded data removed]",
      "text/plain": [
       "<Figure size 1800x720 with 9 Axes>"
      ]
     },
     "metadata": {
      "needs_background": "light"
     },
     "output_type": "display_data"
    }
   ],
   "source": [
    "df[df.is_test == 1][num_cols].hist(figsize=(25,10),bins=100);"
   ]
  },
  {
   "cell_type": "markdown",
   "metadata": {},
   "source": [
    "Распределение признаков в тренировочной и тестовой выборках одинаково."
   ]
  },
  {
   "cell_type": "code",
   "execution_count": 21,
   "metadata": {},
   "outputs": [
    {
     "data": {
      "text/plain": [
       "array([[<AxesSubplot:title={'center':'app_date'}>,\n",
       "        <AxesSubplot:title={'center':'age'}>,\n",
       "        <AxesSubplot:title={'center':'decline_app_cnt'}>],\n",
       "       [<AxesSubplot:title={'center':'score_bki'}>,\n",
       "        <AxesSubplot:title={'center':'bki_request_cnt'}>,\n",
       "        <AxesSubplot:title={'center':'region_rating'}>],\n",
       "       [<AxesSubplot:title={'center':'income'}>,\n",
       "        <AxesSubplot:title={'center':'apps_per_day'}>, <AxesSubplot:>]],\n",
       "      dtype=object)"
      ]
     },
     "execution_count": 21,
     "metadata": {},
     "output_type": "execute_result"
    },
    {
     "data": {
      "image/png": "[encoded data removed]",
      "text/plain": [
       "<Figure size 1800x720 with 9 Axes>"
      ]
     },
     "metadata": {
      "needs_background": "light"
     },
     "output_type": "display_data"
    }
   ],
   "source": [
    "# Посмотрим на прологарифмируемые признаки для приближения к виду нормального распределения\n",
    "\n",
    "(np.log(df[num_cols]+1)).hist(figsize=(25,10),bins=100)"
   ]
  },
  {
   "cell_type": "markdown",
   "metadata": {},
   "source": [
    "Некоторые признаки после логарифмирования выглядят более приближенными к виду нормального распеределения."
   ]
  },
  {
   "cell_type": "code",
   "execution_count": 22,
   "metadata": {},
   "outputs": [],
   "source": [
    "# Прологорифмируем выбранные признаки\n",
    "\n",
    "for i in ['age', 'bki_request_cnt', 'decline_app_cnt', 'income']:\n",
    "    df[i] = np.log(df[i]+1)"
   ]
  },
  {
   "cell_type": "code",
   "execution_count": 23,
   "metadata": {},
   "outputs": [
    {
     "data": {
      "text/plain": [
       "<AxesSubplot:>"
      ]
     },
     "execution_count": 23,
     "metadata": {},
     "output_type": "execute_result"
    },
    {
     "data": {
      "image/png": "[encoded data removed]",
      "text/plain": [
       "<Figure size 432x288 with 2 Axes>"
      ]
     },
     "metadata": {
      "needs_background": "light"
     },
     "output_type": "display_data"
    }
   ],
   "source": [
    "sns.heatmap(df[num_cols].corr())"
   ]
  },
  {
   "cell_type": "code",
   "execution_count": 24,
   "metadata": {},
   "outputs": [],
   "source": [
    "# # стандартизация:\n",
    "\n",
    "sscaler = StandardScaler()\n",
    "df[num_cols] = pd.DataFrame(sscaler.fit_transform(df[num_cols]),columns=num_cols)"
   ]
  },
  {
   "cell_type": "code",
   "execution_count": 25,
   "metadata": {},
   "outputs": [
    {
     "data": {
      "text/plain": [
       "<AxesSubplot:>"
      ]
     },
     "execution_count": 25,
     "metadata": {},
     "output_type": "execute_result"
    },
    {
     "data": {
      "image/png": "[encoded data removed]",
      "text/plain": [
       "<Figure size 432x288 with 1 Axes>"
      ]
     },
     "metadata": {
      "needs_background": "light"
     },
     "output_type": "display_data"
    }
   ],
   "source": [
    "# оценка значимости числовых признаков:\n",
    "\n",
    "imp_num = pd.Series(f_classif(df[df.is_test==0][num_cols], df[df.is_test==0]['default'])[0], index = num_cols)\n",
    "imp_num.sort_values(inplace = True)\n",
    "imp_num.plot(kind = 'barh')"
   ]
  },
  {
   "cell_type": "markdown",
   "metadata": {},
   "source": [
    "Из числовых признаков наиболее значимым является score_bki"
   ]
  },
  {
   "cell_type": "markdown",
   "metadata": {},
   "source": [
    "## Бинарные признаки"
   ]
  },
  {
   "cell_type": "code",
   "execution_count": 26,
   "metadata": {},
   "outputs": [],
   "source": [
    "# преобразуем в числа\n",
    "\n",
    "label_encoder = LabelEncoder()\n",
    "\n",
    "for i in bin_cols:\n",
    "    df[i] = label_encoder.fit_transform(df[i])  "
   ]
  },
  {
   "cell_type": "code",
   "execution_count": 27,
   "metadata": {},
   "outputs": [
    {
     "data": {
      "text/plain": [
       "array([[<AxesSubplot:title={'center':'sex'}>,\n",
       "        <AxesSubplot:title={'center':'car'}>],\n",
       "       [<AxesSubplot:title={'center':'car_type'}>,\n",
       "        <AxesSubplot:title={'center':'good_work'}>],\n",
       "       [<AxesSubplot:title={'center':'foreign_passport'}>,\n",
       "        <AxesSubplot:>]], dtype=object)"
      ]
     },
     "execution_count": 27,
     "metadata": {},
     "output_type": "execute_result"
    },
    {
     "data": {
      "image/png": "[encoded data removed]",
      "text/plain": [
       "<Figure size 432x288 with 6 Axes>"
      ]
     },
     "metadata": {
      "needs_background": "light"
     },
     "output_type": "display_data"
    }
   ],
   "source": [
    "df[bin_cols].hist(bins=2)"
   ]
  },
  {
   "cell_type": "code",
   "execution_count": 28,
   "metadata": {},
   "outputs": [
    {
     "data": {
      "text/html": [
       "<div>\n",
       "<style scoped>\n",
       "    .dataframe tbody tr th:only-of-type {\n",
       "        vertical-align: middle;\n",
       "    }\n",
       "\n",
       "    .dataframe tbody tr th {\n",
       "        vertical-align: top;\n",
       "    }\n",
       "\n",
       "    .dataframe thead th {\n",
       "        text-align: right;\n",
       "    }\n",
       "</style>\n",
       "<table border=\"1\" class=\"dataframe\">\n",
       "  <thead>\n",
       "    <tr style=\"text-align: right;\">\n",
       "      <th></th>\n",
       "      <th>sex</th>\n",
       "      <th>car</th>\n",
       "      <th>car_type</th>\n",
       "      <th>good_work</th>\n",
       "      <th>foreign_passport</th>\n",
       "    </tr>\n",
       "  </thead>\n",
       "  <tbody>\n",
       "    <tr>\n",
       "      <th>count</th>\n",
       "      <td>110148.000000</td>\n",
       "      <td>110148.000000</td>\n",
       "      <td>110148.000000</td>\n",
       "      <td>110148.000000</td>\n",
       "      <td>110148.000000</td>\n",
       "    </tr>\n",
       "    <tr>\n",
       "      <th>mean</th>\n",
       "      <td>0.438610</td>\n",
       "      <td>0.325544</td>\n",
       "      <td>0.190725</td>\n",
       "      <td>0.165514</td>\n",
       "      <td>0.149136</td>\n",
       "    </tr>\n",
       "    <tr>\n",
       "      <th>std</th>\n",
       "      <td>0.496219</td>\n",
       "      <td>0.468580</td>\n",
       "      <td>0.392875</td>\n",
       "      <td>0.371645</td>\n",
       "      <td>0.356224</td>\n",
       "    </tr>\n",
       "    <tr>\n",
       "      <th>min</th>\n",
       "      <td>0.000000</td>\n",
       "      <td>0.000000</td>\n",
       "      <td>0.000000</td>\n",
       "      <td>0.000000</td>\n",
       "      <td>0.000000</td>\n",
       "    </tr>\n",
       "    <tr>\n",
       "      <th>25%</th>\n",
       "      <td>0.000000</td>\n",
       "      <td>0.000000</td>\n",
       "      <td>0.000000</td>\n",
       "      <td>0.000000</td>\n",
       "      <td>0.000000</td>\n",
       "    </tr>\n",
       "    <tr>\n",
       "      <th>50%</th>\n",
       "      <td>0.000000</td>\n",
       "      <td>0.000000</td>\n",
       "      <td>0.000000</td>\n",
       "      <td>0.000000</td>\n",
       "      <td>0.000000</td>\n",
       "    </tr>\n",
       "    <tr>\n",
       "      <th>75%</th>\n",
       "      <td>1.000000</td>\n",
       "      <td>1.000000</td>\n",
       "      <td>0.000000</td>\n",
       "      <td>0.000000</td>\n",
       "      <td>0.000000</td>\n",
       "    </tr>\n",
       "    <tr>\n",
       "      <th>max</th>\n",
       "      <td>1.000000</td>\n",
       "      <td>1.000000</td>\n",
       "      <td>1.000000</td>\n",
       "      <td>1.000000</td>\n",
       "      <td>1.000000</td>\n",
       "    </tr>\n",
       "  </tbody>\n",
       "</table>\n",
       "</div>"
      ],
      "text/plain": [
       "                 sex            car       car_type      good_work  \\\n",
       "count  110148.000000  110148.000000  110148.000000  110148.000000   \n",
       "mean        0.438610       0.325544       0.190725       0.165514   \n",
       "std         0.496219       0.468580       0.392875       0.371645   \n",
       "min         0.000000       0.000000       0.000000       0.000000   \n",
       "25%         0.000000       0.000000       0.000000       0.000000   \n",
       "50%         0.000000       0.000000       0.000000       0.000000   \n",
       "75%         1.000000       1.000000       0.000000       0.000000   \n",
       "max         1.000000       1.000000       1.000000       1.000000   \n",
       "\n",
       "       foreign_passport  \n",
       "count     110148.000000  \n",
       "mean           0.149136  \n",
       "std            0.356224  \n",
       "min            0.000000  \n",
       "25%            0.000000  \n",
       "50%            0.000000  \n",
       "75%            0.000000  \n",
       "max            1.000000  "
      ]
     },
     "execution_count": 28,
     "metadata": {},
     "output_type": "execute_result"
    }
   ],
   "source": [
    "df[bin_cols].describe()"
   ]
  },
  {
   "cell_type": "code",
   "execution_count": 29,
   "metadata": {},
   "outputs": [
    {
     "data": {
      "text/plain": [
       "<AxesSubplot:>"
      ]
     },
     "execution_count": 29,
     "metadata": {},
     "output_type": "execute_result"
    },
    {
     "data": {
      "image/png": "[encoded data removed]",
      "text/plain": [
       "<Figure size 432x288 with 1 Axes>"
      ]
     },
     "metadata": {
      "needs_background": "light"
     },
     "output_type": "display_data"
    }
   ],
   "source": [
    "# оценка значимости бинарных признаков:\n",
    "\n",
    "imp_bin = pd.Series(mutual_info_classif(df[df.is_test == 0][bin_cols], df[df.is_test == 0]['default'],\n",
    "                                        discrete_features=True), index=bin_cols)\n",
    "imp_bin.sort_values(inplace=True)\n",
    "imp_bin.plot(kind='barh')"
   ]
  },
  {
   "cell_type": "markdown",
   "metadata": {},
   "source": [
    "Из бинарных признаков наиболее значимыми являются foreign_passport и car_type."
   ]
  },
  {
   "cell_type": "markdown",
   "metadata": {},
   "source": [
    "## Категориальные признаки"
   ]
  },
  {
   "cell_type": "code",
   "execution_count": 30,
   "metadata": {},
   "outputs": [
    {
     "name": "stdout",
     "output_type": "stream",
     "text": [
      "<class 'pandas.core.frame.DataFrame'>\n",
      "RangeIndex: 110148 entries, 0 to 110147\n",
      "Data columns (total 6 columns):\n",
      " #   Column        Non-Null Count   Dtype \n",
      "---  ------        --------------   ----- \n",
      " 0   education     110148 non-null  object\n",
      " 1   home_address  110148 non-null  int64 \n",
      " 2   work_address  110148 non-null  int64 \n",
      " 3   sna           110148 non-null  int64 \n",
      " 4   first_time    110148 non-null  int64 \n",
      " 5   app_weekday   110148 non-null  int64 \n",
      "dtypes: int64(5), object(1)\n",
      "memory usage: 5.0+ MB\n"
     ]
    }
   ],
   "source": [
    "df[cat_cols].info()"
   ]
  },
  {
   "cell_type": "code",
   "execution_count": 31,
   "metadata": {},
   "outputs": [],
   "source": [
    "# mutual_info_classif сначала требует, чтобы категориальные значения были сопоставлены с целочисленными значениями,\n",
    "# и нам в этом помешал 'education'\n",
    "# Преобразуйте этот признак в численный формат\n",
    "\n",
    "df['education'] = label_encoder.fit_transform(df['education'])"
   ]
  },
  {
   "cell_type": "code",
   "execution_count": 32,
   "metadata": {},
   "outputs": [
    {
     "data": {
      "text/plain": [
       "<AxesSubplot:>"
      ]
     },
     "execution_count": 32,
     "metadata": {},
     "output_type": "execute_result"
    },
    {
     "data": {
      "image/png": "[encoded data removed]",
      "text/plain": [
       "<Figure size 432x288 with 1 Axes>"
      ]
     },
     "metadata": {
      "needs_background": "light"
     },
     "output_type": "display_data"
    }
   ],
   "source": [
    "# определите важность признаков.\n",
    "\n",
    "imp_cat = pd.Series(mutual_info_classif(df[df.is_test == 0][cat_cols], df[df.is_test == 0]['default'],\n",
    "                                        discrete_features=True), index=cat_cols)\n",
    "imp_cat.sort_values(inplace=True)\n",
    "imp_cat.plot(kind='barh')"
   ]
  },
  {
   "cell_type": "code",
   "execution_count": 33,
   "metadata": {},
   "outputs": [],
   "source": [
    "# на основе категориальных признаков сознадим dummy переменные\n",
    "\n",
    "df_dummies = pd.get_dummies(df[cat_cols].astype('object'))"
   ]
  },
  {
   "cell_type": "code",
   "execution_count": 34,
   "metadata": {},
   "outputs": [],
   "source": [
    "dummy_cols = df_dummies.columns\n",
    "df = pd.concat([df, df_dummies], axis=1)"
   ]
  },
  {
   "cell_type": "code",
   "execution_count": 35,
   "metadata": {},
   "outputs": [],
   "source": [
    "# т.к. категориальные признаки заменены избавися от них\n",
    "\n",
    "df.drop(columns=cat_cols, inplace=True)"
   ]
  },
  {
   "cell_type": "code",
   "execution_count": 36,
   "metadata": {},
   "outputs": [
    {
     "name": "stdout",
     "output_type": "stream",
     "text": [
      "<class 'pandas.core.frame.DataFrame'>\n",
      "RangeIndex: 110148 entries, 0 to 110147\n",
      "Data columns (total 42 columns):\n",
      " #   Column            Non-Null Count   Dtype  \n",
      "---  ------            --------------   -----  \n",
      " 0   client_id         110148 non-null  int64  \n",
      " 1   app_date          110148 non-null  float64\n",
      " 2   sex               110148 non-null  int32  \n",
      " 3   age               110148 non-null  float64\n",
      " 4   car               110148 non-null  int32  \n",
      " 5   car_type          110148 non-null  int32  \n",
      " 6   decline_app_cnt   110148 non-null  float64\n",
      " 7   good_work         110148 non-null  int64  \n",
      " 8   score_bki         110148 non-null  float64\n",
      " 9   bki_request_cnt   110148 non-null  float64\n",
      " 10  region_rating     110148 non-null  float64\n",
      " 11  income            110148 non-null  float64\n",
      " 12  foreign_passport  110148 non-null  int32  \n",
      " 13  default           73799 non-null   float64\n",
      " 14  is_test           110148 non-null  int64  \n",
      " 15  apps_per_day      110148 non-null  float64\n",
      " 16  education_0       110148 non-null  uint8  \n",
      " 17  education_1       110148 non-null  uint8  \n",
      " 18  education_2       110148 non-null  uint8  \n",
      " 19  education_3       110148 non-null  uint8  \n",
      " 20  education_4       110148 non-null  uint8  \n",
      " 21  home_address_1    110148 non-null  uint8  \n",
      " 22  home_address_2    110148 non-null  uint8  \n",
      " 23  home_address_3    110148 non-null  uint8  \n",
      " 24  work_address_1    110148 non-null  uint8  \n",
      " 25  work_address_2    110148 non-null  uint8  \n",
      " 26  work_address_3    110148 non-null  uint8  \n",
      " 27  sna_1             110148 non-null  uint8  \n",
      " 28  sna_2             110148 non-null  uint8  \n",
      " 29  sna_3             110148 non-null  uint8  \n",
      " 30  sna_4             110148 non-null  uint8  \n",
      " 31  first_time_1      110148 non-null  uint8  \n",
      " 32  first_time_2      110148 non-null  uint8  \n",
      " 33  first_time_3      110148 non-null  uint8  \n",
      " 34  first_time_4      110148 non-null  uint8  \n",
      " 35  app_weekday_0     110148 non-null  uint8  \n",
      " 36  app_weekday_1     110148 non-null  uint8  \n",
      " 37  app_weekday_2     110148 non-null  uint8  \n",
      " 38  app_weekday_3     110148 non-null  uint8  \n",
      " 39  app_weekday_4     110148 non-null  uint8  \n",
      " 40  app_weekday_5     110148 non-null  uint8  \n",
      " 41  app_weekday_6     110148 non-null  uint8  \n",
      "dtypes: float64(9), int32(4), int64(3), uint8(26)\n",
      "memory usage: 14.5 MB\n"
     ]
    }
   ],
   "source": [
    "df.info()"
   ]
  },
  {
   "cell_type": "code",
   "execution_count": 37,
   "metadata": {},
   "outputs": [],
   "source": [
    "cat_cols=dummy_cols"
   ]
  },
  {
   "cell_type": "markdown",
   "metadata": {},
   "source": [
    "## Модель"
   ]
  },
  {
   "cell_type": "code",
   "execution_count": 38,
   "metadata": {},
   "outputs": [],
   "source": [
    "X = df[df.is_test == 0].drop(columns=['client_id','default'])\n",
    "Y = df[df.is_test == 0]['default']\n",
    "\n",
    "x_pred = df[df.is_test == 1].drop(columns=['client_id','default'])\n",
    "\n",
    "# Разделим выборку на train и test\n",
    "X_train, X_test, Y_train, Y_test = train_test_split(X, Y, test_size=0.2, random_state = 42)\n",
    "\n",
    "model = LogisticRegression(random_state=42, max_iter=10000)\n",
    "model.fit(X_train, Y_train)\n",
    "\n",
    "probs = model.predict_proba(X_test)\n",
    "probs = probs[:,1]"
   ]
  },
  {
   "cell_type": "code",
   "execution_count": 39,
   "metadata": {},
   "outputs": [
    {
     "data": {
      "image/png": "[encoded data removed]",
      "text/plain": [
       "<Figure size 432x288 with 1 Axes>"
      ]
     },
     "metadata": {
      "needs_background": "light"
     },
     "output_type": "display_data"
    }
   ],
   "source": [
    "fpr, tpr, threshold = roc_curve(Y_test, probs)\n",
    "roc_auc = roc_auc_score(Y_test, probs)\n",
    "\n",
    "plt.figure()\n",
    "plt.plot([0, 1], label='Baseline', linestyle='--')\n",
    "plt.plot(fpr, tpr, label='Regression')\n",
    "plt.title('Logistic Regression ROC AUC = %0.5f' % roc_auc)\n",
    "plt.ylabel('True Positive Rate')\n",
    "plt.xlabel('False Positive Rate')\n",
    "plt.legend(loc='lower right')\n",
    "plt.show()"
   ]
  },
  {
   "cell_type": "code",
   "execution_count": 53,
   "metadata": {},
   "outputs": [],
   "source": [
    "y_pred = model.predict(X_test)"
   ]
  },
  {
   "cell_type": "code",
   "execution_count": 52,
   "metadata": {},
   "outputs": [
    {
     "data": {
      "text/plain": [
       "0.0    14657\n",
       "1.0      103\n",
       "dtype: int64"
      ]
     },
     "execution_count": 52,
     "metadata": {},
     "output_type": "execute_result"
    }
   ],
   "source": [
    "pd.Series(y_pred).value_counts()"
   ]
  },
  {
   "cell_type": "code",
   "execution_count": 42,
   "metadata": {},
   "outputs": [
    {
     "data": {
      "text/plain": [
       "count    14760.000000\n",
       "mean         0.127240\n",
       "std          0.099269\n",
       "min          0.004625\n",
       "25%          0.056245\n",
       "50%          0.098319\n",
       "75%          0.168336\n",
       "max          0.815053\n",
       "dtype: float64"
      ]
     },
     "execution_count": 42,
     "metadata": {},
     "output_type": "execute_result"
    }
   ],
   "source": [
    "pd.Series(probs).describe()"
   ]
  },
  {
   "cell_type": "code",
   "execution_count": 44,
   "metadata": {},
   "outputs": [
    {
     "data": {
      "text/plain": [
       "<AxesSubplot:>"
      ]
     },
     "execution_count": 44,
     "metadata": {},
     "output_type": "execute_result"
    },
    {
     "data": {
      "image/png": "[encoded data removed]",
      "text/plain": [
       "<Figure size 432x288 with 2 Axes>"
      ]
     },
     "metadata": {
      "needs_background": "light"
     },
     "output_type": "display_data"
    }
   ],
   "source": [
    "# Визуализация confusion matrix:\n",
    "\n",
    "sns.set_context(context='paper', font_scale=2, rc=None)\n",
    "group_names = ['True Neg', 'False Pos', 'False Neg', 'True Pos']\n",
    "group_counts = ['{0:0.0f}'.format(value) for value in\n",
    "                confusion_matrix(Y_test, y_pred).flatten()]\n",
    "labels = [f'{v1}\\n{v2}' for v1, v2 in\n",
    "          zip(group_names, group_counts)]\n",
    "labels = np.asarray(labels).reshape(2, 2)\n",
    "sns.heatmap(confusion_matrix(Y_test, y_pred), annot=labels, fmt='', cmap='Blues')"
   ]
  },
  {
   "cell_type": "markdown",
   "metadata": {},
   "source": [
    "Mожно сделать вывод, что почти во всех случаях, когда клиент не способен выплатить кредит - модель все равно его выдаст. Данное решение приведет к падению доходов банка. Попробуем найти оптимальные гиперпараметры."
   ]
  },
  {
   "cell_type": "code",
   "execution_count": 45,
   "metadata": {},
   "outputs": [
    {
     "name": "stdout",
     "output_type": "stream",
     "text": [
      "Лучшее Penalty: l2\n",
      "Лучшее C: 1.0\n"
     ]
    }
   ],
   "source": [
    "# Добавим типы регуляризации\n",
    "penalty = ['l2']\n",
    "\n",
    "# Зададим ограничения для параметра регуляризации\n",
    "C = np.logspace(0, 2, 20)\n",
    "\n",
    "# Создадим гиперпараметры\n",
    "hyperparameters = dict(C=C, penalty=penalty)\n",
    "\n",
    "# Создаем сетку поиска с использованием 5-кратной перекрестной проверки\n",
    "model = LogisticRegression(random_state=42, max_iter=10000)\n",
    "clf = GridSearchCV(model, hyperparameters, cv=5, verbose=0)\n",
    "\n",
    "best_model = clf.fit(X_train, Y_train)\n",
    "\n",
    "# View best hyperparameters\n",
    "print('Лучшее Penalty:', best_model.best_estimator_.get_params()['penalty'])\n",
    "print('Лучшее C:', best_model.best_estimator_.get_params()['C'])"
   ]
  },
  {
   "cell_type": "code",
   "execution_count": 46,
   "metadata": {},
   "outputs": [],
   "source": [
    "p = best_model.best_estimator_.get_params()['penalty']\n",
    "c = best_model.best_estimator_.get_params()['C']"
   ]
  },
  {
   "cell_type": "code",
   "execution_count": 50,
   "metadata": {},
   "outputs": [
    {
     "data": {
      "image/png": "[encoded data removed]",
      "text/plain": [
       "<Figure size 432x288 with 1 Axes>"
      ]
     },
     "metadata": {
      "needs_background": "light"
     },
     "output_type": "display_data"
    }
   ],
   "source": [
    "model = LogisticRegression(penalty=p,C=c, random_state=42, max_iter=10000).fit(X_train, Y_train)\n",
    "\n",
    "probs = model.predict_proba(X_test)[:,1]\n",
    "\n",
    "fpr, tpr, threshold = roc_curve(Y_test, probs)\n",
    "roc_auc = roc_auc_score(Y_test, probs)\n",
    "\n",
    "plt.figure()\n",
    "plt.plot([0, 1], label='Baseline', linestyle='--')\n",
    "plt.plot(fpr, tpr, label='Regression')\n",
    "plt.title('Logistic Regression ROC AUC = %0.5f' % roc_auc)\n",
    "plt.ylabel('True Positive Rate')\n",
    "plt.xlabel('False Positive Rate')\n",
    "plt.legend(loc='lower right')\n",
    "plt.show()"
   ]
  },
  {
   "cell_type": "markdown",
   "metadata": {},
   "source": [
    "Регуляризация не показала видимого улучшения качества модели."
   ]
  },
  {
   "cell_type": "code",
   "execution_count": 48,
   "metadata": {},
   "outputs": [
    {
     "name": "stdout",
     "output_type": "stream",
     "text": [
      "accuracy_score: 0.8753\n",
      "f1_score: 0.0466\n",
      "recall_score: 0.0246\n",
      "MSE: 0.1247\n"
     ]
    }
   ],
   "source": [
    "print('accuracy_score: {}'.format(np.round(accuracy_score(Y_test, y_pred), 4)))\n",
    "print('f1_score: {}'.format(np.round(f1_score(Y_test, y_pred), 4)))\n",
    "print('recall_score: {}'.format(np.round(recall_score(Y_test, y_pred), 4)))\n",
    "print('MSE: {}'.format(np.round(mean_squared_error(Y_test, y_pred), 4)))"
   ]
  },
  {
   "cell_type": "markdown",
   "metadata": {},
   "source": [
    "## Результат"
   ]
  },
  {
   "cell_type": "code",
   "execution_count": 54,
   "metadata": {},
   "outputs": [],
   "source": [
    "y_pred = model.predict(x_pred)"
   ]
  },
  {
   "cell_type": "code",
   "execution_count": 55,
   "metadata": {},
   "outputs": [],
   "source": [
    "y_pred_proba = model.predict_proba(x_pred)"
   ]
  },
  {
   "cell_type": "code",
   "execution_count": 56,
   "metadata": {},
   "outputs": [
    {
     "data": {
      "text/html": [
       "<div>\n",
       "<style scoped>\n",
       "    .dataframe tbody tr th:only-of-type {\n",
       "        vertical-align: middle;\n",
       "    }\n",
       "\n",
       "    .dataframe tbody tr th {\n",
       "        vertical-align: top;\n",
       "    }\n",
       "\n",
       "    .dataframe thead th {\n",
       "        text-align: right;\n",
       "    }\n",
       "</style>\n",
       "<table border=\"1\" class=\"dataframe\">\n",
       "  <thead>\n",
       "    <tr style=\"text-align: right;\">\n",
       "      <th></th>\n",
       "      <th>app_date</th>\n",
       "      <th>sex</th>\n",
       "      <th>age</th>\n",
       "      <th>car</th>\n",
       "      <th>car_type</th>\n",
       "      <th>decline_app_cnt</th>\n",
       "      <th>good_work</th>\n",
       "      <th>score_bki</th>\n",
       "      <th>bki_request_cnt</th>\n",
       "      <th>region_rating</th>\n",
       "      <th>...</th>\n",
       "      <th>first_time_2</th>\n",
       "      <th>first_time_3</th>\n",
       "      <th>first_time_4</th>\n",
       "      <th>app_weekday_0</th>\n",
       "      <th>app_weekday_1</th>\n",
       "      <th>app_weekday_2</th>\n",
       "      <th>app_weekday_3</th>\n",
       "      <th>app_weekday_4</th>\n",
       "      <th>app_weekday_5</th>\n",
       "      <th>app_weekday_6</th>\n",
       "    </tr>\n",
       "  </thead>\n",
       "  <tbody>\n",
       "    <tr>\n",
       "      <th>73799</th>\n",
       "      <td>0.487897</td>\n",
       "      <td>1</td>\n",
       "      <td>-0.888776</td>\n",
       "      <td>1</td>\n",
       "      <td>1</td>\n",
       "      <td>-0.418815</td>\n",
       "      <td>0</td>\n",
       "      <td>-0.735587</td>\n",
       "      <td>0.770563</td>\n",
       "      <td>-0.516704</td>\n",
       "      <td>...</td>\n",
       "      <td>0</td>\n",
       "      <td>0</td>\n",
       "      <td>1</td>\n",
       "      <td>0</td>\n",
       "      <td>0</td>\n",
       "      <td>0</td>\n",
       "      <td>0</td>\n",
       "      <td>0</td>\n",
       "      <td>1</td>\n",
       "      <td>0</td>\n",
       "    </tr>\n",
       "    <tr>\n",
       "      <th>73800</th>\n",
       "      <td>-1.351115</td>\n",
       "      <td>0</td>\n",
       "      <td>0.120447</td>\n",
       "      <td>0</td>\n",
       "      <td>0</td>\n",
       "      <td>4.539989</td>\n",
       "      <td>0</td>\n",
       "      <td>0.800039</td>\n",
       "      <td>0.333797</td>\n",
       "      <td>-0.516704</td>\n",
       "      <td>...</td>\n",
       "      <td>0</td>\n",
       "      <td>1</td>\n",
       "      <td>0</td>\n",
       "      <td>0</td>\n",
       "      <td>0</td>\n",
       "      <td>0</td>\n",
       "      <td>0</td>\n",
       "      <td>1</td>\n",
       "      <td>0</td>\n",
       "      <td>0</td>\n",
       "    </tr>\n",
       "    <tr>\n",
       "      <th>73801</th>\n",
       "      <td>0.497185</td>\n",
       "      <td>1</td>\n",
       "      <td>0.972731</td>\n",
       "      <td>1</td>\n",
       "      <td>1</td>\n",
       "      <td>-0.418815</td>\n",
       "      <td>0</td>\n",
       "      <td>0.426908</td>\n",
       "      <td>-0.281790</td>\n",
       "      <td>-0.516704</td>\n",
       "      <td>...</td>\n",
       "      <td>0</td>\n",
       "      <td>1</td>\n",
       "      <td>0</td>\n",
       "      <td>0</td>\n",
       "      <td>0</td>\n",
       "      <td>0</td>\n",
       "      <td>0</td>\n",
       "      <td>0</td>\n",
       "      <td>0</td>\n",
       "      <td>1</td>\n",
       "    </tr>\n",
       "    <tr>\n",
       "      <th>73802</th>\n",
       "      <td>-0.617368</td>\n",
       "      <td>1</td>\n",
       "      <td>1.362924</td>\n",
       "      <td>0</td>\n",
       "      <td>0</td>\n",
       "      <td>-0.418815</td>\n",
       "      <td>0</td>\n",
       "      <td>-0.940432</td>\n",
       "      <td>-0.281790</td>\n",
       "      <td>-1.282058</td>\n",
       "      <td>...</td>\n",
       "      <td>0</td>\n",
       "      <td>1</td>\n",
       "      <td>0</td>\n",
       "      <td>1</td>\n",
       "      <td>0</td>\n",
       "      <td>0</td>\n",
       "      <td>0</td>\n",
       "      <td>0</td>\n",
       "      <td>0</td>\n",
       "      <td>0</td>\n",
       "    </tr>\n",
       "    <tr>\n",
       "      <th>73803</th>\n",
       "      <td>-0.608080</td>\n",
       "      <td>0</td>\n",
       "      <td>0.031629</td>\n",
       "      <td>0</td>\n",
       "      <td>0</td>\n",
       "      <td>-0.418815</td>\n",
       "      <td>0</td>\n",
       "      <td>-1.167347</td>\n",
       "      <td>-1.334144</td>\n",
       "      <td>1.779355</td>\n",
       "      <td>...</td>\n",
       "      <td>0</td>\n",
       "      <td>1</td>\n",
       "      <td>0</td>\n",
       "      <td>0</td>\n",
       "      <td>1</td>\n",
       "      <td>0</td>\n",
       "      <td>0</td>\n",
       "      <td>0</td>\n",
       "      <td>0</td>\n",
       "      <td>0</td>\n",
       "    </tr>\n",
       "    <tr>\n",
       "      <th>...</th>\n",
       "      <td>...</td>\n",
       "      <td>...</td>\n",
       "      <td>...</td>\n",
       "      <td>...</td>\n",
       "      <td>...</td>\n",
       "      <td>...</td>\n",
       "      <td>...</td>\n",
       "      <td>...</td>\n",
       "      <td>...</td>\n",
       "      <td>...</td>\n",
       "      <td>...</td>\n",
       "      <td>...</td>\n",
       "      <td>...</td>\n",
       "      <td>...</td>\n",
       "      <td>...</td>\n",
       "      <td>...</td>\n",
       "      <td>...</td>\n",
       "      <td>...</td>\n",
       "      <td>...</td>\n",
       "      <td>...</td>\n",
       "      <td>...</td>\n",
       "    </tr>\n",
       "    <tr>\n",
       "      <th>110143</th>\n",
       "      <td>0.571488</td>\n",
       "      <td>0</td>\n",
       "      <td>-0.059496</td>\n",
       "      <td>0</td>\n",
       "      <td>0</td>\n",
       "      <td>1.499512</td>\n",
       "      <td>0</td>\n",
       "      <td>0.319505</td>\n",
       "      <td>0.770563</td>\n",
       "      <td>-0.516704</td>\n",
       "      <td>...</td>\n",
       "      <td>0</td>\n",
       "      <td>0</td>\n",
       "      <td>0</td>\n",
       "      <td>1</td>\n",
       "      <td>0</td>\n",
       "      <td>0</td>\n",
       "      <td>0</td>\n",
       "      <td>0</td>\n",
       "      <td>0</td>\n",
       "      <td>0</td>\n",
       "    </tr>\n",
       "    <tr>\n",
       "      <th>110144</th>\n",
       "      <td>1.444554</td>\n",
       "      <td>0</td>\n",
       "      <td>1.823666</td>\n",
       "      <td>1</td>\n",
       "      <td>1</td>\n",
       "      <td>-0.418815</td>\n",
       "      <td>0</td>\n",
       "      <td>-0.779436</td>\n",
       "      <td>0.770563</td>\n",
       "      <td>0.248649</td>\n",
       "      <td>...</td>\n",
       "      <td>0</td>\n",
       "      <td>0</td>\n",
       "      <td>1</td>\n",
       "      <td>0</td>\n",
       "      <td>0</td>\n",
       "      <td>0</td>\n",
       "      <td>0</td>\n",
       "      <td>1</td>\n",
       "      <td>0</td>\n",
       "      <td>0</td>\n",
       "    </tr>\n",
       "    <tr>\n",
       "      <th>110145</th>\n",
       "      <td>0.562200</td>\n",
       "      <td>1</td>\n",
       "      <td>-0.662367</td>\n",
       "      <td>0</td>\n",
       "      <td>0</td>\n",
       "      <td>2.621662</td>\n",
       "      <td>0</td>\n",
       "      <td>1.929901</td>\n",
       "      <td>-0.281790</td>\n",
       "      <td>-0.516704</td>\n",
       "      <td>...</td>\n",
       "      <td>1</td>\n",
       "      <td>0</td>\n",
       "      <td>0</td>\n",
       "      <td>0</td>\n",
       "      <td>0</td>\n",
       "      <td>0</td>\n",
       "      <td>0</td>\n",
       "      <td>0</td>\n",
       "      <td>0</td>\n",
       "      <td>1</td>\n",
       "    </tr>\n",
       "    <tr>\n",
       "      <th>110146</th>\n",
       "      <td>-1.509010</td>\n",
       "      <td>0</td>\n",
       "      <td>-1.130811</td>\n",
       "      <td>0</td>\n",
       "      <td>0</td>\n",
       "      <td>1.499512</td>\n",
       "      <td>0</td>\n",
       "      <td>1.325890</td>\n",
       "      <td>0.333797</td>\n",
       "      <td>1.779355</td>\n",
       "      <td>...</td>\n",
       "      <td>0</td>\n",
       "      <td>0</td>\n",
       "      <td>0</td>\n",
       "      <td>0</td>\n",
       "      <td>1</td>\n",
       "      <td>0</td>\n",
       "      <td>0</td>\n",
       "      <td>0</td>\n",
       "      <td>0</td>\n",
       "      <td>0</td>\n",
       "    </tr>\n",
       "    <tr>\n",
       "      <th>110147</th>\n",
       "      <td>0.441457</td>\n",
       "      <td>1</td>\n",
       "      <td>0.031629</td>\n",
       "      <td>0</td>\n",
       "      <td>0</td>\n",
       "      <td>-0.418815</td>\n",
       "      <td>0</td>\n",
       "      <td>0.794933</td>\n",
       "      <td>0.333797</td>\n",
       "      <td>-0.516704</td>\n",
       "      <td>...</td>\n",
       "      <td>1</td>\n",
       "      <td>0</td>\n",
       "      <td>0</td>\n",
       "      <td>1</td>\n",
       "      <td>0</td>\n",
       "      <td>0</td>\n",
       "      <td>0</td>\n",
       "      <td>0</td>\n",
       "      <td>0</td>\n",
       "      <td>0</td>\n",
       "    </tr>\n",
       "  </tbody>\n",
       "</table>\n",
       "<p>36349 rows × 40 columns</p>\n",
       "</div>"
      ],
      "text/plain": [
       "        app_date  sex       age  car  car_type  decline_app_cnt  good_work  \\\n",
       "73799   0.487897    1 -0.888776    1         1        -0.418815          0   \n",
       "73800  -1.351115    0  0.120447    0         0         4.539989          0   \n",
       "73801   0.497185    1  0.972731    1         1        -0.418815          0   \n",
       "73802  -0.617368    1  1.362924    0         0        -0.418815          0   \n",
       "73803  -0.608080    0  0.031629    0         0        -0.418815          0   \n",
       "...          ...  ...       ...  ...       ...              ...        ...   \n",
       "110143  0.571488    0 -0.059496    0         0         1.499512          0   \n",
       "110144  1.444554    0  1.823666    1         1        -0.418815          0   \n",
       "110145  0.562200    1 -0.662367    0         0         2.621662          0   \n",
       "110146 -1.509010    0 -1.130811    0         0         1.499512          0   \n",
       "110147  0.441457    1  0.031629    0         0        -0.418815          0   \n",
       "\n",
       "        score_bki  bki_request_cnt  region_rating  ...  first_time_2  \\\n",
       "73799   -0.735587         0.770563      -0.516704  ...             0   \n",
       "73800    0.800039         0.333797      -0.516704  ...             0   \n",
       "73801    0.426908        -0.281790      -0.516704  ...             0   \n",
       "73802   -0.940432        -0.281790      -1.282058  ...             0   \n",
       "73803   -1.167347        -1.334144       1.779355  ...             0   \n",
       "...           ...              ...            ...  ...           ...   \n",
       "110143   0.319505         0.770563      -0.516704  ...             0   \n",
       "110144  -0.779436         0.770563       0.248649  ...             0   \n",
       "110145   1.929901        -0.281790      -0.516704  ...             1   \n",
       "110146   1.325890         0.333797       1.779355  ...             0   \n",
       "110147   0.794933         0.333797      -0.516704  ...             1   \n",
       "\n",
       "        first_time_3  first_time_4  app_weekday_0  app_weekday_1  \\\n",
       "73799              0             1              0              0   \n",
       "73800              1             0              0              0   \n",
       "73801              1             0              0              0   \n",
       "73802              1             0              1              0   \n",
       "73803              1             0              0              1   \n",
       "...              ...           ...            ...            ...   \n",
       "110143             0             0              1              0   \n",
       "110144             0             1              0              0   \n",
       "110145             0             0              0              0   \n",
       "110146             0             0              0              1   \n",
       "110147             0             0              1              0   \n",
       "\n",
       "        app_weekday_2  app_weekday_3  app_weekday_4  app_weekday_5  \\\n",
       "73799               0              0              0              1   \n",
       "73800               0              0              1              0   \n",
       "73801               0              0              0              0   \n",
       "73802               0              0              0              0   \n",
       "73803               0              0              0              0   \n",
       "...               ...            ...            ...            ...   \n",
       "110143              0              0              0              0   \n",
       "110144              0              0              1              0   \n",
       "110145              0              0              0              0   \n",
       "110146              0              0              0              0   \n",
       "110147              0              0              0              0   \n",
       "\n",
       "        app_weekday_6  \n",
       "73799               0  \n",
       "73800               0  \n",
       "73801               1  \n",
       "73802               0  \n",
       "73803               0  \n",
       "...               ...  \n",
       "110143              0  \n",
       "110144              0  \n",
       "110145              1  \n",
       "110146              0  \n",
       "110147              0  \n",
       "\n",
       "[36349 rows x 40 columns]"
      ]
     },
     "execution_count": 56,
     "metadata": {},
     "output_type": "execute_result"
    }
   ],
   "source": [
    "x_pred"
   ]
  },
  {
   "cell_type": "code",
   "execution_count": 57,
   "metadata": {},
   "outputs": [
    {
     "data": {
      "text/plain": [
       "36349"
      ]
     },
     "execution_count": 57,
     "metadata": {},
     "output_type": "execute_result"
    }
   ],
   "source": [
    "len(y_pred)"
   ]
  },
  {
   "cell_type": "code",
   "execution_count": 59,
   "metadata": {},
   "outputs": [
    {
     "data": {
      "text/html": [
       "<div>\n",
       "<style scoped>\n",
       "    .dataframe tbody tr th:only-of-type {\n",
       "        vertical-align: middle;\n",
       "    }\n",
       "\n",
       "    .dataframe tbody tr th {\n",
       "        vertical-align: top;\n",
       "    }\n",
       "\n",
       "    .dataframe thead th {\n",
       "        text-align: right;\n",
       "    }\n",
       "</style>\n",
       "<table border=\"1\" class=\"dataframe\">\n",
       "  <thead>\n",
       "    <tr style=\"text-align: right;\">\n",
       "      <th></th>\n",
       "      <th>client_id</th>\n",
       "      <th>default</th>\n",
       "    </tr>\n",
       "  </thead>\n",
       "  <tbody>\n",
       "    <tr>\n",
       "      <th>0</th>\n",
       "      <td>74835</td>\n",
       "      <td>0.040324</td>\n",
       "    </tr>\n",
       "    <tr>\n",
       "      <th>1</th>\n",
       "      <td>17527</td>\n",
       "      <td>0.349213</td>\n",
       "    </tr>\n",
       "    <tr>\n",
       "      <th>2</th>\n",
       "      <td>75683</td>\n",
       "      <td>0.061361</td>\n",
       "    </tr>\n",
       "    <tr>\n",
       "      <th>3</th>\n",
       "      <td>26883</td>\n",
       "      <td>0.094024</td>\n",
       "    </tr>\n",
       "    <tr>\n",
       "      <th>4</th>\n",
       "      <td>28862</td>\n",
       "      <td>0.027068</td>\n",
       "    </tr>\n",
       "    <tr>\n",
       "      <th>...</th>\n",
       "      <td>...</td>\n",
       "      <td>...</td>\n",
       "    </tr>\n",
       "    <tr>\n",
       "      <th>36344</th>\n",
       "      <td>83775</td>\n",
       "      <td>0.345574</td>\n",
       "    </tr>\n",
       "    <tr>\n",
       "      <th>36345</th>\n",
       "      <td>106254</td>\n",
       "      <td>0.016055</td>\n",
       "    </tr>\n",
       "    <tr>\n",
       "      <th>36346</th>\n",
       "      <td>81852</td>\n",
       "      <td>0.340140</td>\n",
       "    </tr>\n",
       "    <tr>\n",
       "      <th>36347</th>\n",
       "      <td>1971</td>\n",
       "      <td>0.186823</td>\n",
       "    </tr>\n",
       "    <tr>\n",
       "      <th>36348</th>\n",
       "      <td>69044</td>\n",
       "      <td>0.260321</td>\n",
       "    </tr>\n",
       "  </tbody>\n",
       "</table>\n",
       "<p>36349 rows × 2 columns</p>\n",
       "</div>"
      ],
      "text/plain": [
       "       client_id   default\n",
       "0          74835  0.040324\n",
       "1          17527  0.349213\n",
       "2          75683  0.061361\n",
       "3          26883  0.094024\n",
       "4          28862  0.027068\n",
       "...          ...       ...\n",
       "36344      83775  0.345574\n",
       "36345     106254  0.016055\n",
       "36346      81852  0.340140\n",
       "36347       1971  0.186823\n",
       "36348      69044  0.260321\n",
       "\n",
       "[36349 rows x 2 columns]"
      ]
     },
     "execution_count": 59,
     "metadata": {},
     "output_type": "execute_result"
    }
   ],
   "source": [
    "submission_proba = test.client_id.to_frame()\n",
    "submission_proba['default'] = y_pred_proba[:,1]\n",
    "submission_proba"
   ]
  },
  {
   "cell_type": "code",
   "execution_count": 60,
   "metadata": {},
   "outputs": [],
   "source": [
    "submission_proba.to_csv('submission1.csv', index = False)"
   ]
  }
 ],
 "metadata": {
  "kernelspec": {
   "display_name": "Python 3",
   "language": "python",
   "name": "python3"
  },
  "language_info": {
   "codemirror_mode": {
    "name": "ipython",
    "version": 3
   },
   "file_extension": ".py",
   "mimetype": "text/x-python",
   "name": "python",
   "nbconvert_exporter": "python",
   "pygments_lexer": "ipython3",
   "version": "3.8.5"
  }
 },
 "nbformat": 4,
 "nbformat_minor": 4
}

{
 "cells": [
  {
   "cell_type": "code",
   "execution_count": 1,
   "metadata": {},
   "outputs": [],
   "source": [
    "import numpy as np \n",
    "import pandas as pd \n",
    "import sys\n",
    "import warnings\n",
    "warnings.filterwarnings('ignore')\n",
    "from sklearn.model_selection import train_test_split\n",
    "from sklearn.model_selection import KFold\n",
    "from sklearn.ensemble import StackingRegressor\n",
    "\n",
    "import xgboost as xgb\n",
    "from sklearn.ensemble import RandomForestRegressor\n",
    "from sklearn.preprocessing import LabelEncoder\n",
    "from sklearn.linear_model import LinearRegression\n",
    "\n",
    "import time\n",
    "import os\n",
    "\n",
    "from pandas import Series\n",
    "import re\n",
    "\n",
    "import matplotlib.pyplot as plt\n",
    "import seaborn as sns\n",
    "\n",
    "from sklearn.base import clone\n",
    "from sklearn.neighbors import KNeighborsClassifier\n",
    "from sklearn.neighbors import KNeighborsRegressor\n",
    "from sklearn.model_selection import KFold\n",
    "from sklearn.feature_selection import f_classif, mutual_info_classif\n",
    "from sklearn.preprocessing import LabelEncoder, OneHotEncoder, StandardScaler\n",
    "from sklearn.ensemble import GradientBoostingRegressor\n",
    "from tqdm import tqdm\n",
    "from datetime import timedelta, datetime, date\n",
    "\n",
    "import json"
   ]
  },
  {
   "cell_type": "code",
   "execution_count": 2,
   "metadata": {},
   "outputs": [],
   "source": [
    "# фиксируем RANDOM_SEED\n",
    "RANDOM_SEED = 42"
   ]
  },
  {
   "cell_type": "code",
   "execution_count": 3,
   "metadata": {},
   "outputs": [],
   "source": [
    "# Подготовим функции для простоты дальнейшей работы:\n",
    "\n",
    "def visualizing_number(data, column): \n",
    "    bins = 100\n",
    "    if data[column].nunique() < 100:\n",
    "        bins = data[column].nunique()\n",
    "    \n",
    "    fig, axes = plt.subplots(2,1, figsize=(26,8))\n",
    "    sns.boxplot(ax=axes[0], y = data[column],data=data, orient='h')\n",
    "    axes[0].set_title(column)\n",
    "    data[column].hist(ax=axes[1], bins = bins)\n",
    "    plt.show()\n",
    "    print()\n",
    "    \n",
    "\n",
    "def get_outliers(column): \n",
    "    Q1 = column.quantile(0.25)\n",
    "    Q3 = column.quantile(0.75)\n",
    "    IQR = Q3 - Q1\n",
    "    min_out = Q1 - 1.5 * IQR\n",
    "    max_out = Q3 + 1.5 * IQR\n",
    "    return (column < min_out).sum() + (column > max_out).sum(), min_out, max_out\n",
    "\n",
    "def mape(y_true, y_pred):\n",
    "    return np.mean(np.abs((y_pred-y_true)/y_true))"
   ]
  },
  {
   "cell_type": "code",
   "execution_count": 4,
   "metadata": {},
   "outputs": [],
   "source": [
    "train_2020 = pd.read_csv('all_auto_ru_09_09_2020.csv')\n",
    "train = pd.read_csv('cars_df.csv') # датасет для обучения модели\n",
    "test = pd.read_csv('test.csv')\n",
    "sample_submission = pd.read_csv('sample_submission.csv')"
   ]
  },
  {
   "cell_type": "code",
   "execution_count": 5,
   "metadata": {},
   "outputs": [
    {
     "name": "stdout",
     "output_type": "stream",
     "text": [
      "<class 'pandas.core.frame.DataFrame'>\n",
      "RangeIndex: 89378 entries, 0 to 89377\n",
      "Data columns (total 26 columns):\n",
      " #   Column                Non-Null Count  Dtype  \n",
      "---  ------                --------------  -----  \n",
      " 0   bodyType              89377 non-null  object \n",
      " 1   brand                 89378 non-null  object \n",
      " 2   color                 89378 non-null  object \n",
      " 3   fuelType              89378 non-null  object \n",
      " 4   modelDate             89377 non-null  float64\n",
      " 5   name                  89377 non-null  object \n",
      " 6   numberOfDoors         89377 non-null  float64\n",
      " 7   productionDate        89378 non-null  int64  \n",
      " 8   vehicleConfiguration  89377 non-null  object \n",
      " 9   vehicleTransmission   89377 non-null  object \n",
      " 10  engineDisplacement    89377 non-null  object \n",
      " 11  enginePower           89377 non-null  float64\n",
      " 12  description           86124 non-null  object \n",
      " 13  mileage               89378 non-null  int64  \n",
      " 14  Комплектация          89378 non-null  object \n",
      " 15  Привод                89377 non-null  object \n",
      " 16  Руль                  89378 non-null  object \n",
      " 17  Состояние             0 non-null      float64\n",
      " 18  Владельцы             75790 non-null  float64\n",
      " 19  ПТС                   89017 non-null  object \n",
      " 20  Таможня               89378 non-null  bool   \n",
      " 21  Владение              29201 non-null  object \n",
      " 22  price                 88968 non-null  float64\n",
      " 23  start_date            89378 non-null  object \n",
      " 24  hidden                0 non-null      float64\n",
      " 25  model                 89378 non-null  object \n",
      "dtypes: bool(1), float64(7), int64(2), object(16)\n",
      "memory usage: 17.1+ MB\n"
     ]
    }
   ],
   "source": [
    "train_2020.info()"
   ]
  },
  {
   "cell_type": "code",
   "execution_count": 6,
   "metadata": {},
   "outputs": [
    {
     "name": "stdout",
     "output_type": "stream",
     "text": [
      "<class 'pandas.core.frame.DataFrame'>\n",
      "RangeIndex: 34240 entries, 0 to 34239\n",
      "Data columns (total 28 columns):\n",
      " #   Column                Non-Null Count  Dtype \n",
      "---  ------                --------------  ----- \n",
      " 0   bodyType              34240 non-null  object\n",
      " 1   brand                 34240 non-null  object\n",
      " 2   car_url               34240 non-null  object\n",
      " 3   color                 34240 non-null  object\n",
      " 4   description           34240 non-null  object\n",
      " 5   engineDisplacement    34240 non-null  object\n",
      " 6   enginePower           34240 non-null  object\n",
      " 7   fuelType              34240 non-null  object\n",
      " 8   image                 34240 non-null  object\n",
      " 9   mileage               34240 non-null  object\n",
      " 10  modelDate             34240 non-null  int64 \n",
      " 11  model_name            34240 non-null  object\n",
      " 12  name                  34240 non-null  object\n",
      " 13  numberOfDoors         34240 non-null  int64 \n",
      " 14  parsing_unixtime      34240 non-null  int64 \n",
      " 15  priceCurrency         34240 non-null  object\n",
      " 16  productionDate        34240 non-null  int64 \n",
      " 17  sell_id               34240 non-null  object\n",
      " 18  vehicleConfiguration  34240 non-null  object\n",
      " 19  vehicleTransmission   34240 non-null  object\n",
      " 20  Владельцы             34240 non-null  object\n",
      " 21  ПТС                   34240 non-null  object\n",
      " 22  Привод                34240 non-null  object\n",
      " 23  Руль                  34240 non-null  object\n",
      " 24  Состояние             34240 non-null  object\n",
      " 25  Таможня               34240 non-null  object\n",
      " 26  price                 34240 non-null  object\n",
      " 27  equipmentGroups       26208 non-null  object\n",
      "dtypes: int64(4), object(24)\n",
      "memory usage: 7.3+ MB\n"
     ]
    }
   ],
   "source": [
    "train.info()"
   ]
  },
  {
   "cell_type": "code",
   "execution_count": 7,
   "metadata": {},
   "outputs": [
    {
     "name": "stdout",
     "output_type": "stream",
     "text": [
      "<class 'pandas.core.frame.DataFrame'>\n",
      "RangeIndex: 34686 entries, 0 to 34685\n",
      "Data columns (total 32 columns):\n",
      " #   Column                Non-Null Count  Dtype \n",
      "---  ------                --------------  ----- \n",
      " 0   bodyType              34686 non-null  object\n",
      " 1   brand                 34686 non-null  object\n",
      " 2   car_url               34686 non-null  object\n",
      " 3   color                 34686 non-null  object\n",
      " 4   complectation_dict    6418 non-null   object\n",
      " 5   description           34686 non-null  object\n",
      " 6   engineDisplacement    34686 non-null  object\n",
      " 7   enginePower           34686 non-null  object\n",
      " 8   equipment_dict        24690 non-null  object\n",
      " 9   fuelType              34686 non-null  object\n",
      " 10  image                 34686 non-null  object\n",
      " 11  mileage               34686 non-null  int64 \n",
      " 12  modelDate             34686 non-null  int64 \n",
      " 13  model_info            34686 non-null  object\n",
      " 14  model_name            34686 non-null  object\n",
      " 15  name                  34686 non-null  object\n",
      " 16  numberOfDoors         34686 non-null  int64 \n",
      " 17  parsing_unixtime      34686 non-null  int64 \n",
      " 18  priceCurrency         34686 non-null  object\n",
      " 19  productionDate        34686 non-null  int64 \n",
      " 20  sell_id               34686 non-null  int64 \n",
      " 21  super_gen             34686 non-null  object\n",
      " 22  vehicleConfiguration  34686 non-null  object\n",
      " 23  vehicleTransmission   34686 non-null  object\n",
      " 24  vendor                34686 non-null  object\n",
      " 25  Владельцы             34686 non-null  object\n",
      " 26  Владение              11995 non-null  object\n",
      " 27  ПТС                   34685 non-null  object\n",
      " 28  Привод                34686 non-null  object\n",
      " 29  Руль                  34686 non-null  object\n",
      " 30  Состояние             34686 non-null  object\n",
      " 31  Таможня               34686 non-null  object\n",
      "dtypes: int64(6), object(26)\n",
      "memory usage: 8.5+ MB\n"
     ]
    }
   ],
   "source": [
    "test.info()"
   ]
  },
  {
   "cell_type": "markdown",
   "metadata": {},
   "source": [
    "#### В файле 2020 года объявлений гораздо больше, чем в датасете 2021 года. Однако спарсить большее количество не удалось. Также цены в 2021 году сильно изменились. Учтем инфляцию и объединим датасеты 2020 и 2021 года."
   ]
  },
  {
   "cell_type": "code",
   "execution_count": 8,
   "metadata": {},
   "outputs": [],
   "source": [
    "# удалим знак валюты и пробелы в цене\n",
    "\n",
    "train['price'] =train['price'].astype(str)\n",
    "train['price'] = train['price'].apply(lambda x: x if len(x) ==1 else ''.join(x.split()[0:-1])).astype(int)"
   ]
  },
  {
   "cell_type": "code",
   "execution_count": 9,
   "metadata": {},
   "outputs": [
    {
     "name": "stdout",
     "output_type": "stream",
     "text": [
      "SKODA 2020: 657326.633273703\n",
      "SKODA 2021: 910444.3177229388\n",
      "Инфляция: 38.51%\n",
      "\n",
      "AUDI 2020: 1502616.5201474202\n",
      "AUDI 2021: 1677113.6928999145\n",
      "Инфляция: 11.61%\n",
      "\n",
      "HONDA 2020: 595388.4040920716\n",
      "HONDA 2021: 699112.622754491\n",
      "Инфляция: 17.42%\n",
      "\n",
      "VOLVO 2020: 1776484.3166828323\n",
      "VOLVO 2021: 1233911.1361125063\n",
      "Инфляция: -30.54%\n",
      "\n",
      "BMW 2020: 2387441.4331296673\n",
      "BMW 2021: 2466772.130835735\n",
      "Инфляция: 3.32%\n",
      "\n",
      "NISSAN 2020: 891387.644173913\n",
      "NISSAN 2021: 931886.534647724\n",
      "Инфляция: 4.54%\n",
      "\n",
      "INFINITI 2020: 1564960.196911197\n",
      "INFINITI 2021: 1602153.632780083\n",
      "Инфляция: 2.38%\n",
      "\n",
      "MERCEDES 2020: 3526259.7003383883\n",
      "MERCEDES 2021: 3435923.9598136283\n",
      "Инфляция: -2.56%\n",
      "\n",
      "TOYOTA 2020: 1348232.2266944733\n",
      "TOYOTA 2021: 1764081.6214222484\n",
      "Инфляция: 30.84%\n",
      "\n",
      "LEXUS 2020: 2025737.124282983\n",
      "LEXUS 2021: 2708173.126965638\n",
      "Инфляция: 33.69%\n",
      "\n",
      "VOLKSWAGEN 2020: 999332.647869498\n",
      "VOLKSWAGEN 2021: 1113360.6555655566\n",
      "Инфляция: 11.41%\n",
      "\n",
      "MITSUBISHI 2020: 994034.449859658\n",
      "MITSUBISHI 2021: 874427.4276932084\n",
      "Инфляция: -12.03%\n",
      "\n"
     ]
    }
   ],
   "source": [
    "# инфляция по брендам\n",
    "\n",
    "brands = test.brand.unique()\n",
    "infs = []\n",
    "for brand in brands:\n",
    "    mean20 = train_2020[train_2020[\"brand\"]==brand].price.mean()\n",
    "    mean21 = train[train[\"brand\"]==brand].price.mean()\n",
    "    inf = (mean21-mean20)/mean20\n",
    "    infs.append(inf)\n",
    "    print(f'{brand} 2020: {mean20}')\n",
    "    print(f'{brand} 2021: {mean21}')\n",
    "    print(f'Инфляция: {round(inf * 100,2)}%')\n",
    "    print()"
   ]
  },
  {
   "cell_type": "code",
   "execution_count": 10,
   "metadata": {},
   "outputs": [
    {
     "data": {
      "text/html": [
       "<div>\n",
       "<style scoped>\n",
       "    .dataframe tbody tr th:only-of-type {\n",
       "        vertical-align: middle;\n",
       "    }\n",
       "\n",
       "    .dataframe tbody tr th {\n",
       "        vertical-align: top;\n",
       "    }\n",
       "\n",
       "    .dataframe thead th {\n",
       "        text-align: right;\n",
       "    }\n",
       "</style>\n",
       "<table border=\"1\" class=\"dataframe\">\n",
       "  <thead>\n",
       "    <tr style=\"text-align: right;\">\n",
       "      <th></th>\n",
       "      <th>bodyType</th>\n",
       "      <th>brand</th>\n",
       "      <th>car_url</th>\n",
       "      <th>color</th>\n",
       "      <th>description</th>\n",
       "      <th>engineDisplacement</th>\n",
       "      <th>enginePower</th>\n",
       "      <th>fuelType</th>\n",
       "      <th>image</th>\n",
       "      <th>mileage</th>\n",
       "      <th>...</th>\n",
       "      <th>vehicleConfiguration</th>\n",
       "      <th>vehicleTransmission</th>\n",
       "      <th>Владельцы</th>\n",
       "      <th>ПТС</th>\n",
       "      <th>Привод</th>\n",
       "      <th>Руль</th>\n",
       "      <th>Состояние</th>\n",
       "      <th>Таможня</th>\n",
       "      <th>price</th>\n",
       "      <th>equipmentGroups</th>\n",
       "    </tr>\n",
       "  </thead>\n",
       "  <tbody>\n",
       "    <tr>\n",
       "      <th>0</th>\n",
       "      <td>лифтбек</td>\n",
       "      <td>SKODA</td>\n",
       "      <td>https://auto.ru/cars/used/sale/skoda/octavia/1...</td>\n",
       "      <td>серебристый</td>\n",
       "      <td>Машине нужны любящие руки понимающего человека...</td>\n",
       "      <td>1.8 LTR</td>\n",
       "      <td>152 N12</td>\n",
       "      <td>бензин</td>\n",
       "      <td>https://autoru.naydex.net/ggLF9n453/6ee1a95w/V...</td>\n",
       "      <td>205 500 км</td>\n",
       "      <td>...</td>\n",
       "      <td>LIFTBACK MECHANICAL 1.8</td>\n",
       "      <td>механическая</td>\n",
       "      <td>2 владельца</td>\n",
       "      <td>Оригинал</td>\n",
       "      <td>передний</td>\n",
       "      <td>Левый</td>\n",
       "      <td>Не требует ремонта</td>\n",
       "      <td>Растаможен</td>\n",
       "      <td>620999</td>\n",
       "      <td>[{'name': 'Безопасность', 'values': ['Антиблок...</td>\n",
       "    </tr>\n",
       "    <tr>\n",
       "      <th>1</th>\n",
       "      <td>компактвэн</td>\n",
       "      <td>SKODA</td>\n",
       "      <td>https://auto.ru/cars/used/sale/skoda/roomster/...</td>\n",
       "      <td>серый</td>\n",
       "      <td>🔆Добрый день! Просьба приезжать в маске! \\n👁Ос...</td>\n",
       "      <td>1.4 LTR</td>\n",
       "      <td>86 N12</td>\n",
       "      <td>бензин</td>\n",
       "      <td>https://avatars.mds.yandex.net/get-autoru-vos/...</td>\n",
       "      <td>86 602 км</td>\n",
       "      <td>...</td>\n",
       "      <td>COMPACTVAN MECHANICAL 1.4</td>\n",
       "      <td>механическая</td>\n",
       "      <td>1 владелец</td>\n",
       "      <td>Оригинал</td>\n",
       "      <td>передний</td>\n",
       "      <td>Левый</td>\n",
       "      <td>Не требует ремонта</td>\n",
       "      <td>Растаможен</td>\n",
       "      <td>699000</td>\n",
       "      <td>[{'name': 'Безопасность', 'values': ['Подушка ...</td>\n",
       "    </tr>\n",
       "  </tbody>\n",
       "</table>\n",
       "<p>2 rows × 28 columns</p>\n",
       "</div>"
      ],
      "text/plain": [
       "     bodyType  brand                                            car_url  \\\n",
       "0     лифтбек  SKODA  https://auto.ru/cars/used/sale/skoda/octavia/1...   \n",
       "1  компактвэн  SKODA  https://auto.ru/cars/used/sale/skoda/roomster/...   \n",
       "\n",
       "         color                                        description  \\\n",
       "0  серебристый  Машине нужны любящие руки понимающего человека...   \n",
       "1        серый  🔆Добрый день! Просьба приезжать в маске! \\n👁Ос...   \n",
       "\n",
       "  engineDisplacement enginePower fuelType  \\\n",
       "0            1.8 LTR     152 N12   бензин   \n",
       "1            1.4 LTR      86 N12   бензин   \n",
       "\n",
       "                                               image     mileage  ...  \\\n",
       "0  https://autoru.naydex.net/ggLF9n453/6ee1a95w/V...  205 500 км  ...   \n",
       "1  https://avatars.mds.yandex.net/get-autoru-vos/...   86 602 км  ...   \n",
       "\n",
       "        vehicleConfiguration vehicleTransmission    Владельцы       ПТС  \\\n",
       "0    LIFTBACK MECHANICAL 1.8        механическая  2 владельца  Оригинал   \n",
       "1  COMPACTVAN MECHANICAL 1.4        механическая   1 владелец  Оригинал   \n",
       "\n",
       "     Привод   Руль           Состояние     Таможня   price  \\\n",
       "0  передний  Левый  Не требует ремонта  Растаможен  620999   \n",
       "1  передний  Левый  Не требует ремонта  Растаможен  699000   \n",
       "\n",
       "                                     equipmentGroups  \n",
       "0  [{'name': 'Безопасность', 'values': ['Антиблок...  \n",
       "1  [{'name': 'Безопасность', 'values': ['Подушка ...  \n",
       "\n",
       "[2 rows x 28 columns]"
      ]
     },
     "metadata": {},
     "output_type": "display_data"
    },
    {
     "data": {
      "text/html": [
       "<div>\n",
       "<style scoped>\n",
       "    .dataframe tbody tr th:only-of-type {\n",
       "        vertical-align: middle;\n",
       "    }\n",
       "\n",
       "    .dataframe tbody tr th {\n",
       "        vertical-align: top;\n",
       "    }\n",
       "\n",
       "    .dataframe thead th {\n",
       "        text-align: right;\n",
       "    }\n",
       "</style>\n",
       "<table border=\"1\" class=\"dataframe\">\n",
       "  <thead>\n",
       "    <tr style=\"text-align: right;\">\n",
       "      <th></th>\n",
       "      <th>bodyType</th>\n",
       "      <th>brand</th>\n",
       "      <th>car_url</th>\n",
       "      <th>color</th>\n",
       "      <th>description</th>\n",
       "      <th>engineDisplacement</th>\n",
       "      <th>enginePower</th>\n",
       "      <th>fuelType</th>\n",
       "      <th>image</th>\n",
       "      <th>mileage</th>\n",
       "      <th>...</th>\n",
       "      <th>vehicleConfiguration</th>\n",
       "      <th>vehicleTransmission</th>\n",
       "      <th>Владельцы</th>\n",
       "      <th>ПТС</th>\n",
       "      <th>Привод</th>\n",
       "      <th>Руль</th>\n",
       "      <th>Состояние</th>\n",
       "      <th>Таможня</th>\n",
       "      <th>price</th>\n",
       "      <th>equipmentGroups</th>\n",
       "    </tr>\n",
       "  </thead>\n",
       "  <tbody>\n",
       "    <tr>\n",
       "      <th>0</th>\n",
       "      <td>лифтбек</td>\n",
       "      <td>SKODA</td>\n",
       "      <td>https://auto.ru/cars/used/sale/skoda/octavia/1...</td>\n",
       "      <td>серебристый</td>\n",
       "      <td>Машине нужны любящие руки понимающего человека...</td>\n",
       "      <td>1.8 LTR</td>\n",
       "      <td>152 N12</td>\n",
       "      <td>бензин</td>\n",
       "      <td>https://autoru.naydex.net/ggLF9n453/6ee1a95w/V...</td>\n",
       "      <td>205 500 км</td>\n",
       "      <td>...</td>\n",
       "      <td>LIFTBACK MECHANICAL 1.8</td>\n",
       "      <td>механическая</td>\n",
       "      <td>2 владельца</td>\n",
       "      <td>Оригинал</td>\n",
       "      <td>передний</td>\n",
       "      <td>Левый</td>\n",
       "      <td>Не требует ремонта</td>\n",
       "      <td>Растаможен</td>\n",
       "      <td>448352.0</td>\n",
       "      <td>[{'name': 'Безопасность', 'values': ['Антиблок...</td>\n",
       "    </tr>\n",
       "    <tr>\n",
       "      <th>1</th>\n",
       "      <td>компактвэн</td>\n",
       "      <td>SKODA</td>\n",
       "      <td>https://auto.ru/cars/used/sale/skoda/roomster/...</td>\n",
       "      <td>серый</td>\n",
       "      <td>🔆Добрый день! Просьба приезжать в маске! \\n👁Ос...</td>\n",
       "      <td>1.4 LTR</td>\n",
       "      <td>86 N12</td>\n",
       "      <td>бензин</td>\n",
       "      <td>https://avatars.mds.yandex.net/get-autoru-vos/...</td>\n",
       "      <td>86 602 км</td>\n",
       "      <td>...</td>\n",
       "      <td>COMPACTVAN MECHANICAL 1.4</td>\n",
       "      <td>механическая</td>\n",
       "      <td>1 владелец</td>\n",
       "      <td>Оригинал</td>\n",
       "      <td>передний</td>\n",
       "      <td>Левый</td>\n",
       "      <td>Не требует ремонта</td>\n",
       "      <td>Растаможен</td>\n",
       "      <td>504667.0</td>\n",
       "      <td>[{'name': 'Безопасность', 'values': ['Подушка ...</td>\n",
       "    </tr>\n",
       "  </tbody>\n",
       "</table>\n",
       "<p>2 rows × 28 columns</p>\n",
       "</div>"
      ],
      "text/plain": [
       "     bodyType  brand                                            car_url  \\\n",
       "0     лифтбек  SKODA  https://auto.ru/cars/used/sale/skoda/octavia/1...   \n",
       "1  компактвэн  SKODA  https://auto.ru/cars/used/sale/skoda/roomster/...   \n",
       "\n",
       "         color                                        description  \\\n",
       "0  серебристый  Машине нужны любящие руки понимающего человека...   \n",
       "1        серый  🔆Добрый день! Просьба приезжать в маске! \\n👁Ос...   \n",
       "\n",
       "  engineDisplacement enginePower fuelType  \\\n",
       "0            1.8 LTR     152 N12   бензин   \n",
       "1            1.4 LTR      86 N12   бензин   \n",
       "\n",
       "                                               image     mileage  ...  \\\n",
       "0  https://autoru.naydex.net/ggLF9n453/6ee1a95w/V...  205 500 км  ...   \n",
       "1  https://avatars.mds.yandex.net/get-autoru-vos/...   86 602 км  ...   \n",
       "\n",
       "        vehicleConfiguration vehicleTransmission    Владельцы       ПТС  \\\n",
       "0    LIFTBACK MECHANICAL 1.8        механическая  2 владельца  Оригинал   \n",
       "1  COMPACTVAN MECHANICAL 1.4        механическая   1 владелец  Оригинал   \n",
       "\n",
       "     Привод   Руль           Состояние     Таможня     price  \\\n",
       "0  передний  Левый  Не требует ремонта  Растаможен  448352.0   \n",
       "1  передний  Левый  Не требует ремонта  Растаможен  504667.0   \n",
       "\n",
       "                                     equipmentGroups  \n",
       "0  [{'name': 'Безопасность', 'values': ['Антиблок...  \n",
       "1  [{'name': 'Безопасность', 'values': ['Подушка ...  \n",
       "\n",
       "[2 rows x 28 columns]"
      ]
     },
     "metadata": {},
     "output_type": "display_data"
    }
   ],
   "source": [
    "# Учтем инфляцию и изменим цены так, чтобы они были похожи на осень 2020 года\n",
    "\n",
    "brands = test.brand.unique()\n",
    "tt = train.copy()\n",
    "display(tt.head(2))\n",
    "for brand in brands:\n",
    "    mean20 = train_2020[train_2020[\"brand\"]==brand].price.mean()\n",
    "    mean21 = train[train[\"brand\"]==brand].price.mean()\n",
    "    inf = (mean21-mean20)/mean20\n",
    "    if inf>0:\n",
    "        tt.loc[tt[\"brand\"]==brand, ['price']] = tt.loc[tt[\"brand\"]==brand, ['price']].apply(lambda x: round(x/(1+inf),0))\n",
    "display(tt.head(2))"
   ]
  },
  {
   "cell_type": "code",
   "execution_count": 11,
   "metadata": {},
   "outputs": [],
   "source": [
    "# Цены изменились верно\n",
    "data = tt"
   ]
  },
  {
   "cell_type": "code",
   "execution_count": 12,
   "metadata": {},
   "outputs": [
    {
     "name": "stdout",
     "output_type": "stream",
     "text": [
      "Index(['bodyType', 'brand', 'car_url', 'color', 'description',\n",
      "       'engineDisplacement', 'enginePower', 'fuelType', 'image', 'mileage',\n",
      "       'modelDate', 'model_name', 'name', 'numberOfDoors', 'parsing_unixtime',\n",
      "       'priceCurrency', 'productionDate', 'sell_id', 'vehicleConfiguration',\n",
      "       'vehicleTransmission', 'Владельцы', 'ПТС', 'Привод', 'Руль',\n",
      "       'Состояние', 'Таможня', 'price', 'equipmentGroups'],\n",
      "      dtype='object')\n",
      "Index(['bodyType', 'brand', 'color', 'fuelType', 'modelDate', 'name',\n",
      "       'numberOfDoors', 'productionDate', 'vehicleConfiguration',\n",
      "       'vehicleTransmission', 'engineDisplacement', 'enginePower',\n",
      "       'description', 'mileage', 'Комплектация', 'Привод', 'Руль', 'Состояние',\n",
      "       'Владельцы', 'ПТС', 'Таможня', 'Владение', 'price', 'start_date',\n",
      "       'hidden', 'model'],\n",
      "      dtype='object')\n",
      "Index(['bodyType', 'brand', 'car_url', 'color', 'complectation_dict',\n",
      "       'description', 'engineDisplacement', 'enginePower', 'equipment_dict',\n",
      "       'fuelType', 'image', 'mileage', 'modelDate', 'model_info', 'model_name',\n",
      "       'name', 'numberOfDoors', 'parsing_unixtime', 'priceCurrency',\n",
      "       'productionDate', 'sell_id', 'super_gen', 'vehicleConfiguration',\n",
      "       'vehicleTransmission', 'vendor', 'Владельцы', 'Владение', 'ПТС',\n",
      "       'Привод', 'Руль', 'Состояние', 'Таможня'],\n",
      "      dtype='object')\n"
     ]
    }
   ],
   "source": [
    "print(train.columns)\n",
    "print(train_2020.columns)\n",
    "print(test.columns)"
   ]
  },
  {
   "cell_type": "code",
   "execution_count": 13,
   "metadata": {},
   "outputs": [
    {
     "name": "stdout",
     "output_type": "stream",
     "text": [
      "Столбцы, которые есть в тесте, но их нет в трейне 2020: ['car_url', 'model_name', 'model_info', 'sell_id', 'vendor', 'equipment_dict', 'priceCurrency', 'super_gen', 'parsing_unixtime', 'complectation_dict', 'image']\n",
      "Столбцы, которые есть в тесте, но их нет в трейне 2021: ['model_info', 'vendor', 'equipment_dict', 'super_gen', 'Владение', 'complectation_dict']\n"
     ]
    }
   ],
   "source": [
    "# Создадим список общих переменных для теста и трейна:\n",
    "\n",
    "s2020 = list(train_2020.columns)\n",
    "s2021 = list(train.columns)\n",
    "s = set(list(test.columns))\n",
    "\n",
    "no2020 = [x for x in s if not x in s2020] # найдем стобцы, которых нет в трейне\n",
    "print('Столбцы, которые есть в тесте, но их нет в трейне 2020:', no2020)\n",
    "\n",
    "no2021 = [x for x in s if not x in s2021] # найдем стобцы, которых нет в трейне\n",
    "print('Столбцы, которые есть в тесте, но их нет в трейне 2021:', no2021)\n",
    "\n",
    "# посмотрим, какие признаки отличают два датасета\n",
    "\n",
    "# model_info дублирует полезную информацию из столбца car_url, \n",
    "# super_gen - аккумулирует и дублирует много информации с разных стобцов,\n",
    "# остальные столбцы имеют много пропусков и не совсем репрезентативны"
   ]
  },
  {
   "cell_type": "markdown",
   "metadata": {},
   "source": [
    "#### Столбцы, которых нет в трейне 2021\n",
    "\n",
    "'super_gen' - аккумулирует и дублирует много информации с разных стобцов\n",
    "\n",
    "'model_info' - дублирует полезную информацию из столбца car_url\n",
    "\n",
    "'Владение' - длительность последнего или общего владения (не удалось спарсить, так как эти данные подгружаются AJAX)\n",
    "\n",
    "'vendor' - продавец, пока уберем этот столбец\n",
    "\n",
    "'equipment_dict' - аналог 'equipmentGroups'\n",
    "\n",
    "'complectation_dict' - частично содержится в 'equipmentGroups'"
   ]
  },
  {
   "cell_type": "code",
   "execution_count": 14,
   "metadata": {},
   "outputs": [
    {
     "data": {
      "text/plain": [
       "Index(['bodyType', 'brand', 'car_url', 'color', 'description',\n",
       "       'engineDisplacement', 'enginePower', 'fuelType', 'image', 'mileage',\n",
       "       'modelDate', 'model_name', 'name', 'numberOfDoors', 'parsing_unixtime',\n",
       "       'priceCurrency', 'productionDate', 'sell_id', 'vehicleConfiguration',\n",
       "       'vehicleTransmission', 'Владельцы', 'ПТС', 'Привод', 'Руль',\n",
       "       'Состояние', 'Таможня', 'price', 'equipment_dict'],\n",
       "      dtype='object')"
      ]
     },
     "execution_count": 14,
     "metadata": {},
     "output_type": "execute_result"
    }
   ],
   "source": [
    "train['equipment_dict'] = train['equipmentGroups']\n",
    "train = train.drop(['equipmentGroups'], axis=1)\n",
    "\n",
    "train.columns"
   ]
  },
  {
   "cell_type": "markdown",
   "metadata": {},
   "source": [
    "#### Столбцы, которых нет в трейне 2020\n",
    "\n",
    "'sell_id' - создадим его, наполнив 0\n",
    "\n",
    "'car_url' - создадим, изменив model\n",
    "\n",
    "'priceCurrency', 'parsing_unixtime', 'complectation_dict', 'equipment_dict', 'image', 'super_gen' - можно удалить"
   ]
  },
  {
   "cell_type": "code",
   "execution_count": 15,
   "metadata": {},
   "outputs": [],
   "source": [
    "train_2020['sell_id'] = 0\n",
    "train['sell_id'] = 0\n",
    "train_2020['car_url'] = train_2020['model']"
   ]
  },
  {
   "cell_type": "code",
   "execution_count": 16,
   "metadata": {},
   "outputs": [
    {
     "name": "stdout",
     "output_type": "stream",
     "text": [
      "Общие для 2021\n",
      "Общее количество 28\n",
      "['bodyType', 'brand', 'car_url', 'color', 'description', 'engineDisplacement', 'enginePower', 'fuelType', 'image', 'mileage', 'modelDate', 'model_name', 'name', 'numberOfDoors', 'parsing_unixtime', 'priceCurrency', 'productionDate', 'sell_id', 'vehicleConfiguration', 'vehicleTransmission', 'Владельцы', 'ПТС', 'Привод', 'Руль', 'Состояние', 'Таможня', 'price', 'equipmentGroups']\n",
      "Общие для 2020\n",
      "Общее количество 26\n",
      "['bodyType', 'brand', 'color', 'fuelType', 'modelDate', 'name', 'numberOfDoors', 'productionDate', 'vehicleConfiguration', 'vehicleTransmission', 'engineDisplacement', 'enginePower', 'description', 'mileage', 'Комплектация', 'Привод', 'Руль', 'Состояние', 'Владельцы', 'ПТС', 'Таможня', 'Владение', 'price', 'start_date', 'hidden', 'model']\n"
     ]
    }
   ],
   "source": [
    "# список общих переменных\n",
    "\n",
    "columns2021 = [x for x in s2021 if not x in no2021]\n",
    "print('Общие для 2021')\n",
    "print('Общее количество', len(columns2021))\n",
    "print(columns2021)\n",
    "\n",
    "columns2020 = [x for x in s2020 if not x in no2020]\n",
    "print('Общие для 2020')\n",
    "print('Общее количество', len(columns2020))\n",
    "print(columns2020)"
   ]
  },
  {
   "cell_type": "markdown",
   "metadata": {},
   "source": [
    "#### Удалим столбцы:\n",
    "\n",
    "Из 2021\n",
    "\n",
    "- не несут информации для цены - 'image','parsing_unixtime',\n",
    "- слишком сложные в обработке - 'description', 'equipmentGroups'\n",
    "- дублируют другие признаки -'model_name',\n",
    "- единственное значение - 'priceCurrency', 'Состояние'"
   ]
  },
  {
   "cell_type": "code",
   "execution_count": 17,
   "metadata": {},
   "outputs": [
    {
     "name": "stdout",
     "output_type": "stream",
     "text": [
      "train - priceCurrency - \n",
      "RUB    34240\n",
      "Name: priceCurrency, dtype: int64\n",
      "test - priceCurrency - \n",
      "RUB    34686\n",
      "Name: priceCurrency, dtype: int64\n",
      "\n",
      "train - Состояние - \n",
      "Не требует ремонта    34238\n",
      "Битый / не на ходу        2\n",
      "Name: Состояние, dtype: int64\n",
      "test - Состояние - \n",
      "Не требует ремонта    34686\n",
      "Name: Состояние, dtype: int64\n"
     ]
    }
   ],
   "source": [
    "print('train - priceCurrency - ', train.priceCurrency.value_counts(), sep='\\n')\n",
    "print('test - priceCurrency - ', test.priceCurrency.value_counts(), sep='\\n')\n",
    "print()\n",
    "print('train - Состояние - ', train['Состояние'].value_counts(), sep='\\n')\n",
    "print('test - Состояние - ', test['Состояние'].value_counts(), sep='\\n')"
   ]
  },
  {
   "cell_type": "code",
   "execution_count": 18,
   "metadata": {},
   "outputs": [],
   "source": [
    "to_del = ['image','parsing_unixtime','priceCurrency','description','model_name', 'Состояние','equipmentGroups']"
   ]
  },
  {
   "cell_type": "code",
   "execution_count": 19,
   "metadata": {},
   "outputs": [],
   "source": [
    "columns = [x for x in columns2021 if not x in to_del] \n",
    "columns = ([x for x in columns if x in columns2020+['car_url', 'sell_id']] )"
   ]
  },
  {
   "cell_type": "code",
   "execution_count": 20,
   "metadata": {},
   "outputs": [],
   "source": [
    "# У тестового датасета нет цены, добавим нулевую цену\n",
    "test['price']=0"
   ]
  },
  {
   "cell_type": "code",
   "execution_count": 21,
   "metadata": {},
   "outputs": [],
   "source": [
    "df_train_2020 = train_2020[columns]\n",
    "df_train = train[columns]\n",
    "df_test = test[columns]"
   ]
  },
  {
   "cell_type": "markdown",
   "metadata": {},
   "source": [
    "#### Объединение train и test"
   ]
  },
  {
   "cell_type": "code",
   "execution_count": 22,
   "metadata": {},
   "outputs": [
    {
     "data": {
      "text/plain": [
       "(34686, 22)"
      ]
     },
     "execution_count": 22,
     "metadata": {},
     "output_type": "execute_result"
    }
   ],
   "source": [
    "# Для корректной обработки признаков объединяем трейн и тест в один датасет\n",
    "\n",
    "df_train_2020['sample'] = 1 # помечаем где у нас трейн\n",
    "df_train['sample'] = 1 # помечаем где у нас трейн\n",
    "df_test['sample'] = 0 # помечаем где у нас тест\n",
    "\n",
    "data = df_test.append(df_train, sort=False).append(df_train_2020, sort=False).reset_index(drop=True)\n",
    "data[data['sample']==0].shape"
   ]
  },
  {
   "cell_type": "code",
   "execution_count": 23,
   "metadata": {},
   "outputs": [
    {
     "name": "stdout",
     "output_type": "stream",
     "text": [
      "<class 'pandas.core.frame.DataFrame'>\n",
      "RangeIndex: 158304 entries, 0 to 158303\n",
      "Data columns (total 22 columns):\n",
      " #   Column                Non-Null Count   Dtype  \n",
      "---  ------                --------------   -----  \n",
      " 0   bodyType              158303 non-null  object \n",
      " 1   brand                 158304 non-null  object \n",
      " 2   car_url               158304 non-null  object \n",
      " 3   color                 158304 non-null  object \n",
      " 4   engineDisplacement    158303 non-null  object \n",
      " 5   enginePower           158303 non-null  object \n",
      " 6   fuelType              158304 non-null  object \n",
      " 7   mileage               158304 non-null  object \n",
      " 8   modelDate             158303 non-null  float64\n",
      " 9   name                  158303 non-null  object \n",
      " 10  numberOfDoors         158303 non-null  float64\n",
      " 11  productionDate        158304 non-null  int64  \n",
      " 12  sell_id               158304 non-null  int64  \n",
      " 13  vehicleConfiguration  158303 non-null  object \n",
      " 14  vehicleTransmission   158303 non-null  object \n",
      " 15  Владельцы             144716 non-null  object \n",
      " 16  ПТС                   157942 non-null  object \n",
      " 17  Привод                158303 non-null  object \n",
      " 18  Руль                  158304 non-null  object \n",
      " 19  Таможня               158304 non-null  object \n",
      " 20  price                 157894 non-null  float64\n",
      " 21  sample                158304 non-null  int64  \n",
      "dtypes: float64(3), int64(3), object(16)\n",
      "memory usage: 26.6+ MB\n"
     ]
    }
   ],
   "source": [
    "data.info()"
   ]
  },
  {
   "cell_type": "code",
   "execution_count": 24,
   "metadata": {},
   "outputs": [
    {
     "data": {
      "text/plain": [
       "Index(['body_type', 'brand', 'car_url', 'color', 'engine_volume',\n",
       "       'engine_power', 'fuel_type', 'mileage', 'model_date', 'gear',\n",
       "       'number_of_doors', 'production_date', 'sell_id',\n",
       "       'vehicle_configuration', 'vehicle_transmission', 'owners_qty',\n",
       "       'licence', 'type_of_drive', 'steering_wheel', 'customs', 'price',\n",
       "       'sample'],\n",
       "      dtype='object')"
      ]
     },
     "execution_count": 24,
     "metadata": {},
     "output_type": "execute_result"
    }
   ],
   "source": [
    "# Переименуем признаки:\n",
    "\n",
    "data.rename(columns={'productionDate': 'production_date',\n",
    "                     'vehicleConfiguration': 'vehicle_configuration',\n",
    "                     'vehicleTransmission': 'vehicle_transmission',\n",
    "                     'name':'gear',\n",
    "                     'Владельцы': 'owners_qty',\n",
    "                     'Владение': 'ownership_time',\n",
    "                     'ПТС': 'licence',\n",
    "                     'Привод': 'type_of_drive',\n",
    "                     'Руль': 'steering_wheel',\n",
    "                     'Таможня': 'customs', \n",
    "                     'Price': 'price',\n",
    "                     'bodyType': 'body_type', \n",
    "                     'engineDisplacement': 'engine_volume',\n",
    "                     'enginePower': 'engine_power',\n",
    "                     'fuelType': 'fuel_type',\n",
    "                     'modelDate': 'model_date',\n",
    "                     'numberOfDoors': 'number_of_doors',}, inplace=True)\n",
    "data.columns"
   ]
  },
  {
   "cell_type": "markdown",
   "metadata": {},
   "source": [
    "- body_type - тип кузова,\n",
    "- brand - марка автомобиля,\n",
    "- car_url - url страницы объявления\n",
    "- color - цвет автомобиля,\n",
    "- engine_displacement - объём двигателя,\n",
    "- engine_volume - мощность двигателя,\n",
    "- fuel_type - тип топлива,\n",
    "- mileage - пробег,\n",
    "- model_date - дата релиза модели,\n",
    "- name - имя, введенное пользователем\n",
    "- number_of_doors - количество дверей,\n",
    "- production_date - дата производства автомобиля\n",
    "- vehicle_configuration - конфигурация транспортного средства (ТС),\n",
    "- vehicle_transmoission - тип коробки передач,\n",
    "- owners_qty - количество владельцев,\n",
    "- licence - паспорт ТС,\n",
    "- type_of_drive - тип привода,\n",
    "- steering_wheel - сторона руля,\n",
    "- customs - этап растаможки,\n",
    "- price - цена автомобиля, целевой параметр,\n",
    "- sample - индикатор принадлежности данных к тесту (0) и трейну (1),"
   ]
  },
  {
   "cell_type": "code",
   "execution_count": 25,
   "metadata": {},
   "outputs": [
    {
     "name": "stdout",
     "output_type": "stream",
     "text": [
      "<class 'pandas.core.frame.DataFrame'>\n",
      "Int64Index: 34686 entries, 0 to 34685\n",
      "Data columns (total 22 columns):\n",
      " #   Column                 Non-Null Count  Dtype  \n",
      "---  ------                 --------------  -----  \n",
      " 0   body_type              34686 non-null  object \n",
      " 1   brand                  34686 non-null  object \n",
      " 2   car_url                34686 non-null  object \n",
      " 3   color                  34686 non-null  object \n",
      " 4   engine_volume          34686 non-null  object \n",
      " 5   engine_power           34686 non-null  object \n",
      " 6   fuel_type              34686 non-null  object \n",
      " 7   mileage                34686 non-null  object \n",
      " 8   model_date             34686 non-null  float64\n",
      " 9   gear                   34686 non-null  object \n",
      " 10  number_of_doors        34686 non-null  float64\n",
      " 11  production_date        34686 non-null  int64  \n",
      " 12  sell_id                34686 non-null  int64  \n",
      " 13  vehicle_configuration  34686 non-null  object \n",
      " 14  vehicle_transmission   34686 non-null  object \n",
      " 15  owners_qty             34686 non-null  object \n",
      " 16  licence                34685 non-null  object \n",
      " 17  type_of_drive          34686 non-null  object \n",
      " 18  steering_wheel         34686 non-null  object \n",
      " 19  customs                34686 non-null  object \n",
      " 20  price                  34686 non-null  float64\n",
      " 21  sample                 34686 non-null  int64  \n",
      "dtypes: float64(3), int64(3), object(16)\n",
      "memory usage: 6.1+ MB\n"
     ]
    }
   ],
   "source": [
    "# Удалим дубликаты из датафрейма\n",
    "\n",
    "data = data.drop_duplicates()\n",
    "data[data['sample'] ==0].info()"
   ]
  },
  {
   "cell_type": "markdown",
   "metadata": {},
   "source": [
    "### EDA"
   ]
  },
  {
   "cell_type": "code",
   "execution_count": 26,
   "metadata": {},
   "outputs": [],
   "source": [
    "# числовые признаки\n",
    "num_cols = []\n",
    "\n",
    "# бинарные признаки\n",
    "bin_cols = []\n",
    "\n",
    "# категориальные признаки\n",
    "cat_cols = []\n",
    "\n",
    "# обработанные категориальные признаки\n",
    "ready_cat_cols = []"
   ]
  },
  {
   "cell_type": "code",
   "execution_count": 27,
   "metadata": {
    "scrolled": true
   },
   "outputs": [
    {
     "data": {
      "text/plain": [
       "(34686, 22)"
      ]
     },
     "execution_count": 27,
     "metadata": {},
     "output_type": "execute_result"
    }
   ],
   "source": [
    "data1 = data.copy() # сохраним данные в data1, чтобы зафиксировать изменения\n",
    "data[data['sample']==0].shape"
   ]
  },
  {
   "cell_type": "markdown",
   "metadata": {},
   "source": [
    "### CAR_URL"
   ]
  },
  {
   "cell_type": "code",
   "execution_count": 28,
   "metadata": {},
   "outputs": [
    {
     "data": {
      "text/plain": [
       "0         https://auto.ru/cars/used/sale/skoda/octavia/1...\n",
       "1         https://auto.ru/cars/used/sale/skoda/octavia/1...\n",
       "2         https://auto.ru/cars/used/sale/skoda/superb/11...\n",
       "3         https://auto.ru/cars/used/sale/skoda/octavia/1...\n",
       "4         https://auto.ru/cars/used/sale/skoda/octavia/1...\n",
       "                                ...                        \n",
       "158299                                               RODIUS\n",
       "158300                                               RODIUS\n",
       "158301                                               STAVIC\n",
       "158302                                               STAVIC\n",
       "158303                                               STAVIC\n",
       "Name: car_url, Length: 151852, dtype: object"
      ]
     },
     "execution_count": 28,
     "metadata": {},
     "output_type": "execute_result"
    }
   ],
   "source": [
    "data.car_url"
   ]
  },
  {
   "cell_type": "code",
   "execution_count": 29,
   "metadata": {},
   "outputs": [
    {
     "name": "stdout",
     "output_type": "stream",
     "text": [
      "<class 'pandas.core.frame.DataFrame'>\n",
      "Int64Index: 34686 entries, 0 to 34685\n",
      "Data columns (total 22 columns):\n",
      " #   Column                 Non-Null Count  Dtype  \n",
      "---  ------                 --------------  -----  \n",
      " 0   body_type              34686 non-null  object \n",
      " 1   brand                  34686 non-null  object \n",
      " 2   model_of_car           34686 non-null  object \n",
      " 3   color                  34686 non-null  object \n",
      " 4   engine_volume          34686 non-null  object \n",
      " 5   engine_power           34686 non-null  object \n",
      " 6   fuel_type              34686 non-null  object \n",
      " 7   mileage                34686 non-null  object \n",
      " 8   model_date             34686 non-null  float64\n",
      " 9   gear                   34686 non-null  object \n",
      " 10  number_of_doors        34686 non-null  float64\n",
      " 11  production_date        34686 non-null  int64  \n",
      " 12  sell_id                34686 non-null  int64  \n",
      " 13  vehicle_configuration  34686 non-null  object \n",
      " 14  vehicle_transmission   34686 non-null  object \n",
      " 15  owners_qty             34686 non-null  object \n",
      " 16  licence                34685 non-null  object \n",
      " 17  type_of_drive          34686 non-null  object \n",
      " 18  steering_wheel         34686 non-null  object \n",
      " 19  customs                34686 non-null  object \n",
      " 20  price                  34686 non-null  float64\n",
      " 21  sample                 34686 non-null  int64  \n",
      "dtypes: float64(3), int64(3), object(16)\n",
      "memory usage: 6.1+ MB\n"
     ]
    }
   ],
   "source": [
    "# Изменим столбец car_url на модель авто\n",
    "\n",
    "value = data.car_url.apply(lambda x: x.lower() if len(x.split('/'))==1 else x.split('/')[7].lower())\n",
    "idx = data.columns.get_loc('brand') \n",
    "data.insert(loc=idx+1, column='model_of_car', value=value )\n",
    "data = data.drop('car_url',1)\n",
    "data[data['sample'] ==0].info()"
   ]
  },
  {
   "cell_type": "code",
   "execution_count": 30,
   "metadata": {},
   "outputs": [
    {
     "data": {
      "text/plain": [
       "0         octavia\n",
       "1         octavia\n",
       "2          superb\n",
       "3         octavia\n",
       "4         octavia\n",
       "           ...   \n",
       "158299     rodius\n",
       "158300     rodius\n",
       "158301     stavic\n",
       "158302     stavic\n",
       "158303     stavic\n",
       "Name: model_of_car, Length: 151852, dtype: object"
      ]
     },
     "execution_count": 30,
     "metadata": {},
     "output_type": "execute_result"
    }
   ],
   "source": [
    "data['model_of_car']"
   ]
  },
  {
   "cell_type": "code",
   "execution_count": 31,
   "metadata": {},
   "outputs": [],
   "source": [
    "cat_cols.append('model_of_car')"
   ]
  },
  {
   "cell_type": "markdown",
   "metadata": {},
   "source": [
    "### bodyType"
   ]
  },
  {
   "cell_type": "code",
   "execution_count": 32,
   "metadata": {
    "scrolled": true
   },
   "outputs": [
    {
     "data": {
      "text/plain": [
       "array(['лифтбек', 'внедорожник 5 дв.', 'хэтчбек 5 дв.', 'седан',\n",
       "       'компактвэн', 'универсал 5 дв.', 'пикап одинарная кабина',\n",
       "       'хэтчбек 3 дв.', 'купе', 'кабриолет', 'минивэн',\n",
       "       'пикап двойная кабина', 'внедорожник 3 дв.', 'родстер', 'микровэн',\n",
       "       'седан 2 дв.', 'купе-хардтоп', 'фастбек', 'тарга',\n",
       "       'внедорожник открытый', 'лимузин', 'пикап полуторная кабина',\n",
       "       'седан-хардтоп', 'фургон', 'универсал 3 дв.', 'Седан',\n",
       "       'Универсал 5 дв.', 'Хэтчбек 5 дв. Sportback', 'Хэтчбек 3 дв.',\n",
       "       'Хэтчбек 5 дв.', 'Кабриолет', 'Купе', 'Лифтбек Sportback',\n",
       "       'Лифтбек', 'Седан Long', 'Внедорожник 5 дв.', 'Кабриолет Roadster',\n",
       "       'Седан 2 дв.', 'Седан Gran Coupe', 'Компактвэн',\n",
       "       'Компактвэн Gran Tourer', 'Лифтбек Gran Turismo',\n",
       "       'Хэтчбек 3 дв. Compact', 'Лифтбек Gran Coupe', 'Купе-хардтоп',\n",
       "       'Родстер Roadster', 'Родстер', 'Внедорожник 5 дв. ESV', 'Минивэн',\n",
       "       'Пикап Двойная кабина', 'Внедорожник 3 дв.',\n",
       "       'Пикап Одинарная кабина', 'Тарга', 'Пикап Двойная кабина Crew Cab',\n",
       "       'Пикап Двойная кабина Double',\n",
       "       'Пикап Одинарная кабина Regular Cab', 'Внедорожник 5 дв. EXT',\n",
       "       'Седан SRT8', 'Минивэн SWB', 'Минивэн Grand', 'Компактвэн Grand',\n",
       "       'Универсал 5 дв. CrossTourer', 'Минивэн Long', 'Минивэн XL',\n",
       "       'Микровэн Coach', 'Хэтчбек 5 дв. Best', 'Хэтчбек 5 дв. SRT4',\n",
       "       'Купе SRT', 'Седан SRT', 'Пикап Полуторная кабина',\n",
       "       'Пикап Двойная кабина Quad Cab',\n",
       "       'Пикап Полуторная кабина Quad Cab',\n",
       "       'Пикап Двойная кабина Crew Cab TRX',\n",
       "       'Пикап Полуторная кабина Club Cab',\n",
       "       'Пикап Двойная кабина Raptor SuperCrew',\n",
       "       'Пикап Двойная кабина CrewCab',\n",
       "       'Пикап Двойная кабина Raptor CrewCab',\n",
       "       'Пикап Двойная кабина Super Crew',\n",
       "       'Пикап Полуторная кабина Raptor', 'Пикап Двойная кабина SuperCrew',\n",
       "       'Кабриолет StreetKa', 'Пикап Двойная кабина Double Cab',\n",
       "       'Пикап Полуторная кабина Rap Cab', 'Компактвэн LWB',\n",
       "       'Компактвэн SWB', 'Минивэн LWB', 'Фастбек', 'Седан Type-S',\n",
       "       'Микровэн', 'Универсал 5 дв. Shuttle', nan, 'Родстер del Sol',\n",
       "       'Компактвэн Spike', 'Минивэн Spada', 'Седан Limousine',\n",
       "       'Внедорожник 5 дв. Grand', 'Хэтчбек 4 дв.', 'Седан SWB',\n",
       "       'Седан LWB', 'Внедорожник 5 дв. SRT',\n",
       "       'Внедорожник 5 дв. Trackhawk', 'Внедорожник 5 дв. SRT8',\n",
       "       'Внедорожник открытый', 'Хэтчбек 5 дв. GT Line',\n",
       "       'Хэтчбек 5 дв. X-Line', 'Хэтчбек 5 дв. EU',\n",
       "       'Внедорожник 5 дв. Prime', 'Внедорожник 5 дв. L', 'Минивэн Brawny',\n",
       "       'Универсал 5 дв. S-Familia', 'Кабриолет JCW', 'Кабриолет Cooper S',\n",
       "       'Хэтчбек 3 дв. Cooper S', 'Универсал 5 дв. JCW',\n",
       "       'Универсал 5 дв. Cooper S', 'Внедорожник 5 дв. Cooper S',\n",
       "       'Внедорожник 5 дв. JCW', 'Купе Cooper S', 'Хэтчбек 3 дв. JCW',\n",
       "       'Хэтчбек 5 дв. Cooper S', 'Универсал 5 дв. Plus', 'Купе Asti',\n",
       "       'Минивэн Caravan Elgrand', 'Компактвэн Joy',\n",
       "       'Универсал 5 дв. California', 'Седан Latio', 'Хэтчбек 3 дв. GTC',\n",
       "       'Универсал 5 дв. Country Tourer', 'Минивэн L', 'Тарга Targa',\n",
       "       'Купе RS', 'Седан Stepway', 'Хэтчбек 5 дв. Stepway',\n",
       "       'Компактвэн RX4', 'Компактвэн Conquest', 'Седан 120',\n",
       "       'Хэтчбек 5 дв. Scout', 'Универсал 5 дв. Scout',\n",
       "       'Универсал 5 дв. Spaceback', 'Внедорожник 5 дв. tS',\n",
       "       'Хэтчбек 5 дв. XV', 'Внедорожник 5 дв. XL-7',\n",
       "       'Универсал 5 дв. Gita', 'Седан US Market', 'Седан Japan Market',\n",
       "       'Седан Gracia', 'Универсал 5 дв. Gracia', 'Седан-хардтоп',\n",
       "       'Универсал 5 дв. Fielder', 'Седан Axio', 'Седан-хардтоп Ceres',\n",
       "       'Хэтчбек 5 дв. Runx', 'Лифтбек Liftback', 'Седан Premio',\n",
       "       'Седан T140', 'Минивэн Lucida', 'Минивэн Emina', 'Минивэн Regius',\n",
       "       'Пикап Двойная кабина Double cab', 'Внедорожник 3 дв. 78',\n",
       "       'Внедорожник 5 дв. 76', 'Пикап Одинарная кабина 79',\n",
       "       'Внедорожник 5 дв. Arctic Trucks', 'Компактвэн Noah',\n",
       "       'Универсал 5 дв. Blit', 'Универсал 5 дв. Qualis',\n",
       "       'Внедорожник 5 дв. Long', 'Пикап Полуторная кабина Long Bed',\n",
       "       'Пикап Двойная кабина CrewMax', 'Универсал 5 дв. Ardeo',\n",
       "       'Компактвэн Life', 'Компактвэн Maxi', 'Компактвэн Life Maxi',\n",
       "       'Компактвэн Alltrack', 'Универсал 5 дв. Alltrack',\n",
       "       'Хэтчбек 5 дв. Cross', 'Внедорожник 5 дв. Allspace',\n",
       "       'Компактвэн Cross', 'Фургон', 'Фургон Kasten',\n",
       "       'Универсал 5 дв. XC', 'Внедорожник 5 дв. 110',\n",
       "       'Внедорожник 3 дв. 90', 'Хэтчбек 5 дв. Long',\n",
       "       'Универсал 5 дв. All-Terrain', 'Внедорожник 5 дв. 4x4',\n",
       "       'Лимузин Pullman', 'Минивэн Extralong', 'Минивэн Marco Polo',\n",
       "       'Минивэн Extra Long', 'Минивэн L2', 'Минивэн L3', 'Минивэн L1',\n",
       "       'Пикап Двойная кабина Sports'], dtype=object)"
      ]
     },
     "execution_count": 32,
     "metadata": {},
     "output_type": "execute_result"
    }
   ],
   "source": [
    "data['body_type'].unique()"
   ]
  },
  {
   "cell_type": "code",
   "execution_count": 33,
   "metadata": {},
   "outputs": [],
   "source": [
    "# Переделаем названия\n",
    "data['body_type'] = data['body_type'].astype(str).apply(lambda x: None if x.strip()=='' else x)\n",
    "data['body_type'] = data['body_type'].apply(lambda x: x.split(' ')[0].lower())"
   ]
  },
  {
   "cell_type": "code",
   "execution_count": 34,
   "metadata": {},
   "outputs": [
    {
     "data": {
      "text/plain": [
       "внедорожник      55113\n",
       "седан            54194\n",
       "хэтчбек          15581\n",
       "лифтбек           8329\n",
       "универсал         5958\n",
       "минивэн           4034\n",
       "компактвэн        2949\n",
       "купе              2930\n",
       "пикап             1155\n",
       "купе-хардтоп       479\n",
       "кабриолет          354\n",
       "родстер            337\n",
       "фургон             324\n",
       "микровэн            48\n",
       "седан-хардтоп       36\n",
       "лимузин             15\n",
       "тарга               11\n",
       "фастбек              4\n",
       "nan                  1\n",
       "Name: body_type, dtype: int64"
      ]
     },
     "execution_count": 34,
     "metadata": {},
     "output_type": "execute_result"
    }
   ],
   "source": [
    "data['body_type'].value_counts()"
   ]
  },
  {
   "cell_type": "markdown",
   "metadata": {},
   "source": [
    "Самый популярный кузов внедорожник, на втором месте седан\n",
    "\n",
    "посмотрим на пропуски"
   ]
  },
  {
   "cell_type": "code",
   "execution_count": 35,
   "metadata": {},
   "outputs": [
    {
     "data": {
      "text/plain": [
       "0"
      ]
     },
     "execution_count": 35,
     "metadata": {},
     "output_type": "execute_result"
    }
   ],
   "source": [
    "data['body_type'].isna().sum()"
   ]
  },
  {
   "cell_type": "code",
   "execution_count": 36,
   "metadata": {},
   "outputs": [],
   "source": [
    "cat_cols.append('body_type')"
   ]
  },
  {
   "cell_type": "markdown",
   "metadata": {},
   "source": [
    "### Brand"
   ]
  },
  {
   "cell_type": "code",
   "execution_count": 37,
   "metadata": {},
   "outputs": [
    {
     "data": {
      "text/plain": [
       "array(['SKODA', 'AUDI', 'HONDA', 'VOLVO', 'BMW', 'NISSAN', 'INFINITI',\n",
       "       'MERCEDES', 'TOYOTA', 'LEXUS', 'VOLKSWAGEN', 'MITSUBISHI',\n",
       "       'CADILLAC', 'CHERY', 'CHEVROLET', 'CHRYSLER', 'CITROEN', 'DAEWOO',\n",
       "       'DODGE', 'FORD', 'GEELY', 'HYUNDAI', 'JAGUAR', 'JEEP', 'KIA',\n",
       "       'MAZDA', 'MINI', 'OPEL', 'PEUGEOT', 'PORSCHE', 'RENAULT', 'SUBARU',\n",
       "       'SUZUKI', 'GREAT_WALL', 'LAND_ROVER', 'SSANG_YONG'], dtype=object)"
      ]
     },
     "execution_count": 37,
     "metadata": {},
     "output_type": "execute_result"
    }
   ],
   "source": [
    "data['brand'].unique()"
   ]
  },
  {
   "cell_type": "code",
   "execution_count": 38,
   "metadata": {},
   "outputs": [
    {
     "data": {
      "text/plain": [
       "BMW           14538\n",
       "MERCEDES      14421\n",
       "VOLKSWAGEN    14371\n",
       "NISSAN        12876\n",
       "TOYOTA        11617\n",
       "AUDI          10533\n",
       "MITSUBISHI     9375\n",
       "SKODA          8988\n",
       "HYUNDAI        5448\n",
       "VOLVO          5414\n",
       "KIA            5382\n",
       "FORD           4780\n",
       "HONDA          4323\n",
       "CHEVROLET      3598\n",
       "LEXUS          3578\n",
       "OPEL           3100\n",
       "INFINITI       2815\n",
       "RENAULT        2691\n",
       "MAZDA          2291\n",
       "PEUGEOT        1614\n",
       "LAND_ROVER     1571\n",
       "CITROEN        1109\n",
       "DAEWOO         1035\n",
       "SUBARU          867\n",
       "SUZUKI          834\n",
       "SSANG_YONG      710\n",
       "PORSCHE         701\n",
       "CHERY           560\n",
       "JEEP            457\n",
       "GREAT_WALL      418\n",
       "DODGE           413\n",
       "CHRYSLER        318\n",
       "CADILLAC        305\n",
       "MINI            299\n",
       "JAGUAR          296\n",
       "GEELY           206\n",
       "Name: brand, dtype: int64"
      ]
     },
     "execution_count": 38,
     "metadata": {},
     "output_type": "execute_result"
    }
   ],
   "source": [
    "data['brand'].value_counts()"
   ]
  },
  {
   "cell_type": "markdown",
   "metadata": {},
   "source": [
    "Наиболее популярные бренды: БМВ, Mercedes, Volkswagen"
   ]
  },
  {
   "cell_type": "code",
   "execution_count": 39,
   "metadata": {},
   "outputs": [
    {
     "data": {
      "text/plain": [
       "0"
      ]
     },
     "execution_count": 39,
     "metadata": {},
     "output_type": "execute_result"
    }
   ],
   "source": [
    "data['brand'].isnull().sum()"
   ]
  },
  {
   "cell_type": "code",
   "execution_count": 40,
   "metadata": {},
   "outputs": [],
   "source": [
    "cat_cols.append('brand')"
   ]
  },
  {
   "cell_type": "markdown",
   "metadata": {},
   "source": [
    "### color"
   ]
  },
  {
   "cell_type": "code",
   "execution_count": 41,
   "metadata": {},
   "outputs": [
    {
     "data": {
      "text/plain": [
       "array(['синий', 'чёрный', 'серый', 'коричневый', 'белый', 'пурпурный',\n",
       "       'бежевый', 'серебристый', 'красный', 'зелёный', 'жёлтый',\n",
       "       'голубой', 'оранжевый', 'фиолетовый', 'золотистый', 'розовый',\n",
       "       '040001', 'EE1D19', '0000CC', 'CACECB', '007F00', 'FAFBFB',\n",
       "       '97948F', '22A0F8', '660099', '200204', 'C49648', 'DEA522',\n",
       "       '4A2197', 'FFD600', 'FF8649', 'FFC0CB'], dtype=object)"
      ]
     },
     "execution_count": 41,
     "metadata": {},
     "output_type": "execute_result"
    }
   ],
   "source": [
    "data['color'].unique()"
   ]
  },
  {
   "cell_type": "code",
   "execution_count": 42,
   "metadata": {},
   "outputs": [
    {
     "data": {
      "text/plain": [
       "040001         22917\n",
       "чёрный         21411\n",
       "FAFBFB         14258\n",
       "белый          13334\n",
       "CACECB         10915\n",
       "97948F         10021\n",
       "серый           8284\n",
       "0000CC          8179\n",
       "серебристый     7487\n",
       "синий           6414\n",
       "EE1D19          4410\n",
       "200204          3311\n",
       "коричневый      3107\n",
       "красный         3095\n",
       "007F00          2492\n",
       "C49648          1801\n",
       "зелёный         1709\n",
       "22A0F8          1322\n",
       "бежевый         1197\n",
       "голубой          820\n",
       "DEA522           768\n",
       "660099           741\n",
       "FFD600           692\n",
       "4A2197           601\n",
       "золотистый       499\n",
       "FF8649           473\n",
       "пурпурный        455\n",
       "жёлтый           412\n",
       "фиолетовый       412\n",
       "оранжевый        268\n",
       "FFC0CB            25\n",
       "розовый           22\n",
       "Name: color, dtype: int64"
      ]
     },
     "execution_count": 42,
     "metadata": {},
     "output_type": "execute_result"
    }
   ],
   "source": [
    "data['color'].value_counts()"
   ]
  },
  {
   "cell_type": "markdown",
   "metadata": {},
   "source": [
    "Самый популярные цвета среди автомобилей - чёрный и белый"
   ]
  },
  {
   "cell_type": "code",
   "execution_count": 43,
   "metadata": {},
   "outputs": [],
   "source": [
    "# переименуем признак:\n",
    "\n",
    "color_dict = {'040001':'black', \n",
    "              'FAFBFB':'white',\n",
    "              'CACECB':'silver',\n",
    "              '97948F':'grey',\n",
    "              'чёрный':'black',\n",
    "              '0000CC':'blue',\n",
    "              'белый':'white',\n",
    "              '200204':'brown',\n",
    "              'EE1D19':'red',\n",
    "              'серебристый':'silver',\n",
    "              'серый':'grey',\n",
    "              'синий':'blue',\n",
    "              '007F00':'green',\n",
    "              'C49648':'beige',\n",
    "              'красный':'red', \n",
    "              'коричневый':'brown',\n",
    "              '22A0F8':'light_blue',\n",
    "              'зелёный':'green',\n",
    "              '660099':'purple',\n",
    "              'DEA522':'gold',\n",
    "              '4A2197':'violet',\n",
    "              'бежевый':'beige',\n",
    "              'FFD600':'yellow',\n",
    "              'голубой':'light_blue',\n",
    "              'FF8649':'orange',\n",
    "              'золотистый':'gold',\n",
    "              'пурпурный':'purple',\n",
    "              'фиолетовый':'violet',\n",
    "              'жёлтый':'yellow',\n",
    "              'оранжевый':'orange',\n",
    "              'FFC0CB':'pink',\n",
    "              'розовый':'pink'\n",
    "             }\n",
    "\n",
    "data['color'] = data['color'].map(color_dict)"
   ]
  },
  {
   "cell_type": "markdown",
   "metadata": {},
   "source": [
    "Разделим цвета по популярности. Самые популярные: 1, менее популярные: 2,еще менее популярные: 3, не популярные: 4"
   ]
  },
  {
   "cell_type": "code",
   "execution_count": 44,
   "metadata": {},
   "outputs": [],
   "source": [
    "pop_color_dict = {\n",
    "    'white': 1,\n",
    "    'black': 1,\n",
    "    'blue': 2,\n",
    "    'silver': 2,\n",
    "    'grey': 2,\n",
    "    'brown': 3,\n",
    "    'red': 3, \n",
    "    'green': 3,\n",
    "    'beige': 3,\n",
    "    'light_blue': 3,\n",
    "    'purple': 4,\n",
    "    'yellow': 4, \n",
    "    'orange': 4,\n",
    "    'violet': 4, \n",
    "    'gold': 4, \n",
    "    'pink': 4\n",
    "}\n",
    "data['color'] = data['color'].map(pop_color_dict)"
   ]
  },
  {
   "cell_type": "code",
   "execution_count": 45,
   "metadata": {},
   "outputs": [],
   "source": [
    "ready_cat_cols.append('color')"
   ]
  },
  {
   "cell_type": "code",
   "execution_count": 46,
   "metadata": {},
   "outputs": [
    {
     "data": {
      "text/plain": [
       "0"
      ]
     },
     "execution_count": 46,
     "metadata": {},
     "output_type": "execute_result"
    }
   ],
   "source": [
    "data['color'].isnull().sum()"
   ]
  },
  {
   "cell_type": "code",
   "execution_count": 47,
   "metadata": {},
   "outputs": [],
   "source": [
    "data['color'].fillna(1, inplace=True)"
   ]
  },
  {
   "cell_type": "markdown",
   "metadata": {},
   "source": [
    "### fuelType"
   ]
  },
  {
   "cell_type": "code",
   "execution_count": 48,
   "metadata": {},
   "outputs": [
    {
     "data": {
      "text/plain": [
       "array(['бензин', 'дизель', 'гибрид', 'электро', 'газ', 'универсал'],\n",
       "      dtype=object)"
      ]
     },
     "execution_count": 48,
     "metadata": {},
     "output_type": "execute_result"
    }
   ],
   "source": [
    "data['fuel_type'].unique()"
   ]
  },
  {
   "cell_type": "code",
   "execution_count": 49,
   "metadata": {},
   "outputs": [
    {
     "data": {
      "text/plain": [
       "бензин       126098\n",
       "дизель        24658\n",
       "гибрид          837\n",
       "электро         235\n",
       "газ              23\n",
       "универсал         1\n",
       "Name: fuel_type, dtype: int64"
      ]
     },
     "execution_count": 49,
     "metadata": {},
     "output_type": "execute_result"
    }
   ],
   "source": [
    "data['fuel_type'].value_counts()"
   ]
  },
  {
   "cell_type": "markdown",
   "metadata": {},
   "source": [
    "Наиболее популярные машины на бензине, наименее - на газу"
   ]
  },
  {
   "cell_type": "code",
   "execution_count": 50,
   "metadata": {},
   "outputs": [],
   "source": [
    "# дадим латинские названия\n",
    "\n",
    "d = {\n",
    "    'бензин': 'petrol', \n",
    "    'дизель': 'diesel', \n",
    "    'гибрид': 'hybrid', \n",
    "    'электро': 'electro', \n",
    "    'газ': 'gas'\n",
    "}\n",
    "data['fuel_type'] = data['fuel_type'].map(d)"
   ]
  },
  {
   "cell_type": "code",
   "execution_count": 51,
   "metadata": {},
   "outputs": [],
   "source": [
    "cat_cols.append('fuel_type')"
   ]
  },
  {
   "cell_type": "markdown",
   "metadata": {},
   "source": [
    "### model_date,production_date"
   ]
  },
  {
   "cell_type": "code",
   "execution_count": 52,
   "metadata": {
    "scrolled": true
   },
   "outputs": [
    {
     "data": {
      "text/plain": [
       "array([1904., 1908., 1927., 1932., 1934., 1935., 1936., 1937., 1938.,\n",
       "       1948., 1949., 1950., 1951., 1953., 1954., 1955., 1956., 1957.,\n",
       "       1958., 1959., 1960., 1961., 1963., 1964., 1965., 1966., 1967.,\n",
       "       1968., 1969., 1970., 1971., 1972., 1973., 1974., 1975., 1976.,\n",
       "       1977., 1978., 1979., 1980., 1981., 1982., 1983., 1984., 1985.,\n",
       "       1986., 1987., 1988., 1989., 1990., 1991., 1992., 1993., 1994.,\n",
       "       1995., 1996., 1997., 1998., 1999., 2000., 2001., 2002., 2003.,\n",
       "       2004., 2005., 2006., 2007., 2008., 2009., 2010., 2011., 2012.,\n",
       "       2013., 2014., 2015., 2016., 2017., 2018., 2019., 2020., 2021.,\n",
       "         nan])"
      ]
     },
     "execution_count": 52,
     "metadata": {},
     "output_type": "execute_result"
    }
   ],
   "source": [
    "np.sort(data['model_date'].unique())"
   ]
  },
  {
   "cell_type": "code",
   "execution_count": 53,
   "metadata": {},
   "outputs": [
    {
     "data": {
      "text/plain": [
       "2010.0    10513\n",
       "2006.0     9884\n",
       "2009.0     9303\n",
       "2011.0     8899\n",
       "2012.0     8811\n",
       "          ...  \n",
       "1935.0        1\n",
       "1950.0        1\n",
       "1953.0        1\n",
       "1954.0        1\n",
       "1967.0        1\n",
       "Name: model_date, Length: 81, dtype: int64"
      ]
     },
     "execution_count": 53,
     "metadata": {},
     "output_type": "execute_result"
    }
   ],
   "source": [
    "data['model_date'].value_counts()"
   ]
  },
  {
   "cell_type": "code",
   "execution_count": 54,
   "metadata": {},
   "outputs": [
    {
     "data": {
      "text/plain": [
       "1979.0    87\n",
       "1978.0    28\n",
       "1977.0    22\n",
       "1976.0    19\n",
       "1975.0    71\n",
       "1974.0    35\n",
       "1973.0     6\n",
       "1972.0    18\n",
       "1971.0    13\n",
       "1970.0     4\n",
       "1969.0     2\n",
       "1968.0    10\n",
       "1967.0     1\n",
       "1966.0     4\n",
       "1965.0     6\n",
       "1964.0     2\n",
       "1963.0     6\n",
       "1961.0     2\n",
       "1960.0     5\n",
       "1959.0    12\n",
       "1958.0    11\n",
       "1957.0     4\n",
       "1956.0     3\n",
       "1955.0    11\n",
       "1954.0     1\n",
       "1953.0     1\n",
       "1951.0     9\n",
       "1950.0     1\n",
       "1949.0     7\n",
       "1948.0     1\n",
       "1938.0    20\n",
       "1937.0    11\n",
       "1936.0    10\n",
       "1935.0     1\n",
       "1934.0     2\n",
       "1932.0     2\n",
       "1927.0     3\n",
       "1908.0     2\n",
       "1904.0     2\n",
       "Name: model_date, dtype: int64"
      ]
     },
     "execution_count": 54,
     "metadata": {},
     "output_type": "execute_result"
    }
   ],
   "source": [
    "data['model_date'][data['model_date']< 1980].value_counts(dropna=False).sort_index(ascending=False)"
   ]
  },
  {
   "cell_type": "markdown",
   "metadata": {},
   "source": [
    "Автомобилей, произведенных ранее 1980 года очень мало.\n",
    "\n",
    "Примем эти автомобили за выбросы"
   ]
  },
  {
   "cell_type": "code",
   "execution_count": 55,
   "metadata": {},
   "outputs": [],
   "source": [
    "# примем  автомобили старше 1980 г. за выбросы\n",
    "data = data[~((data.model_date < 1980)&(data.sample==1))]"
   ]
  },
  {
   "cell_type": "code",
   "execution_count": 56,
   "metadata": {},
   "outputs": [
    {
     "data": {
      "text/plain": [
       "1"
      ]
     },
     "execution_count": 56,
     "metadata": {},
     "output_type": "execute_result"
    }
   ],
   "source": [
    "data['model_date'].isnull().sum()"
   ]
  },
  {
   "cell_type": "code",
   "execution_count": 57,
   "metadata": {},
   "outputs": [],
   "source": [
    "data = data.dropna(subset=['model_date'])"
   ]
  },
  {
   "cell_type": "code",
   "execution_count": 58,
   "metadata": {},
   "outputs": [
    {
     "data": {
      "text/plain": [
       "0         2014\n",
       "1         2017\n",
       "2         2014\n",
       "3         2014\n",
       "4         2012\n",
       "          ... \n",
       "158299    2006\n",
       "158300    2007\n",
       "158301    2014\n",
       "158302    2013\n",
       "158303    2014\n",
       "Name: production_date, Length: 151851, dtype: int64"
      ]
     },
     "execution_count": 58,
     "metadata": {},
     "output_type": "execute_result"
    }
   ],
   "source": [
    "data['production_date']"
   ]
  },
  {
   "cell_type": "code",
   "execution_count": 59,
   "metadata": {},
   "outputs": [
    {
     "data": {
      "text/plain": [
       "0"
      ]
     },
     "execution_count": 59,
     "metadata": {},
     "output_type": "execute_result"
    }
   ],
   "source": [
    "data['production_date'].isnull().sum()"
   ]
  },
  {
   "cell_type": "code",
   "execution_count": 60,
   "metadata": {},
   "outputs": [],
   "source": [
    "# Введем новые признаки возраст модели и возраст машины\n",
    "\n",
    "from datetime import date\n",
    "\n",
    "today = date.today()\n",
    "d1 = int(today.strftime(\"%Y\"))\n",
    "\n",
    "data['model_date'] = data['model_date'].astype('int')\n",
    "idx = data.columns.get_loc('model_date') \n",
    "data.insert(loc=idx+1, column='model_d', value=d1 - data['model_date'] )\n",
    "data.insert(loc=idx+1, column='production_d', value=d1 - data['production_date'] )"
   ]
  },
  {
   "cell_type": "code",
   "execution_count": 61,
   "metadata": {},
   "outputs": [],
   "source": [
    "num_cols.append('model_date')\n",
    "num_cols.append('production_date')\n",
    "num_cols.append('model_d')\n",
    "num_cols.append('production_d')"
   ]
  },
  {
   "cell_type": "markdown",
   "metadata": {},
   "source": [
    "### Gear"
   ]
  },
  {
   "cell_type": "code",
   "execution_count": 62,
   "metadata": {},
   "outputs": [
    {
     "data": {
      "text/plain": [
       "array(['1.2 AMT (105 л.с.)', '1.6 MT (110 л.с.)',\n",
       "       'DSG 1.8 AMT (152 л.с.)', ..., '2.3 AT (140 л.с.)',\n",
       "       '2.9d AT (132 л.с.) 4WD', '2.7d AT (165 л.с.) 4WD'], dtype=object)"
      ]
     },
     "execution_count": 62,
     "metadata": {},
     "output_type": "execute_result"
    }
   ],
   "source": [
    "data['gear'].unique()"
   ]
  },
  {
   "cell_type": "code",
   "execution_count": 63,
   "metadata": {},
   "outputs": [],
   "source": [
    "data['gear'] = data['gear'].astype(str)\n",
    "idx = data.columns.get_loc('color') \n",
    "data.insert(loc=idx+1, column='transmis', value= data['gear'].str.extract('([A][T]|[M][T]|[A][M][T]|[C][V][T])',\n",
    "                                                expand=False).str.strip())"
   ]
  },
  {
   "cell_type": "code",
   "execution_count": 64,
   "metadata": {},
   "outputs": [
    {
     "data": {
      "text/plain": [
       "AT     84240\n",
       "MT     38728\n",
       "AMT    15232\n",
       "CVT    13651\n",
       "Name: transmis, dtype: int64"
      ]
     },
     "execution_count": 64,
     "metadata": {},
     "output_type": "execute_result"
    }
   ],
   "source": [
    "data['transmis'].value_counts()"
   ]
  },
  {
   "cell_type": "markdown",
   "metadata": {},
   "source": [
    "Наиболее популряной коробкой передач является AT"
   ]
  },
  {
   "cell_type": "code",
   "execution_count": 65,
   "metadata": {},
   "outputs": [
    {
     "data": {
      "text/plain": [
       "0"
      ]
     },
     "execution_count": 65,
     "metadata": {},
     "output_type": "execute_result"
    }
   ],
   "source": [
    "data['transmis'].isnull().sum()"
   ]
  },
  {
   "cell_type": "code",
   "execution_count": 66,
   "metadata": {},
   "outputs": [],
   "source": [
    "data['transmis']=data['transmis'].fillna('AT')"
   ]
  },
  {
   "cell_type": "code",
   "execution_count": 67,
   "metadata": {},
   "outputs": [],
   "source": [
    "cat_cols.append('transmis')"
   ]
  },
  {
   "cell_type": "code",
   "execution_count": 68,
   "metadata": {},
   "outputs": [],
   "source": [
    "data = data.drop('gear', 1)"
   ]
  },
  {
   "cell_type": "markdown",
   "metadata": {},
   "source": [
    "### number_of_doors"
   ]
  },
  {
   "cell_type": "code",
   "execution_count": 69,
   "metadata": {},
   "outputs": [
    {
     "data": {
      "text/plain": [
       "array([5., 4., 2., 3., 0.])"
      ]
     },
     "execution_count": 69,
     "metadata": {},
     "output_type": "execute_result"
    }
   ],
   "source": [
    "data['number_of_doors'].unique()"
   ]
  },
  {
   "cell_type": "code",
   "execution_count": 70,
   "metadata": {},
   "outputs": [
    {
     "data": {
      "text/plain": [
       "4.0"
      ]
     },
     "execution_count": 70,
     "metadata": {},
     "output_type": "execute_result"
    }
   ],
   "source": [
    "mode = round(data['number_of_doors'].mean(),0)\n",
    "mode"
   ]
  },
  {
   "cell_type": "code",
   "execution_count": 71,
   "metadata": {},
   "outputs": [],
   "source": [
    "data['number_of_doors']=data['number_of_doors'].fillna(mode)"
   ]
  },
  {
   "cell_type": "code",
   "execution_count": 72,
   "metadata": {},
   "outputs": [
    {
     "data": {
      "text/plain": [
       "5.0    86731\n",
       "4.0    57536\n",
       "2.0     4237\n",
       "3.0     3345\n",
       "0.0        2\n",
       "Name: number_of_doors, dtype: int64"
      ]
     },
     "execution_count": 72,
     "metadata": {},
     "output_type": "execute_result"
    }
   ],
   "source": [
    "data['number_of_doors'].value_counts()"
   ]
  },
  {
   "cell_type": "markdown",
   "metadata": {},
   "source": [
    "Наибольшее количество автомобилей имеет 5 дверей"
   ]
  },
  {
   "cell_type": "code",
   "execution_count": 73,
   "metadata": {},
   "outputs": [],
   "source": [
    "num_cols.append('number_of_doors')"
   ]
  },
  {
   "cell_type": "markdown",
   "metadata": {},
   "source": [
    "### vehicle_configuration"
   ]
  },
  {
   "cell_type": "code",
   "execution_count": 74,
   "metadata": {},
   "outputs": [
    {
     "data": {
      "text/plain": [
       "SEDAN MECHANICAL 1.6               6499\n",
       "ALLROAD_5_DOORS AUTOMATIC 2.0      5849\n",
       "ALLROAD_5_DOORS AUTOMATIC 3.0      5467\n",
       "SEDAN AUTOMATIC 1.6                5216\n",
       "SEDAN AUTOMATIC 2.0                5173\n",
       "                                   ... \n",
       "SEDAN AUTOMATIC 335d                  1\n",
       "ROADSTER MECHANICAL 1.6               1\n",
       "CABRIO MECHANICAL 5.7                 1\n",
       "PICKUP_TWO MECHANICAL Sports          1\n",
       "ALLROAD_5_DOORS MECHANICAL 4.0d       1\n",
       "Name: vehicle_configuration, Length: 2088, dtype: int64"
      ]
     },
     "execution_count": 74,
     "metadata": {},
     "output_type": "execute_result"
    }
   ],
   "source": [
    "data['vehicle_configuration'].value_counts()"
   ]
  },
  {
   "cell_type": "markdown",
   "metadata": {},
   "source": [
    "Получим данные о типе коробки передач"
   ]
  },
  {
   "cell_type": "code",
   "execution_count": 75,
   "metadata": {},
   "outputs": [],
   "source": [
    "data['vehicle_configuration'] = data['vehicle_configuration'].astype(\n",
    "                str).apply(lambda x: x if len(x) == 1 else x.split())"
   ]
  },
  {
   "cell_type": "code",
   "execution_count": 76,
   "metadata": {},
   "outputs": [],
   "source": [
    "data['vehicle_configuration'] = data['vehicle_configuration'].apply(\n",
    "    lambda x: x[0].lower() if len(x) == 1 else x[1].lower())"
   ]
  },
  {
   "cell_type": "code",
   "execution_count": 77,
   "metadata": {},
   "outputs": [
    {
     "data": {
      "text/plain": [
       "automatic     84211\n",
       "mechanical    38757\n",
       "robot         15232\n",
       "variator      13651\n",
       "Name: vehicle_configuration, dtype: int64"
      ]
     },
     "execution_count": 77,
     "metadata": {},
     "output_type": "execute_result"
    }
   ],
   "source": [
    "data['vehicle_configuration'].value_counts()"
   ]
  },
  {
   "cell_type": "markdown",
   "metadata": {},
   "source": [
    "Больше всего машин с автоматической коробкой передач"
   ]
  },
  {
   "cell_type": "code",
   "execution_count": 78,
   "metadata": {},
   "outputs": [],
   "source": [
    "cat_cols.append('vehicle_configuration')"
   ]
  },
  {
   "cell_type": "markdown",
   "metadata": {},
   "source": [
    "### engine_volume"
   ]
  },
  {
   "cell_type": "code",
   "execution_count": 79,
   "metadata": {},
   "outputs": [
    {
     "data": {
      "text/plain": [
       "1.6        16377\n",
       "2.0 LTR    15700\n",
       "2.0        11490\n",
       "1.6 LTR     9885\n",
       "3.0 LTR     7733\n",
       "1.8 LTR     5913\n",
       "1.4         5295\n",
       "1.8         5065\n",
       "2.5 LTR     4825\n",
       "2.4 LTR     3597\n",
       "1.4 LTR     3581\n",
       "3.5 LTR     3187\n",
       "2.4         3046\n",
       "2.5         2486\n",
       "1.5         2104\n",
       "2.0d        1983\n",
       "1.5 LTR     1435\n",
       "350         1339\n",
       "3.0d        1334\n",
       "200         1217\n",
       "Name: engine_volume, dtype: int64"
      ]
     },
     "execution_count": 79,
     "metadata": {},
     "output_type": "execute_result"
    }
   ],
   "source": [
    "data['engine_volume'].value_counts(dropna=False).head(20)"
   ]
  },
  {
   "cell_type": "code",
   "execution_count": 80,
   "metadata": {},
   "outputs": [],
   "source": [
    "data['engine_volume'] = data['engine_volume'].astype(str)"
   ]
  },
  {
   "cell_type": "markdown",
   "metadata": {},
   "source": [
    "Получим объем двигателя"
   ]
  },
  {
   "cell_type": "code",
   "execution_count": 81,
   "metadata": {},
   "outputs": [],
   "source": [
    "data['engine_volume'] = data['engine_volume'].str.extract('(\\d.\\d)',expand=False).str.strip()\n",
    "\n",
    "data['engine_volume']=data['engine_volume'].astype(float)"
   ]
  },
  {
   "cell_type": "code",
   "execution_count": 82,
   "metadata": {},
   "outputs": [],
   "source": [
    "data['engine_volume'] = data['engine_volume'].apply(lambda x: round(x/100,1) if (x>10) else round(x,1))"
   ]
  },
  {
   "cell_type": "code",
   "execution_count": 83,
   "metadata": {},
   "outputs": [
    {
     "data": {
      "text/plain": [
       "2.3"
      ]
     },
     "execution_count": 83,
     "metadata": {},
     "output_type": "execute_result"
    }
   ],
   "source": [
    "mean = round(data['engine_volume'].mean(),1)\n",
    "mean"
   ]
  },
  {
   "cell_type": "code",
   "execution_count": 84,
   "metadata": {},
   "outputs": [
    {
     "data": {
      "text/plain": [
       "55"
      ]
     },
     "execution_count": 84,
     "metadata": {},
     "output_type": "execute_result"
    }
   ],
   "source": [
    "data[data['sample']==0]['engine_volume'].isnull().sum()"
   ]
  },
  {
   "cell_type": "code",
   "execution_count": 85,
   "metadata": {},
   "outputs": [],
   "source": [
    "data['engine_volume'].fillna(mean, inplace=True)"
   ]
  },
  {
   "cell_type": "code",
   "execution_count": 86,
   "metadata": {},
   "outputs": [
    {
     "data": {
      "text/plain": [
       "2.0    30446\n",
       "1.6    26454\n",
       "1.8    11546\n",
       "3.0    10976\n",
       "2.3     9366\n",
       "       ...  \n",
       "6.7        1\n",
       "7.2        1\n",
       "8.2        1\n",
       "8.1        1\n",
       "0.6        1\n",
       "Name: engine_volume, Length: 70, dtype: int64"
      ]
     },
     "execution_count": 86,
     "metadata": {},
     "output_type": "execute_result"
    }
   ],
   "source": [
    "data['engine_volume'].value_counts()"
   ]
  },
  {
   "cell_type": "code",
   "execution_count": 87,
   "metadata": {},
   "outputs": [],
   "source": [
    "num_cols.append('engine_volume')"
   ]
  },
  {
   "cell_type": "markdown",
   "metadata": {},
   "source": [
    "### engine_power"
   ]
  },
  {
   "cell_type": "code",
   "execution_count": 88,
   "metadata": {},
   "outputs": [
    {
     "data": {
      "text/plain": [
       "0         105 N12\n",
       "1         110 N12\n",
       "2         152 N12\n",
       "3         110 N12\n",
       "4         152 N12\n",
       "           ...   \n",
       "158299        163\n",
       "158300        163\n",
       "158301        149\n",
       "158302        149\n",
       "158303        149\n",
       "Name: engine_power, Length: 151851, dtype: object"
      ]
     },
     "execution_count": 88,
     "metadata": {},
     "output_type": "execute_result"
    }
   ],
   "source": [
    "data['engine_power']"
   ]
  },
  {
   "cell_type": "code",
   "execution_count": 89,
   "metadata": {},
   "outputs": [],
   "source": [
    "data['engine_power'] = data['engine_power'].astype(str).apply(lambda x: x.split()[0])\n",
    "data['engine_power'] = data['engine_power'].astype(float)"
   ]
  },
  {
   "cell_type": "code",
   "execution_count": 90,
   "metadata": {},
   "outputs": [
    {
     "data": {
      "text/plain": [
       "150.0    10317\n",
       "249.0     6909\n",
       "140.0     4704\n",
       "110.0     4255\n",
       "105.0     4097\n",
       "         ...  \n",
       "492.0        1\n",
       "700.0        1\n",
       "336.0        1\n",
       "489.0        1\n",
       "570.0        1\n",
       "Name: engine_power, Length: 409, dtype: int64"
      ]
     },
     "execution_count": 90,
     "metadata": {},
     "output_type": "execute_result"
    }
   ],
   "source": [
    "data['engine_power'].value_counts()"
   ]
  },
  {
   "cell_type": "code",
   "execution_count": 91,
   "metadata": {},
   "outputs": [
    {
     "data": {
      "text/plain": [
       "11.0     1\n",
       "17.0     1\n",
       "19.0     1\n",
       "20.0     2\n",
       "30.0     2\n",
       "        ..\n",
       "700.0    1\n",
       "702.0    1\n",
       "717.0    3\n",
       "761.0    1\n",
       "800.0    1\n",
       "Name: engine_power, Length: 409, dtype: int64"
      ]
     },
     "execution_count": 91,
     "metadata": {},
     "output_type": "execute_result"
    }
   ],
   "source": [
    "data['engine_power'].value_counts().sort_index()"
   ]
  },
  {
   "cell_type": "code",
   "execution_count": 92,
   "metadata": {},
   "outputs": [],
   "source": [
    "# Разобьём признак на категории:\n",
    "\n",
    "def engine_power(x):\n",
    "    if x < 100: x = 1\n",
    "    elif 99 < x < 150: x = 2\n",
    "    elif 149 < x < 200: x = 3\n",
    "    elif 199 < x < 250: x = 4\n",
    "    elif 249 < x < 300: x = 5\n",
    "    elif 299 < x < 350: x = 6\n",
    "    elif 349 < x < 400: x = 7\n",
    "    elif 399 < x < 450: x = 8\n",
    "    elif 449 < x < 500: x = 9\n",
    "    elif 499 < x < 550: x = 10\n",
    "    elif 549 < x < 600: x = 11\n",
    "    else: x = 12\n",
    "    return x  "
   ]
  },
  {
   "cell_type": "code",
   "execution_count": 93,
   "metadata": {},
   "outputs": [],
   "source": [
    "data['engine_power'] = data['engine_power'].map(engine_power)"
   ]
  },
  {
   "cell_type": "code",
   "execution_count": 94,
   "metadata": {},
   "outputs": [
    {
     "data": {
      "text/plain": [
       "0"
      ]
     },
     "execution_count": 94,
     "metadata": {},
     "output_type": "execute_result"
    }
   ],
   "source": [
    "data['engine_power'].isnull().sum()"
   ]
  },
  {
   "cell_type": "code",
   "execution_count": 95,
   "metadata": {},
   "outputs": [],
   "source": [
    "num_cols.append('engine_power')"
   ]
  },
  {
   "cell_type": "markdown",
   "metadata": {},
   "source": [
    "### mileage"
   ]
  },
  {
   "cell_type": "code",
   "execution_count": 96,
   "metadata": {},
   "outputs": [
    {
     "data": {
      "text/plain": [
       "0          74000\n",
       "1          60563\n",
       "2          88000\n",
       "3          95000\n",
       "4          58536\n",
       "           ...  \n",
       "158299    260000\n",
       "158300    300000\n",
       "158301    126000\n",
       "158302     84000\n",
       "158303    144000\n",
       "Name: mileage, Length: 151851, dtype: object"
      ]
     },
     "execution_count": 96,
     "metadata": {},
     "output_type": "execute_result"
    }
   ],
   "source": [
    "data['mileage']"
   ]
  },
  {
   "cell_type": "code",
   "execution_count": 97,
   "metadata": {},
   "outputs": [
    {
     "data": {
      "text/plain": [
       "0          74000\n",
       "1          60563\n",
       "2          88000\n",
       "3          95000\n",
       "4          58536\n",
       "           ...  \n",
       "158299    260000\n",
       "158300    300000\n",
       "158301    126000\n",
       "158302     84000\n",
       "158303    144000\n",
       "Name: mileage, Length: 151851, dtype: int64"
      ]
     },
     "execution_count": 97,
     "metadata": {},
     "output_type": "execute_result"
    }
   ],
   "source": [
    "data['mileage'] = data['mileage'].astype(str).apply(lambda x: x.replace('\\xa0',''))\n",
    "data['mileage'] = data['mileage'].astype(str).apply(lambda x: x.replace('км',''))\n",
    "data['mileage'] = data['mileage'].apply(lambda x: int(x.replace(' ','')))\n",
    "data['mileage']"
   ]
  },
  {
   "cell_type": "code",
   "execution_count": 98,
   "metadata": {},
   "outputs": [
    {
     "data": {
      "text/plain": [
       "0"
      ]
     },
     "execution_count": 98,
     "metadata": {},
     "output_type": "execute_result"
    }
   ],
   "source": [
    "data['mileage'].isna().sum()"
   ]
  },
  {
   "cell_type": "code",
   "execution_count": 99,
   "metadata": {},
   "outputs": [],
   "source": [
    "num_cols.append('mileage')"
   ]
  },
  {
   "cell_type": "markdown",
   "metadata": {},
   "source": [
    "### mileage_per_year"
   ]
  },
  {
   "cell_type": "code",
   "execution_count": 100,
   "metadata": {},
   "outputs": [],
   "source": [
    "import math\n",
    "\n",
    "value= round(data['mileage'].astype(int)/(data['model_d'].apply(lambda x: x if x>0 else x+1)),-2)\n",
    "idx = data.columns.get_loc('licence') \n",
    "data.insert(loc=idx+1, column='mileage_per_year', value= value)\n",
    "data['mileage_per_year'] = data['mileage_per_year'].apply(lambda x: x if x != math.inf else 0 )"
   ]
  },
  {
   "cell_type": "code",
   "execution_count": 101,
   "metadata": {},
   "outputs": [
    {
     "data": {
      "text/plain": [
       "0          9200.0\n",
       "1         15100.0\n",
       "2         11000.0\n",
       "3         11900.0\n",
       "4          4500.0\n",
       "           ...   \n",
       "158299    15300.0\n",
       "158300    17600.0\n",
       "158301    15800.0\n",
       "158302    10500.0\n",
       "158303    18000.0\n",
       "Name: mileage_per_year, Length: 151851, dtype: float64"
      ]
     },
     "execution_count": 101,
     "metadata": {},
     "output_type": "execute_result"
    }
   ],
   "source": [
    "data['mileage_per_year']"
   ]
  },
  {
   "cell_type": "code",
   "execution_count": 102,
   "metadata": {},
   "outputs": [],
   "source": [
    "num_cols.append('mileage_per_year')"
   ]
  },
  {
   "cell_type": "markdown",
   "metadata": {},
   "source": [
    "### type_of_drive"
   ]
  },
  {
   "cell_type": "code",
   "execution_count": 103,
   "metadata": {},
   "outputs": [
    {
     "data": {
      "text/plain": [
       "array(['передний', 'полный', 'задний'], dtype=object)"
      ]
     },
     "execution_count": 103,
     "metadata": {},
     "output_type": "execute_result"
    }
   ],
   "source": [
    "data['type_of_drive'].unique()"
   ]
  },
  {
   "cell_type": "code",
   "execution_count": 104,
   "metadata": {},
   "outputs": [
    {
     "data": {
      "text/plain": [
       "передний    75614\n",
       "полный      62556\n",
       "задний      13681\n",
       "Name: type_of_drive, dtype: int64"
      ]
     },
     "execution_count": 104,
     "metadata": {},
     "output_type": "execute_result"
    }
   ],
   "source": [
    "data['type_of_drive'].value_counts(dropna=False)"
   ]
  },
  {
   "cell_type": "code",
   "execution_count": 105,
   "metadata": {},
   "outputs": [],
   "source": [
    "# дадим латинские названия\n",
    "td = {\n",
    "    'передний': 'front', \n",
    "    'полный': 'full', \n",
    "    'задний': 'back'\n",
    "}\n",
    "data['type_of_drive'] = data['type_of_drive'].map(td)"
   ]
  },
  {
   "cell_type": "code",
   "execution_count": 106,
   "metadata": {},
   "outputs": [],
   "source": [
    "data['type_of_drive']=data['type_of_drive'].fillna('front')"
   ]
  },
  {
   "cell_type": "markdown",
   "metadata": {},
   "source": [
    "Наибольшее ко-во машин имеет передний привод"
   ]
  },
  {
   "cell_type": "code",
   "execution_count": 107,
   "metadata": {},
   "outputs": [],
   "source": [
    "cat_cols.append('type_of_drive')"
   ]
  },
  {
   "cell_type": "markdown",
   "metadata": {},
   "source": [
    "### steering_wheel"
   ]
  },
  {
   "cell_type": "code",
   "execution_count": 108,
   "metadata": {},
   "outputs": [
    {
     "data": {
      "text/plain": [
       "LEFT      81142\n",
       "Левый     66250\n",
       "Правый     2676\n",
       "RIGHT      1783\n",
       "Name: steering_wheel, dtype: int64"
      ]
     },
     "execution_count": 108,
     "metadata": {},
     "output_type": "execute_result"
    }
   ],
   "source": [
    "data['steering_wheel'].value_counts(dropna=False)"
   ]
  },
  {
   "cell_type": "code",
   "execution_count": 109,
   "metadata": {},
   "outputs": [],
   "source": [
    "steering_wheel_dict = {'LEFT':'left', \n",
    "                       'Левый':'left',\n",
    "                       'RIGHT':'right', \n",
    "                       'Правый':'right',\n",
    "                        }\n",
    "data['steering_wheel'] = data['steering_wheel'].map(steering_wheel_dict)"
   ]
  },
  {
   "cell_type": "code",
   "execution_count": 110,
   "metadata": {},
   "outputs": [
    {
     "data": {
      "text/plain": [
       "left     147392\n",
       "right      4459\n",
       "Name: steering_wheel, dtype: int64"
      ]
     },
     "execution_count": 110,
     "metadata": {},
     "output_type": "execute_result"
    }
   ],
   "source": [
    "data['steering_wheel'].value_counts()"
   ]
  },
  {
   "cell_type": "code",
   "execution_count": 111,
   "metadata": {},
   "outputs": [
    {
     "data": {
      "text/plain": [
       "0"
      ]
     },
     "execution_count": 111,
     "metadata": {},
     "output_type": "execute_result"
    }
   ],
   "source": [
    "data['steering_wheel'].isnull().sum()"
   ]
  },
  {
   "cell_type": "code",
   "execution_count": 112,
   "metadata": {},
   "outputs": [],
   "source": [
    "bin_cols.append('steering_wheel')"
   ]
  },
  {
   "cell_type": "markdown",
   "metadata": {},
   "source": [
    "### owners_qty"
   ]
  },
  {
   "cell_type": "code",
   "execution_count": 113,
   "metadata": {},
   "outputs": [
    {
     "data": {
      "text/plain": [
       "3.0            36002\n",
       "3 или более    30275\n",
       "2.0            20860\n",
       "1 владелец     20524\n",
       "1.0            18366\n",
       "2 владельца    18127\n",
       "NaN             7697\n",
       "Name: owners_qty, dtype: int64"
      ]
     },
     "execution_count": 113,
     "metadata": {},
     "output_type": "execute_result"
    }
   ],
   "source": [
    "data['owners_qty'].value_counts(dropna=False)"
   ]
  },
  {
   "cell_type": "code",
   "execution_count": 114,
   "metadata": {},
   "outputs": [
    {
     "data": {
      "text/plain": [
       "0         [3, или, более]\n",
       "1           [1, владелец]\n",
       "2           [1, владелец]\n",
       "3           [1, владелец]\n",
       "4           [1, владелец]\n",
       "               ...       \n",
       "158299              [3.0]\n",
       "158300              [3.0]\n",
       "158301              [1.0]\n",
       "158302              [3.0]\n",
       "158303              [2.0]\n",
       "Name: owners_qty, Length: 151851, dtype: object"
      ]
     },
     "execution_count": 114,
     "metadata": {},
     "output_type": "execute_result"
    }
   ],
   "source": [
    "data['owners_qty'] = data['owners_qty'].astype(\n",
    "                str).apply(lambda x: x if len(x) == 1 else x.split())\n",
    "data['owners_qty']"
   ]
  },
  {
   "cell_type": "code",
   "execution_count": 115,
   "metadata": {},
   "outputs": [],
   "source": [
    "data['owners_qty']= data['owners_qty'].apply(\n",
    "    lambda x: x[0].lower() if len(x) == 1 else x[0].lower())"
   ]
  },
  {
   "cell_type": "code",
   "execution_count": 116,
   "metadata": {},
   "outputs": [],
   "source": [
    "data['owners_qty']=data['owners_qty'].astype(float)"
   ]
  },
  {
   "cell_type": "code",
   "execution_count": 117,
   "metadata": {},
   "outputs": [
    {
     "data": {
      "text/plain": [
       "7697"
      ]
     },
     "execution_count": 117,
     "metadata": {},
     "output_type": "execute_result"
    }
   ],
   "source": [
    "data['owners_qty'].isnull().sum()"
   ]
  },
  {
   "cell_type": "code",
   "execution_count": 118,
   "metadata": {},
   "outputs": [],
   "source": [
    "data['owners_qty'].fillna(2, inplace=True)"
   ]
  },
  {
   "cell_type": "code",
   "execution_count": 119,
   "metadata": {},
   "outputs": [],
   "source": [
    "ready_cat_cols.append('owners_qty')"
   ]
  },
  {
   "cell_type": "markdown",
   "metadata": {},
   "source": [
    "### licence"
   ]
  },
  {
   "cell_type": "code",
   "execution_count": 120,
   "metadata": {},
   "outputs": [
    {
     "data": {
      "text/plain": [
       "array(['Оригинал', 'Дубликат', nan, 'ORIGINAL', 'DUPLICATE'], dtype=object)"
      ]
     },
     "execution_count": 120,
     "metadata": {},
     "output_type": "execute_result"
    }
   ],
   "source": [
    "data['licence'].unique()"
   ]
  },
  {
   "cell_type": "code",
   "execution_count": 121,
   "metadata": {},
   "outputs": [],
   "source": [
    "licence_dict={'Оригинал': 1,\n",
    "             'Дубликат': 0,\n",
    "             'ORIGINAL':1,\n",
    "             'DUPLICATE':0}\n",
    "data['licence'] = data['licence'].map(licence_dict)"
   ]
  },
  {
   "cell_type": "code",
   "execution_count": 122,
   "metadata": {},
   "outputs": [
    {
     "data": {
      "text/plain": [
       "1.0    131855\n",
       "0.0     19657\n",
       "NaN       339\n",
       "Name: licence, dtype: int64"
      ]
     },
     "execution_count": 122,
     "metadata": {},
     "output_type": "execute_result"
    }
   ],
   "source": [
    "data['licence'].value_counts(dropna=False)"
   ]
  },
  {
   "cell_type": "markdown",
   "metadata": {},
   "source": [
    "Если лицензия не указана, то не будем ставить, что она есть, возможно машина без документов. Установим значение 2 - отличается от остальных"
   ]
  },
  {
   "cell_type": "code",
   "execution_count": 123,
   "metadata": {},
   "outputs": [],
   "source": [
    "data['licence'] = data['licence'].fillna(2)"
   ]
  },
  {
   "cell_type": "code",
   "execution_count": 124,
   "metadata": {},
   "outputs": [],
   "source": [
    "ready_cat_cols.append('licence')"
   ]
  },
  {
   "cell_type": "markdown",
   "metadata": {},
   "source": [
    "### customs"
   ]
  },
  {
   "cell_type": "code",
   "execution_count": 125,
   "metadata": {},
   "outputs": [
    {
     "data": {
      "text/plain": [
       "True             82925\n",
       "Растаможен       68925\n",
       "Не растаможен        1\n",
       "Name: customs, dtype: int64"
      ]
     },
     "execution_count": 125,
     "metadata": {},
     "output_type": "execute_result"
    }
   ],
   "source": [
    "data['customs'].value_counts()"
   ]
  },
  {
   "cell_type": "markdown",
   "metadata": {},
   "source": [
    "всего один нерастаможенный автомобиль. Нет смысла держать этот признак в датасете"
   ]
  },
  {
   "cell_type": "code",
   "execution_count": 126,
   "metadata": {},
   "outputs": [],
   "source": [
    "data = data.drop('customs', 1)"
   ]
  },
  {
   "cell_type": "markdown",
   "metadata": {},
   "source": [
    "### vehicle_transmission"
   ]
  },
  {
   "cell_type": "code",
   "execution_count": 127,
   "metadata": {},
   "outputs": [
    {
     "data": {
      "text/plain": [
       "AUTOMATIC           45713\n",
       "автоматическая      38498\n",
       "MECHANICAL          24909\n",
       "механическая        13848\n",
       "роботизированная     8295\n",
       "вариатор             8285\n",
       "ROBOT                6937\n",
       "VARIATOR             5366\n",
       "Name: vehicle_transmission, dtype: int64"
      ]
     },
     "execution_count": 127,
     "metadata": {},
     "output_type": "execute_result"
    }
   ],
   "source": [
    "data['vehicle_transmission'].value_counts()"
   ]
  },
  {
   "cell_type": "code",
   "execution_count": 128,
   "metadata": {},
   "outputs": [],
   "source": [
    "data = data.drop('vehicle_transmission',1)"
   ]
  },
  {
   "cell_type": "markdown",
   "metadata": {},
   "source": [
    "Такой признак уже был"
   ]
  },
  {
   "cell_type": "markdown",
   "metadata": {},
   "source": [
    "### Price"
   ]
  },
  {
   "cell_type": "markdown",
   "metadata": {},
   "source": [
    "Уже делали обработку при учете инфляции для train 2021"
   ]
  },
  {
   "cell_type": "code",
   "execution_count": 129,
   "metadata": {},
   "outputs": [
    {
     "data": {
      "text/plain": [
       "0               0.0\n",
       "1               0.0\n",
       "2               0.0\n",
       "3               0.0\n",
       "4               0.0\n",
       "            ...    \n",
       "158299     450000.0\n",
       "158300     485000.0\n",
       "158301    1090000.0\n",
       "158302    1180000.0\n",
       "158303    1075000.0\n",
       "Name: price, Length: 151851, dtype: float64"
      ]
     },
     "execution_count": 129,
     "metadata": {},
     "output_type": "execute_result"
    }
   ],
   "source": [
    "data['price']"
   ]
  },
  {
   "cell_type": "code",
   "execution_count": 130,
   "metadata": {},
   "outputs": [
    {
     "data": {
      "text/plain": [
       "68947    NaN\n",
       "69238    NaN\n",
       "69275    NaN\n",
       "69580    NaN\n",
       "69621    NaN\n",
       "          ..\n",
       "157347   NaN\n",
       "157508   NaN\n",
       "157593   NaN\n",
       "157916   NaN\n",
       "158202   NaN\n",
       "Name: price, Length: 410, dtype: float64"
      ]
     },
     "execution_count": 130,
     "metadata": {},
     "output_type": "execute_result"
    }
   ],
   "source": [
    "data['price'][(data['sample']==1)&(data['price'].isna())]"
   ]
  },
  {
   "cell_type": "markdown",
   "metadata": {},
   "source": [
    "Так как это целевая переменная, удалим пустые значения"
   ]
  },
  {
   "cell_type": "code",
   "execution_count": 131,
   "metadata": {},
   "outputs": [],
   "source": [
    "data.dropna(subset=['price'], inplace=True)"
   ]
  },
  {
   "cell_type": "code",
   "execution_count": 132,
   "metadata": {},
   "outputs": [
    {
     "name": "stdout",
     "output_type": "stream",
     "text": [
      "Количество дубликатов: 969\n"
     ]
    }
   ],
   "source": [
    "# Посмотрим, есть ли  дубликаты:\n",
    "\n",
    "print('Количество дубликатов:',len(data) - len(data.drop_duplicates()))"
   ]
  },
  {
   "cell_type": "code",
   "execution_count": 133,
   "metadata": {},
   "outputs": [
    {
     "data": {
      "text/plain": [
       "body_type                0\n",
       "brand                    0\n",
       "model_of_car             0\n",
       "color                    0\n",
       "transmis                 0\n",
       "engine_volume            0\n",
       "engine_power             0\n",
       "fuel_type                0\n",
       "mileage                  0\n",
       "model_date               0\n",
       "production_d             0\n",
       "model_d                  0\n",
       "number_of_doors          0\n",
       "production_date          0\n",
       "sell_id                  0\n",
       "vehicle_configuration    0\n",
       "owners_qty               0\n",
       "licence                  0\n",
       "mileage_per_year         0\n",
       "type_of_drive            0\n",
       "steering_wheel           0\n",
       "price                    0\n",
       "sample                   0\n",
       "dtype: int64"
      ]
     },
     "execution_count": 133,
     "metadata": {},
     "output_type": "execute_result"
    }
   ],
   "source": [
    "data = data.drop_duplicates()\n",
    "data.isna().sum()"
   ]
  },
  {
   "cell_type": "markdown",
   "metadata": {},
   "source": [
    "## Анализ признаков"
   ]
  },
  {
   "cell_type": "code",
   "execution_count": 134,
   "metadata": {},
   "outputs": [
    {
     "name": "stdout",
     "output_type": "stream",
     "text": [
      "['steering_wheel']\n",
      "['model_date', 'production_date', 'model_d', 'production_d', 'number_of_doors', 'engine_volume', 'engine_power', 'mileage', 'mileage_per_year']\n",
      "['model_of_car', 'body_type', 'brand', 'fuel_type', 'transmis', 'vehicle_configuration', 'type_of_drive']\n",
      "['color', 'owners_qty', 'licence']\n"
     ]
    }
   ],
   "source": [
    "print(bin_cols)\n",
    "print(num_cols)\n",
    "print(cat_cols)\n",
    "print(ready_cat_cols)"
   ]
  },
  {
   "cell_type": "code",
   "execution_count": 135,
   "metadata": {},
   "outputs": [
    {
     "name": "stdout",
     "output_type": "stream",
     "text": [
      "<class 'pandas.core.frame.DataFrame'>\n",
      "Int64Index: 150472 entries, 0 to 158303\n",
      "Data columns (total 23 columns):\n",
      " #   Column                 Non-Null Count   Dtype  \n",
      "---  ------                 --------------   -----  \n",
      " 0   body_type              150472 non-null  object \n",
      " 1   brand                  150472 non-null  object \n",
      " 2   model_of_car           150472 non-null  object \n",
      " 3   color                  150472 non-null  int64  \n",
      " 4   transmis               150472 non-null  object \n",
      " 5   engine_volume          150472 non-null  float64\n",
      " 6   engine_power           150472 non-null  int64  \n",
      " 7   fuel_type              150472 non-null  object \n",
      " 8   mileage                150472 non-null  int64  \n",
      " 9   model_date             150472 non-null  int32  \n",
      " 10  production_d           150472 non-null  int64  \n",
      " 11  model_d                150472 non-null  int32  \n",
      " 12  number_of_doors        150472 non-null  float64\n",
      " 13  production_date        150472 non-null  int64  \n",
      " 14  sell_id                150472 non-null  int64  \n",
      " 15  vehicle_configuration  150472 non-null  object \n",
      " 16  owners_qty             150472 non-null  float64\n",
      " 17  licence                150472 non-null  float64\n",
      " 18  mileage_per_year       150472 non-null  float64\n",
      " 19  type_of_drive          150472 non-null  object \n",
      " 20  steering_wheel         150472 non-null  object \n",
      " 21  price                  150472 non-null  float64\n",
      " 22  sample                 150472 non-null  int64  \n",
      "dtypes: float64(6), int32(2), int64(7), object(8)\n",
      "memory usage: 26.4+ MB\n"
     ]
    }
   ],
   "source": [
    "data.info()"
   ]
  },
  {
   "cell_type": "markdown",
   "metadata": {},
   "source": [
    "### Анализ числовых переменных"
   ]
  },
  {
   "cell_type": "code",
   "execution_count": 138,
   "metadata": {},
   "outputs": [
    {
     "data": {
      "text/plain": [
       "<AxesSubplot:>"
      ]
     },
     "execution_count": 138,
     "metadata": {},
     "output_type": "execute_result"
    },
    {
     "data": {
      "image/png": "[encoded data removed]",
      "text/plain": [
       "<Figure size 720x720 with 2 Axes>"
      ]
     },
     "metadata": {
      "needs_background": "light"
     },
     "output_type": "display_data"
    }
   ],
   "source": [
    "# посмотрим на корреляцию признаков между собой\n",
    "plt.figure(figsize=(10, 10))\n",
    "sns.heatmap(data[num_cols + ['price']].corr().abs(), vmin=0, vmax=1,\n",
    "            annot=True, fmt=\".2f\", cmap=\"YlGnBu\")"
   ]
  },
  {
   "cell_type": "markdown",
   "metadata": {},
   "source": [
    "Признаки model_date, production_date, model_d, production_d полностью коррелируют друг другом, поэтому оставим только один из них: production_d"
   ]
  },
  {
   "cell_type": "code",
   "execution_count": 139,
   "metadata": {},
   "outputs": [],
   "source": [
    "data = data.drop(['model_date', 'production_date', 'model_d'], 1)"
   ]
  },
  {
   "cell_type": "code",
   "execution_count": 140,
   "metadata": {},
   "outputs": [],
   "source": [
    "num_cols.remove('model_date')\n",
    "num_cols.remove('production_date')\n",
    "num_cols.remove('model_d')"
   ]
  },
  {
   "cell_type": "code",
   "execution_count": 141,
   "metadata": {},
   "outputs": [
    {
     "data": {
      "image/png": "[encoded data removed]",
      "text/plain": [
       "<Figure size 1872x576 with 2 Axes>"
      ]
     },
     "metadata": {
      "needs_background": "light"
     },
     "output_type": "display_data"
    },
    {
     "name": "stdout",
     "output_type": "stream",
     "text": [
      "\n"
     ]
    },
    {
     "data": {
      "image/png": "[encoded data removed]",
      "text/plain": [
       "<Figure size 1872x576 with 2 Axes>"
      ]
     },
     "metadata": {
      "needs_background": "light"
     },
     "output_type": "display_data"
    },
    {
     "name": "stdout",
     "output_type": "stream",
     "text": [
      "\n"
     ]
    },
    {
     "data": {
      "image/png": "[encoded data removed]",
      "text/plain": [
       "<Figure size 1872x576 with 2 Axes>"
      ]
     },
     "metadata": {
      "needs_background": "light"
     },
     "output_type": "display_data"
    },
    {
     "name": "stdout",
     "output_type": "stream",
     "text": [
      "\n"
     ]
    },
    {
     "data": {
      "image/png": "[encoded data removed]",
      "text/plain": [
       "<Figure size 1872x576 with 2 Axes>"
      ]
     },
     "metadata": {
      "needs_background": "light"
     },
     "output_type": "display_data"
    },
    {
     "name": "stdout",
     "output_type": "stream",
     "text": [
      "\n"
     ]
    },
    {
     "data": {
      "image/png": "[encoded data removed]",
      "text/plain": [
       "<Figure size 1872x576 with 2 Axes>"
      ]
     },
     "metadata": {
      "needs_background": "light"
     },
     "output_type": "display_data"
    },
    {
     "name": "stdout",
     "output_type": "stream",
     "text": [
      "\n"
     ]
    },
    {
     "data": {
      "image/png": "[encoded data removed]",
      "text/plain": [
       "<Figure size 1872x576 with 2 Axes>"
      ]
     },
     "metadata": {
      "needs_background": "light"
     },
     "output_type": "display_data"
    },
    {
     "name": "stdout",
     "output_type": "stream",
     "text": [
      "\n"
     ]
    }
   ],
   "source": [
    "for col in num_cols:\n",
    "    visualizing_number(data, col)"
   ]
  },
  {
   "cell_type": "code",
   "execution_count": 142,
   "metadata": {},
   "outputs": [
    {
     "data": {
      "text/plain": [
       "Text(0.5, 1.0, 'Значимость чиловых переменных для price')"
      ]
     },
     "execution_count": 142,
     "metadata": {},
     "output_type": "execute_result"
    },
    {
     "data": {
      "image/png": "[encoded data removed]",
      "text/plain": [
       "<Figure size 432x288 with 1 Axes>"
      ]
     },
     "metadata": {
      "needs_background": "light"
     },
     "output_type": "display_data"
    }
   ],
   "source": [
    "# #определяем значимость наших переменных:\n",
    "\n",
    "imp_cat = Series(mutual_info_classif(data[data['price'] >0][num_cols], \n",
    "                                     data[data['price'] >0]['price'],\n",
    "                                     discrete_features = True), index = num_cols)\n",
    "imp_cat.sort_values(inplace = True)\n",
    "imp_cat.plot(kind = 'barh')\n",
    "plt.title('Значимость чиловых переменных для price')"
   ]
  },
  {
   "cell_type": "markdown",
   "metadata": {},
   "source": [
    "### Анализ категориальных и бинарных переменных"
   ]
  },
  {
   "cell_type": "code",
   "execution_count": 143,
   "metadata": {},
   "outputs": [
    {
     "data": {
      "text/html": [
       "<div>\n",
       "<style scoped>\n",
       "    .dataframe tbody tr th:only-of-type {\n",
       "        vertical-align: middle;\n",
       "    }\n",
       "\n",
       "    .dataframe tbody tr th {\n",
       "        vertical-align: top;\n",
       "    }\n",
       "\n",
       "    .dataframe thead th {\n",
       "        text-align: right;\n",
       "    }\n",
       "</style>\n",
       "<table border=\"1\" class=\"dataframe\">\n",
       "  <thead>\n",
       "    <tr style=\"text-align: right;\">\n",
       "      <th></th>\n",
       "      <th>color</th>\n",
       "      <th>owners_qty</th>\n",
       "      <th>licence</th>\n",
       "      <th>model_of_car</th>\n",
       "      <th>body_type</th>\n",
       "      <th>brand</th>\n",
       "      <th>fuel_type</th>\n",
       "      <th>transmis</th>\n",
       "      <th>vehicle_configuration</th>\n",
       "      <th>type_of_drive</th>\n",
       "      <th>steering_wheel</th>\n",
       "    </tr>\n",
       "  </thead>\n",
       "  <tbody>\n",
       "    <tr>\n",
       "      <th>0</th>\n",
       "      <td>2</td>\n",
       "      <td>3.0</td>\n",
       "      <td>1.0</td>\n",
       "      <td>octavia</td>\n",
       "      <td>лифтбек</td>\n",
       "      <td>SKODA</td>\n",
       "      <td>petrol</td>\n",
       "      <td>AMT</td>\n",
       "      <td>robot</td>\n",
       "      <td>front</td>\n",
       "      <td>left</td>\n",
       "    </tr>\n",
       "    <tr>\n",
       "      <th>1</th>\n",
       "      <td>1</td>\n",
       "      <td>1.0</td>\n",
       "      <td>1.0</td>\n",
       "      <td>octavia</td>\n",
       "      <td>лифтбек</td>\n",
       "      <td>SKODA</td>\n",
       "      <td>petrol</td>\n",
       "      <td>MT</td>\n",
       "      <td>mechanical</td>\n",
       "      <td>front</td>\n",
       "      <td>left</td>\n",
       "    </tr>\n",
       "    <tr>\n",
       "      <th>2</th>\n",
       "      <td>2</td>\n",
       "      <td>1.0</td>\n",
       "      <td>1.0</td>\n",
       "      <td>superb</td>\n",
       "      <td>лифтбек</td>\n",
       "      <td>SKODA</td>\n",
       "      <td>petrol</td>\n",
       "      <td>AMT</td>\n",
       "      <td>robot</td>\n",
       "      <td>front</td>\n",
       "      <td>left</td>\n",
       "    </tr>\n",
       "    <tr>\n",
       "      <th>3</th>\n",
       "      <td>3</td>\n",
       "      <td>1.0</td>\n",
       "      <td>1.0</td>\n",
       "      <td>octavia</td>\n",
       "      <td>лифтбек</td>\n",
       "      <td>SKODA</td>\n",
       "      <td>petrol</td>\n",
       "      <td>AT</td>\n",
       "      <td>automatic</td>\n",
       "      <td>front</td>\n",
       "      <td>left</td>\n",
       "    </tr>\n",
       "    <tr>\n",
       "      <th>4</th>\n",
       "      <td>1</td>\n",
       "      <td>1.0</td>\n",
       "      <td>1.0</td>\n",
       "      <td>octavia</td>\n",
       "      <td>лифтбек</td>\n",
       "      <td>SKODA</td>\n",
       "      <td>petrol</td>\n",
       "      <td>AT</td>\n",
       "      <td>automatic</td>\n",
       "      <td>front</td>\n",
       "      <td>left</td>\n",
       "    </tr>\n",
       "    <tr>\n",
       "      <th>...</th>\n",
       "      <td>...</td>\n",
       "      <td>...</td>\n",
       "      <td>...</td>\n",
       "      <td>...</td>\n",
       "      <td>...</td>\n",
       "      <td>...</td>\n",
       "      <td>...</td>\n",
       "      <td>...</td>\n",
       "      <td>...</td>\n",
       "      <td>...</td>\n",
       "      <td>...</td>\n",
       "    </tr>\n",
       "    <tr>\n",
       "      <th>158299</th>\n",
       "      <td>1</td>\n",
       "      <td>3.0</td>\n",
       "      <td>1.0</td>\n",
       "      <td>rodius</td>\n",
       "      <td>минивэн</td>\n",
       "      <td>SSANG_YONG</td>\n",
       "      <td>diesel</td>\n",
       "      <td>AT</td>\n",
       "      <td>automatic</td>\n",
       "      <td>full</td>\n",
       "      <td>left</td>\n",
       "    </tr>\n",
       "    <tr>\n",
       "      <th>158300</th>\n",
       "      <td>2</td>\n",
       "      <td>3.0</td>\n",
       "      <td>1.0</td>\n",
       "      <td>rodius</td>\n",
       "      <td>минивэн</td>\n",
       "      <td>SSANG_YONG</td>\n",
       "      <td>diesel</td>\n",
       "      <td>AT</td>\n",
       "      <td>automatic</td>\n",
       "      <td>full</td>\n",
       "      <td>left</td>\n",
       "    </tr>\n",
       "    <tr>\n",
       "      <th>158301</th>\n",
       "      <td>1</td>\n",
       "      <td>1.0</td>\n",
       "      <td>1.0</td>\n",
       "      <td>stavic</td>\n",
       "      <td>минивэн</td>\n",
       "      <td>SSANG_YONG</td>\n",
       "      <td>diesel</td>\n",
       "      <td>AT</td>\n",
       "      <td>automatic</td>\n",
       "      <td>full</td>\n",
       "      <td>left</td>\n",
       "    </tr>\n",
       "    <tr>\n",
       "      <th>158302</th>\n",
       "      <td>2</td>\n",
       "      <td>3.0</td>\n",
       "      <td>1.0</td>\n",
       "      <td>stavic</td>\n",
       "      <td>минивэн</td>\n",
       "      <td>SSANG_YONG</td>\n",
       "      <td>diesel</td>\n",
       "      <td>AT</td>\n",
       "      <td>automatic</td>\n",
       "      <td>full</td>\n",
       "      <td>left</td>\n",
       "    </tr>\n",
       "    <tr>\n",
       "      <th>158303</th>\n",
       "      <td>1</td>\n",
       "      <td>2.0</td>\n",
       "      <td>1.0</td>\n",
       "      <td>stavic</td>\n",
       "      <td>минивэн</td>\n",
       "      <td>SSANG_YONG</td>\n",
       "      <td>diesel</td>\n",
       "      <td>AT</td>\n",
       "      <td>automatic</td>\n",
       "      <td>full</td>\n",
       "      <td>left</td>\n",
       "    </tr>\n",
       "  </tbody>\n",
       "</table>\n",
       "<p>150472 rows × 11 columns</p>\n",
       "</div>"
      ],
      "text/plain": [
       "        color  owners_qty  licence model_of_car body_type       brand  \\\n",
       "0           2         3.0      1.0      octavia   лифтбек       SKODA   \n",
       "1           1         1.0      1.0      octavia   лифтбек       SKODA   \n",
       "2           2         1.0      1.0       superb   лифтбек       SKODA   \n",
       "3           3         1.0      1.0      octavia   лифтбек       SKODA   \n",
       "4           1         1.0      1.0      octavia   лифтбек       SKODA   \n",
       "...       ...         ...      ...          ...       ...         ...   \n",
       "158299      1         3.0      1.0       rodius   минивэн  SSANG_YONG   \n",
       "158300      2         3.0      1.0       rodius   минивэн  SSANG_YONG   \n",
       "158301      1         1.0      1.0       stavic   минивэн  SSANG_YONG   \n",
       "158302      2         3.0      1.0       stavic   минивэн  SSANG_YONG   \n",
       "158303      1         2.0      1.0       stavic   минивэн  SSANG_YONG   \n",
       "\n",
       "       fuel_type transmis vehicle_configuration type_of_drive steering_wheel  \n",
       "0         petrol      AMT                 robot         front           left  \n",
       "1         petrol       MT            mechanical         front           left  \n",
       "2         petrol      AMT                 robot         front           left  \n",
       "3         petrol       AT             automatic         front           left  \n",
       "4         petrol       AT             automatic         front           left  \n",
       "...          ...      ...                   ...           ...            ...  \n",
       "158299    diesel       AT             automatic          full           left  \n",
       "158300    diesel       AT             automatic          full           left  \n",
       "158301    diesel       AT             automatic          full           left  \n",
       "158302    diesel       AT             automatic          full           left  \n",
       "158303    diesel       AT             automatic          full           left  \n",
       "\n",
       "[150472 rows x 11 columns]"
      ]
     },
     "execution_count": 143,
     "metadata": {},
     "output_type": "execute_result"
    }
   ],
   "source": [
    "data[ready_cat_cols + cat_cols + bin_cols]"
   ]
  },
  {
   "cell_type": "markdown",
   "metadata": {},
   "source": [
    "vehicle_configuration и transmis означают одно и то же. Удалим vehicle_configuration"
   ]
  },
  {
   "cell_type": "code",
   "execution_count": 144,
   "metadata": {},
   "outputs": [],
   "source": [
    "data = data.drop(['vehicle_configuration'], 1)"
   ]
  },
  {
   "cell_type": "code",
   "execution_count": 145,
   "metadata": {},
   "outputs": [],
   "source": [
    "cat_cols.remove('vehicle_configuration')"
   ]
  },
  {
   "cell_type": "code",
   "execution_count": 146,
   "metadata": {
    "scrolled": false
   },
   "outputs": [
    {
     "name": "stdout",
     "output_type": "stream",
     "text": [
      "model_of_car\n",
      "octavia     4363\n",
      "5er         3239\n",
      "passat      2629\n",
      "polo        2623\n",
      "e_klasse    2587\n",
      "            ... \n",
      "monza          1\n",
      "968            1\n",
      "roomy          1\n",
      "928            1\n",
      "rogue          1\n",
      "Name: model_of_car, Length: 1155, dtype: int64\n",
      "\n",
      "body_type\n",
      "внедорожник      54440\n",
      "седан            53748\n",
      "хэтчбек          15478\n",
      "лифтбек           8271\n",
      "универсал         5930\n",
      "минивэн           4010\n",
      "компактвэн        2924\n",
      "купе              2922\n",
      "пикап             1149\n",
      "купе-хардтоп       478\n",
      "кабриолет          352\n",
      "родстер            334\n",
      "фургон             322\n",
      "микровэн            48\n",
      "седан-хардтоп       36\n",
      "лимузин             15\n",
      "тарга               11\n",
      "фастбек              4\n",
      "Name: body_type, dtype: int64\n",
      "\n",
      "brand\n",
      "MERCEDES      14318\n",
      "BMW           14254\n",
      "VOLKSWAGEN    14253\n",
      "NISSAN        12782\n",
      "TOYOTA        11548\n",
      "AUDI          10462\n",
      "MITSUBISHI     9285\n",
      "SKODA          8957\n",
      "HYUNDAI        5356\n",
      "VOLVO          5334\n",
      "KIA            5305\n",
      "FORD           4763\n",
      "HONDA          4305\n",
      "CHEVROLET      3578\n",
      "LEXUS          3551\n",
      "OPEL           3086\n",
      "INFINITI       2791\n",
      "RENAULT        2676\n",
      "MAZDA          2273\n",
      "PEUGEOT        1598\n",
      "LAND_ROVER     1564\n",
      "CITROEN        1101\n",
      "DAEWOO         1028\n",
      "SUBARU          859\n",
      "SUZUKI          816\n",
      "SSANG_YONG      707\n",
      "PORSCHE         697\n",
      "CHERY           551\n",
      "JEEP            453\n",
      "GREAT_WALL      416\n",
      "DODGE           412\n",
      "CHRYSLER        316\n",
      "CADILLAC        296\n",
      "JAGUAR          294\n",
      "MINI            290\n",
      "GEELY           197\n",
      "Name: brand, dtype: int64\n",
      "\n",
      "fuel_type\n",
      "petrol     124998\n",
      "diesel      24381\n",
      "hybrid        836\n",
      "electro       234\n",
      "gas            23\n",
      "Name: fuel_type, dtype: int64\n",
      "\n",
      "transmis\n",
      "AT     83389\n",
      "MT     38515\n",
      "AMT    15066\n",
      "CVT    13502\n",
      "Name: transmis, dtype: int64\n",
      "\n",
      "type_of_drive\n",
      "front    75014\n",
      "full     61873\n",
      "back     13585\n",
      "Name: type_of_drive, dtype: int64\n",
      "\n"
     ]
    }
   ],
   "source": [
    "for col in cat_cols:\n",
    "    print(col)\n",
    "    print(data[col].value_counts())\n",
    "    print()"
   ]
  },
  {
   "cell_type": "markdown",
   "metadata": {},
   "source": [
    "Разделим cat_cols:\n",
    "\n",
    "- Если категорий мало, то будем обрабатывать их с помощью Dumming,\n",
    "- Если категорий много, то - LabelEncoder\n",
    "\n",
    "К категориям на LabelEncoder добавим bin_cols - бинарные признаки"
   ]
  },
  {
   "cell_type": "code",
   "execution_count": 147,
   "metadata": {},
   "outputs": [
    {
     "data": {
      "text/html": [
       "<div>\n",
       "<style scoped>\n",
       "    .dataframe tbody tr th:only-of-type {\n",
       "        vertical-align: middle;\n",
       "    }\n",
       "\n",
       "    .dataframe tbody tr th {\n",
       "        vertical-align: top;\n",
       "    }\n",
       "\n",
       "    .dataframe thead th {\n",
       "        text-align: right;\n",
       "    }\n",
       "</style>\n",
       "<table border=\"1\" class=\"dataframe\">\n",
       "  <thead>\n",
       "    <tr style=\"text-align: right;\">\n",
       "      <th></th>\n",
       "      <th>steering_wheel</th>\n",
       "    </tr>\n",
       "  </thead>\n",
       "  <tbody>\n",
       "    <tr>\n",
       "      <th>0</th>\n",
       "      <td>left</td>\n",
       "    </tr>\n",
       "    <tr>\n",
       "      <th>1</th>\n",
       "      <td>left</td>\n",
       "    </tr>\n",
       "    <tr>\n",
       "      <th>2</th>\n",
       "      <td>left</td>\n",
       "    </tr>\n",
       "    <tr>\n",
       "      <th>3</th>\n",
       "      <td>left</td>\n",
       "    </tr>\n",
       "    <tr>\n",
       "      <th>4</th>\n",
       "      <td>left</td>\n",
       "    </tr>\n",
       "    <tr>\n",
       "      <th>...</th>\n",
       "      <td>...</td>\n",
       "    </tr>\n",
       "    <tr>\n",
       "      <th>158299</th>\n",
       "      <td>left</td>\n",
       "    </tr>\n",
       "    <tr>\n",
       "      <th>158300</th>\n",
       "      <td>left</td>\n",
       "    </tr>\n",
       "    <tr>\n",
       "      <th>158301</th>\n",
       "      <td>left</td>\n",
       "    </tr>\n",
       "    <tr>\n",
       "      <th>158302</th>\n",
       "      <td>left</td>\n",
       "    </tr>\n",
       "    <tr>\n",
       "      <th>158303</th>\n",
       "      <td>left</td>\n",
       "    </tr>\n",
       "  </tbody>\n",
       "</table>\n",
       "<p>150472 rows × 1 columns</p>\n",
       "</div>"
      ],
      "text/plain": [
       "       steering_wheel\n",
       "0                left\n",
       "1                left\n",
       "2                left\n",
       "3                left\n",
       "4                left\n",
       "...               ...\n",
       "158299           left\n",
       "158300           left\n",
       "158301           left\n",
       "158302           left\n",
       "158303           left\n",
       "\n",
       "[150472 rows x 1 columns]"
      ]
     },
     "execution_count": 147,
     "metadata": {},
     "output_type": "execute_result"
    }
   ],
   "source": [
    "data[bin_cols]"
   ]
  },
  {
   "cell_type": "code",
   "execution_count": 148,
   "metadata": {},
   "outputs": [],
   "source": [
    "cat_oh_cols = ['fuel_type', 'transmis', 'type_of_drive']\n",
    "cat_le_cols = ['model_of_car', 'body_type', 'brand', 'steering_wheel']"
   ]
  },
  {
   "cell_type": "code",
   "execution_count": 149,
   "metadata": {},
   "outputs": [],
   "source": [
    "# Преобразуем все значения категориальных признаков в числа:\n",
    "\n",
    "data = pd.get_dummies(data, columns=cat_oh_cols, dummy_na=False)"
   ]
  },
  {
   "cell_type": "code",
   "execution_count": 150,
   "metadata": {},
   "outputs": [
    {
     "name": "stdout",
     "output_type": "stream",
     "text": [
      "<class 'pandas.core.frame.DataFrame'>\n",
      "Int64Index: 150472 entries, 0 to 158303\n",
      "Data columns (total 28 columns):\n",
      " #   Column               Non-Null Count   Dtype  \n",
      "---  ------               --------------   -----  \n",
      " 0   body_type            150472 non-null  int32  \n",
      " 1   brand                150472 non-null  int32  \n",
      " 2   model_of_car         150472 non-null  int32  \n",
      " 3   color                150472 non-null  int64  \n",
      " 4   engine_volume        150472 non-null  float64\n",
      " 5   engine_power         150472 non-null  int64  \n",
      " 6   mileage              150472 non-null  int64  \n",
      " 7   production_d         150472 non-null  int64  \n",
      " 8   number_of_doors      150472 non-null  float64\n",
      " 9   sell_id              150472 non-null  int64  \n",
      " 10  owners_qty           150472 non-null  float64\n",
      " 11  licence              150472 non-null  float64\n",
      " 12  mileage_per_year     150472 non-null  float64\n",
      " 13  steering_wheel       150472 non-null  int32  \n",
      " 14  price                150472 non-null  float64\n",
      " 15  sample               150472 non-null  int64  \n",
      " 16  fuel_type_diesel     150472 non-null  uint8  \n",
      " 17  fuel_type_electro    150472 non-null  uint8  \n",
      " 18  fuel_type_gas        150472 non-null  uint8  \n",
      " 19  fuel_type_hybrid     150472 non-null  uint8  \n",
      " 20  fuel_type_petrol     150472 non-null  uint8  \n",
      " 21  transmis_AMT         150472 non-null  uint8  \n",
      " 22  transmis_AT          150472 non-null  uint8  \n",
      " 23  transmis_CVT         150472 non-null  uint8  \n",
      " 24  transmis_MT          150472 non-null  uint8  \n",
      " 25  type_of_drive_back   150472 non-null  uint8  \n",
      " 26  type_of_drive_front  150472 non-null  uint8  \n",
      " 27  type_of_drive_full   150472 non-null  uint8  \n",
      "dtypes: float64(6), int32(4), int64(6), uint8(12)\n",
      "memory usage: 18.9 MB\n"
     ]
    }
   ],
   "source": [
    "label_encoder = LabelEncoder()\n",
    "for i in cat_le_cols:\n",
    "    data[i] = label_encoder.fit_transform(data[i])\n",
    "data.info()    "
   ]
  },
  {
   "cell_type": "markdown",
   "metadata": {},
   "source": [
    "### Оценим влияние категориальных признаков на целевую переменную"
   ]
  },
  {
   "cell_type": "code",
   "execution_count": 151,
   "metadata": {},
   "outputs": [
    {
     "name": "stdout",
     "output_type": "stream",
     "text": [
      "<class 'pandas.core.frame.DataFrame'>\n",
      "Int64Index: 150472 entries, 0 to 158303\n",
      "Data columns (total 19 columns):\n",
      " #   Column               Non-Null Count   Dtype  \n",
      "---  ------               --------------   -----  \n",
      " 0   body_type            150472 non-null  int32  \n",
      " 1   brand                150472 non-null  int32  \n",
      " 2   model_of_car         150472 non-null  int32  \n",
      " 3   color                150472 non-null  int64  \n",
      " 4   owners_qty           150472 non-null  float64\n",
      " 5   licence              150472 non-null  float64\n",
      " 6   steering_wheel       150472 non-null  int32  \n",
      " 7   fuel_type_diesel     150472 non-null  uint8  \n",
      " 8   fuel_type_electro    150472 non-null  uint8  \n",
      " 9   fuel_type_gas        150472 non-null  uint8  \n",
      " 10  fuel_type_hybrid     150472 non-null  uint8  \n",
      " 11  fuel_type_petrol     150472 non-null  uint8  \n",
      " 12  transmis_AMT         150472 non-null  uint8  \n",
      " 13  transmis_AT          150472 non-null  uint8  \n",
      " 14  transmis_CVT         150472 non-null  uint8  \n",
      " 15  transmis_MT          150472 non-null  uint8  \n",
      " 16  type_of_drive_back   150472 non-null  uint8  \n",
      " 17  type_of_drive_front  150472 non-null  uint8  \n",
      " 18  type_of_drive_full   150472 non-null  uint8  \n",
      "dtypes: float64(2), int32(4), int64(1), uint8(12)\n",
      "memory usage: 8.6 MB\n"
     ]
    }
   ],
   "source": [
    "cat_new_cols = data.columns\n",
    "cat_new_cols = [x for x in cat_new_cols if x not in (num_cols + ['sell_id','price','sample'])]\n",
    "data[cat_new_cols].info()"
   ]
  },
  {
   "cell_type": "code",
   "execution_count": 152,
   "metadata": {},
   "outputs": [],
   "source": [
    "imp_num = imp_cat.copy()"
   ]
  },
  {
   "cell_type": "code",
   "execution_count": 153,
   "metadata": {},
   "outputs": [
    {
     "data": {
      "text/plain": [
       "Text(0.5, 1.0, 'Влияние категориальных признаков на price')"
      ]
     },
     "execution_count": 153,
     "metadata": {},
     "output_type": "execute_result"
    },
    {
     "data": {
      "image/png": "[encoded data removed]",
      "text/plain": [
       "<Figure size 432x288 with 1 Axes>"
      ]
     },
     "metadata": {
      "needs_background": "light"
     },
     "output_type": "display_data"
    }
   ],
   "source": [
    "imp_cat = Series(mutual_info_classif(data[data['price'].isna() == False][cat_new_cols], \n",
    "                                     data[data['price'].isna() == False]['price'],\n",
    "                                     discrete_features = True), index = cat_new_cols)\n",
    "imp_cat.sort_values(inplace = True)\n",
    "imp_cat.plot(kind = 'barh')\n",
    "plt.title('Влияние категориальных признаков на price')"
   ]
  },
  {
   "cell_type": "markdown",
   "metadata": {},
   "source": [
    "Объединим веса в один сериес. Нужно перевести его в list, но чтобы значения признаков стояли в том же порядке, что и в data"
   ]
  },
  {
   "cell_type": "code",
   "execution_count": 154,
   "metadata": {},
   "outputs": [
    {
     "data": {
      "text/plain": [
       "[0.2598420544532554,\n",
       " 0.584722254783069,\n",
       " 1.5358601409722747,\n",
       " 0.10906383910677706,\n",
       " 0.6611426465135456,\n",
       " 0.5000900381074692,\n",
       " 3.2018591841560973,\n",
       " 0.8346842197439535,\n",
       " 0.12230722576410077,\n",
       " 0.168575718265648,\n",
       " 0.04562003826217516,\n",
       " 1.2889327564275799,\n",
       " 0.013708160169295238,\n",
       " 0.08440383887192603,\n",
       " 0.0038307130403143095,\n",
       " 0.00031540682766595656,\n",
       " 0.005842868447791583,\n",
       " 0.08596834037119944,\n",
       " 0.04413467360471849,\n",
       " 0.09524821947400779,\n",
       " 0.04367541814456523,\n",
       " 0.14292494007165915,\n",
       " 0.02595454467200306,\n",
       " 0.1600269221920217,\n",
       " 0.1546096066877986]"
      ]
     },
     "execution_count": 154,
     "metadata": {},
     "output_type": "execute_result"
    }
   ],
   "source": [
    "imp_weights = pd.concat([imp_num, imp_cat]).drop_duplicates()\n",
    "cols = data.columns\n",
    "weights = [imp_weights[col] for col in cols if col not in ['sell_id', 'price', 'sample']]\n",
    "weights"
   ]
  },
  {
   "cell_type": "markdown",
   "metadata": {},
   "source": [
    "### Разделение переменных"
   ]
  },
  {
   "cell_type": "code",
   "execution_count": 155,
   "metadata": {},
   "outputs": [
    {
     "data": {
      "text/html": [
       "<div>\n",
       "<style scoped>\n",
       "    .dataframe tbody tr th:only-of-type {\n",
       "        vertical-align: middle;\n",
       "    }\n",
       "\n",
       "    .dataframe tbody tr th {\n",
       "        vertical-align: top;\n",
       "    }\n",
       "\n",
       "    .dataframe thead th {\n",
       "        text-align: right;\n",
       "    }\n",
       "</style>\n",
       "<table border=\"1\" class=\"dataframe\">\n",
       "  <thead>\n",
       "    <tr style=\"text-align: right;\">\n",
       "      <th></th>\n",
       "      <th>body_type</th>\n",
       "      <th>brand</th>\n",
       "      <th>model_of_car</th>\n",
       "      <th>color</th>\n",
       "      <th>engine_volume</th>\n",
       "      <th>engine_power</th>\n",
       "      <th>mileage</th>\n",
       "      <th>production_d</th>\n",
       "      <th>number_of_doors</th>\n",
       "      <th>sell_id</th>\n",
       "      <th>...</th>\n",
       "      <th>fuel_type_gas</th>\n",
       "      <th>fuel_type_hybrid</th>\n",
       "      <th>fuel_type_petrol</th>\n",
       "      <th>transmis_AMT</th>\n",
       "      <th>transmis_AT</th>\n",
       "      <th>transmis_CVT</th>\n",
       "      <th>transmis_MT</th>\n",
       "      <th>type_of_drive_back</th>\n",
       "      <th>type_of_drive_front</th>\n",
       "      <th>type_of_drive_full</th>\n",
       "    </tr>\n",
       "  </thead>\n",
       "  <tbody>\n",
       "    <tr>\n",
       "      <th>0</th>\n",
       "      <td>6</td>\n",
       "      <td>29</td>\n",
       "      <td>718</td>\n",
       "      <td>2</td>\n",
       "      <td>1.2</td>\n",
       "      <td>2</td>\n",
       "      <td>74000</td>\n",
       "      <td>7</td>\n",
       "      <td>5.0</td>\n",
       "      <td>1100575026</td>\n",
       "      <td>...</td>\n",
       "      <td>0</td>\n",
       "      <td>0</td>\n",
       "      <td>1</td>\n",
       "      <td>1</td>\n",
       "      <td>0</td>\n",
       "      <td>0</td>\n",
       "      <td>0</td>\n",
       "      <td>0</td>\n",
       "      <td>1</td>\n",
       "      <td>0</td>\n",
       "    </tr>\n",
       "    <tr>\n",
       "      <th>1</th>\n",
       "      <td>6</td>\n",
       "      <td>29</td>\n",
       "      <td>718</td>\n",
       "      <td>1</td>\n",
       "      <td>1.6</td>\n",
       "      <td>2</td>\n",
       "      <td>60563</td>\n",
       "      <td>4</td>\n",
       "      <td>5.0</td>\n",
       "      <td>1100549428</td>\n",
       "      <td>...</td>\n",
       "      <td>0</td>\n",
       "      <td>0</td>\n",
       "      <td>1</td>\n",
       "      <td>0</td>\n",
       "      <td>0</td>\n",
       "      <td>0</td>\n",
       "      <td>1</td>\n",
       "      <td>0</td>\n",
       "      <td>1</td>\n",
       "      <td>0</td>\n",
       "    </tr>\n",
       "    <tr>\n",
       "      <th>2</th>\n",
       "      <td>6</td>\n",
       "      <td>29</td>\n",
       "      <td>973</td>\n",
       "      <td>2</td>\n",
       "      <td>1.8</td>\n",
       "      <td>3</td>\n",
       "      <td>88000</td>\n",
       "      <td>7</td>\n",
       "      <td>5.0</td>\n",
       "      <td>1100658222</td>\n",
       "      <td>...</td>\n",
       "      <td>0</td>\n",
       "      <td>0</td>\n",
       "      <td>1</td>\n",
       "      <td>1</td>\n",
       "      <td>0</td>\n",
       "      <td>0</td>\n",
       "      <td>0</td>\n",
       "      <td>0</td>\n",
       "      <td>1</td>\n",
       "      <td>0</td>\n",
       "    </tr>\n",
       "    <tr>\n",
       "      <th>3</th>\n",
       "      <td>6</td>\n",
       "      <td>29</td>\n",
       "      <td>718</td>\n",
       "      <td>3</td>\n",
       "      <td>1.6</td>\n",
       "      <td>2</td>\n",
       "      <td>95000</td>\n",
       "      <td>7</td>\n",
       "      <td>5.0</td>\n",
       "      <td>1100937408</td>\n",
       "      <td>...</td>\n",
       "      <td>0</td>\n",
       "      <td>0</td>\n",
       "      <td>1</td>\n",
       "      <td>0</td>\n",
       "      <td>1</td>\n",
       "      <td>0</td>\n",
       "      <td>0</td>\n",
       "      <td>0</td>\n",
       "      <td>1</td>\n",
       "      <td>0</td>\n",
       "    </tr>\n",
       "    <tr>\n",
       "      <th>4</th>\n",
       "      <td>6</td>\n",
       "      <td>29</td>\n",
       "      <td>718</td>\n",
       "      <td>1</td>\n",
       "      <td>1.8</td>\n",
       "      <td>3</td>\n",
       "      <td>58536</td>\n",
       "      <td>9</td>\n",
       "      <td>5.0</td>\n",
       "      <td>1101037972</td>\n",
       "      <td>...</td>\n",
       "      <td>0</td>\n",
       "      <td>0</td>\n",
       "      <td>1</td>\n",
       "      <td>0</td>\n",
       "      <td>1</td>\n",
       "      <td>0</td>\n",
       "      <td>0</td>\n",
       "      <td>0</td>\n",
       "      <td>1</td>\n",
       "      <td>0</td>\n",
       "    </tr>\n",
       "    <tr>\n",
       "      <th>...</th>\n",
       "      <td>...</td>\n",
       "      <td>...</td>\n",
       "      <td>...</td>\n",
       "      <td>...</td>\n",
       "      <td>...</td>\n",
       "      <td>...</td>\n",
       "      <td>...</td>\n",
       "      <td>...</td>\n",
       "      <td>...</td>\n",
       "      <td>...</td>\n",
       "      <td>...</td>\n",
       "      <td>...</td>\n",
       "      <td>...</td>\n",
       "      <td>...</td>\n",
       "      <td>...</td>\n",
       "      <td>...</td>\n",
       "      <td>...</td>\n",
       "      <td>...</td>\n",
       "      <td>...</td>\n",
       "      <td>...</td>\n",
       "      <td>...</td>\n",
       "    </tr>\n",
       "    <tr>\n",
       "      <th>34681</th>\n",
       "      <td>11</td>\n",
       "      <td>1</td>\n",
       "      <td>50</td>\n",
       "      <td>3</td>\n",
       "      <td>1.6</td>\n",
       "      <td>2</td>\n",
       "      <td>115000</td>\n",
       "      <td>7</td>\n",
       "      <td>4.0</td>\n",
       "      <td>1101369263</td>\n",
       "      <td>...</td>\n",
       "      <td>0</td>\n",
       "      <td>0</td>\n",
       "      <td>1</td>\n",
       "      <td>0</td>\n",
       "      <td>1</td>\n",
       "      <td>0</td>\n",
       "      <td>0</td>\n",
       "      <td>1</td>\n",
       "      <td>0</td>\n",
       "      <td>0</td>\n",
       "    </tr>\n",
       "    <tr>\n",
       "      <th>34682</th>\n",
       "      <td>11</td>\n",
       "      <td>1</td>\n",
       "      <td>66</td>\n",
       "      <td>1</td>\n",
       "      <td>2.0</td>\n",
       "      <td>3</td>\n",
       "      <td>98000</td>\n",
       "      <td>3</td>\n",
       "      <td>4.0</td>\n",
       "      <td>1101369581</td>\n",
       "      <td>...</td>\n",
       "      <td>0</td>\n",
       "      <td>0</td>\n",
       "      <td>0</td>\n",
       "      <td>0</td>\n",
       "      <td>1</td>\n",
       "      <td>0</td>\n",
       "      <td>0</td>\n",
       "      <td>0</td>\n",
       "      <td>0</td>\n",
       "      <td>1</td>\n",
       "    </tr>\n",
       "    <tr>\n",
       "      <th>34683</th>\n",
       "      <td>11</td>\n",
       "      <td>1</td>\n",
       "      <td>66</td>\n",
       "      <td>2</td>\n",
       "      <td>2.5</td>\n",
       "      <td>3</td>\n",
       "      <td>360000</td>\n",
       "      <td>24</td>\n",
       "      <td>4.0</td>\n",
       "      <td>1101364889</td>\n",
       "      <td>...</td>\n",
       "      <td>0</td>\n",
       "      <td>0</td>\n",
       "      <td>1</td>\n",
       "      <td>0</td>\n",
       "      <td>1</td>\n",
       "      <td>0</td>\n",
       "      <td>0</td>\n",
       "      <td>1</td>\n",
       "      <td>0</td>\n",
       "      <td>0</td>\n",
       "    </tr>\n",
       "    <tr>\n",
       "      <th>34684</th>\n",
       "      <td>0</td>\n",
       "      <td>1</td>\n",
       "      <td>1103</td>\n",
       "      <td>3</td>\n",
       "      <td>2.0</td>\n",
       "      <td>3</td>\n",
       "      <td>90500</td>\n",
       "      <td>8</td>\n",
       "      <td>5.0</td>\n",
       "      <td>1101362518</td>\n",
       "      <td>...</td>\n",
       "      <td>0</td>\n",
       "      <td>0</td>\n",
       "      <td>0</td>\n",
       "      <td>0</td>\n",
       "      <td>1</td>\n",
       "      <td>0</td>\n",
       "      <td>0</td>\n",
       "      <td>0</td>\n",
       "      <td>0</td>\n",
       "      <td>1</td>\n",
       "    </tr>\n",
       "    <tr>\n",
       "      <th>34685</th>\n",
       "      <td>0</td>\n",
       "      <td>1</td>\n",
       "      <td>1109</td>\n",
       "      <td>1</td>\n",
       "      <td>3.0</td>\n",
       "      <td>4</td>\n",
       "      <td>240000</td>\n",
       "      <td>13</td>\n",
       "      <td>5.0</td>\n",
       "      <td>1101256068</td>\n",
       "      <td>...</td>\n",
       "      <td>0</td>\n",
       "      <td>0</td>\n",
       "      <td>0</td>\n",
       "      <td>0</td>\n",
       "      <td>1</td>\n",
       "      <td>0</td>\n",
       "      <td>0</td>\n",
       "      <td>0</td>\n",
       "      <td>0</td>\n",
       "      <td>1</td>\n",
       "    </tr>\n",
       "  </tbody>\n",
       "</table>\n",
       "<p>34686 rows × 26 columns</p>\n",
       "</div>"
      ],
      "text/plain": [
       "       body_type  brand  model_of_car  color  engine_volume  engine_power  \\\n",
       "0              6     29           718      2            1.2             2   \n",
       "1              6     29           718      1            1.6             2   \n",
       "2              6     29           973      2            1.8             3   \n",
       "3              6     29           718      3            1.6             2   \n",
       "4              6     29           718      1            1.8             3   \n",
       "...          ...    ...           ...    ...            ...           ...   \n",
       "34681         11      1            50      3            1.6             2   \n",
       "34682         11      1            66      1            2.0             3   \n",
       "34683         11      1            66      2            2.5             3   \n",
       "34684          0      1          1103      3            2.0             3   \n",
       "34685          0      1          1109      1            3.0             4   \n",
       "\n",
       "       mileage  production_d  number_of_doors     sell_id  ...  fuel_type_gas  \\\n",
       "0        74000             7              5.0  1100575026  ...              0   \n",
       "1        60563             4              5.0  1100549428  ...              0   \n",
       "2        88000             7              5.0  1100658222  ...              0   \n",
       "3        95000             7              5.0  1100937408  ...              0   \n",
       "4        58536             9              5.0  1101037972  ...              0   \n",
       "...        ...           ...              ...         ...  ...            ...   \n",
       "34681   115000             7              4.0  1101369263  ...              0   \n",
       "34682    98000             3              4.0  1101369581  ...              0   \n",
       "34683   360000            24              4.0  1101364889  ...              0   \n",
       "34684    90500             8              5.0  1101362518  ...              0   \n",
       "34685   240000            13              5.0  1101256068  ...              0   \n",
       "\n",
       "       fuel_type_hybrid  fuel_type_petrol  transmis_AMT  transmis_AT  \\\n",
       "0                     0                 1             1            0   \n",
       "1                     0                 1             0            0   \n",
       "2                     0                 1             1            0   \n",
       "3                     0                 1             0            1   \n",
       "4                     0                 1             0            1   \n",
       "...                 ...               ...           ...          ...   \n",
       "34681                 0                 1             0            1   \n",
       "34682                 0                 0             0            1   \n",
       "34683                 0                 1             0            1   \n",
       "34684                 0                 0             0            1   \n",
       "34685                 0                 0             0            1   \n",
       "\n",
       "       transmis_CVT  transmis_MT  type_of_drive_back  type_of_drive_front  \\\n",
       "0                 0            0                   0                    1   \n",
       "1                 0            1                   0                    1   \n",
       "2                 0            0                   0                    1   \n",
       "3                 0            0                   0                    1   \n",
       "4                 0            0                   0                    1   \n",
       "...             ...          ...                 ...                  ...   \n",
       "34681             0            0                   1                    0   \n",
       "34682             0            0                   0                    0   \n",
       "34683             0            0                   1                    0   \n",
       "34684             0            0                   0                    0   \n",
       "34685             0            0                   0                    0   \n",
       "\n",
       "       type_of_drive_full  \n",
       "0                       0  \n",
       "1                       0  \n",
       "2                       0  \n",
       "3                       0  \n",
       "4                       0  \n",
       "...                   ...  \n",
       "34681                   0  \n",
       "34682                   1  \n",
       "34683                   0  \n",
       "34684                   1  \n",
       "34685                   1  \n",
       "\n",
       "[34686 rows x 26 columns]"
      ]
     },
     "execution_count": 155,
     "metadata": {},
     "output_type": "execute_result"
    }
   ],
   "source": [
    "X = data.query('sample == 1').drop(['sample', 'price', 'sell_id'], axis=1)\n",
    "X_sub = data.query('sample == 0').drop(['sample', 'price'], axis=1)\n",
    "y = data.query('sample == 1')['price'].values\n",
    "X_sub"
   ]
  },
  {
   "cell_type": "code",
   "execution_count": 156,
   "metadata": {},
   "outputs": [
    {
     "data": {
      "text/html": [
       "<div>\n",
       "<style scoped>\n",
       "    .dataframe tbody tr th:only-of-type {\n",
       "        vertical-align: middle;\n",
       "    }\n",
       "\n",
       "    .dataframe tbody tr th {\n",
       "        vertical-align: top;\n",
       "    }\n",
       "\n",
       "    .dataframe thead th {\n",
       "        text-align: right;\n",
       "    }\n",
       "</style>\n",
       "<table border=\"1\" class=\"dataframe\">\n",
       "  <thead>\n",
       "    <tr style=\"text-align: right;\">\n",
       "      <th></th>\n",
       "      <th>body_type</th>\n",
       "      <th>brand</th>\n",
       "      <th>model_of_car</th>\n",
       "      <th>color</th>\n",
       "      <th>engine_volume</th>\n",
       "      <th>engine_power</th>\n",
       "      <th>mileage</th>\n",
       "      <th>production_d</th>\n",
       "      <th>number_of_doors</th>\n",
       "      <th>owners_qty</th>\n",
       "      <th>...</th>\n",
       "      <th>fuel_type_gas</th>\n",
       "      <th>fuel_type_hybrid</th>\n",
       "      <th>fuel_type_petrol</th>\n",
       "      <th>transmis_AMT</th>\n",
       "      <th>transmis_AT</th>\n",
       "      <th>transmis_CVT</th>\n",
       "      <th>transmis_MT</th>\n",
       "      <th>type_of_drive_back</th>\n",
       "      <th>type_of_drive_front</th>\n",
       "      <th>type_of_drive_full</th>\n",
       "    </tr>\n",
       "  </thead>\n",
       "  <tbody>\n",
       "    <tr>\n",
       "      <th>36326</th>\n",
       "      <td>6</td>\n",
       "      <td>29</td>\n",
       "      <td>718</td>\n",
       "      <td>1</td>\n",
       "      <td>1.4</td>\n",
       "      <td>3</td>\n",
       "      <td>34539</td>\n",
       "      <td>3</td>\n",
       "      <td>5.0</td>\n",
       "      <td>1.0</td>\n",
       "      <td>...</td>\n",
       "      <td>0</td>\n",
       "      <td>0</td>\n",
       "      <td>1</td>\n",
       "      <td>1</td>\n",
       "      <td>0</td>\n",
       "      <td>0</td>\n",
       "      <td>0</td>\n",
       "      <td>0</td>\n",
       "      <td>1</td>\n",
       "      <td>0</td>\n",
       "    </tr>\n",
       "    <tr>\n",
       "      <th>105807</th>\n",
       "      <td>0</td>\n",
       "      <td>17</td>\n",
       "      <td>937</td>\n",
       "      <td>2</td>\n",
       "      <td>2.4</td>\n",
       "      <td>3</td>\n",
       "      <td>117000</td>\n",
       "      <td>8</td>\n",
       "      <td>5.0</td>\n",
       "      <td>3.0</td>\n",
       "      <td>...</td>\n",
       "      <td>0</td>\n",
       "      <td>0</td>\n",
       "      <td>1</td>\n",
       "      <td>0</td>\n",
       "      <td>1</td>\n",
       "      <td>0</td>\n",
       "      <td>0</td>\n",
       "      <td>0</td>\n",
       "      <td>0</td>\n",
       "      <td>1</td>\n",
       "    </tr>\n",
       "    <tr>\n",
       "      <th>136940</th>\n",
       "      <td>17</td>\n",
       "      <td>33</td>\n",
       "      <td>659</td>\n",
       "      <td>3</td>\n",
       "      <td>1.8</td>\n",
       "      <td>2</td>\n",
       "      <td>120000</td>\n",
       "      <td>19</td>\n",
       "      <td>5.0</td>\n",
       "      <td>1.0</td>\n",
       "      <td>...</td>\n",
       "      <td>0</td>\n",
       "      <td>0</td>\n",
       "      <td>1</td>\n",
       "      <td>0</td>\n",
       "      <td>1</td>\n",
       "      <td>0</td>\n",
       "      <td>0</td>\n",
       "      <td>0</td>\n",
       "      <td>1</td>\n",
       "      <td>0</td>\n",
       "    </tr>\n",
       "    <tr>\n",
       "      <th>51755</th>\n",
       "      <td>0</td>\n",
       "      <td>24</td>\n",
       "      <td>802</td>\n",
       "      <td>3</td>\n",
       "      <td>1.2</td>\n",
       "      <td>2</td>\n",
       "      <td>18217</td>\n",
       "      <td>2</td>\n",
       "      <td>5.0</td>\n",
       "      <td>1.0</td>\n",
       "      <td>...</td>\n",
       "      <td>0</td>\n",
       "      <td>0</td>\n",
       "      <td>1</td>\n",
       "      <td>0</td>\n",
       "      <td>0</td>\n",
       "      <td>1</td>\n",
       "      <td>0</td>\n",
       "      <td>0</td>\n",
       "      <td>1</td>\n",
       "      <td>0</td>\n",
       "    </tr>\n",
       "    <tr>\n",
       "      <th>94132</th>\n",
       "      <td>11</td>\n",
       "      <td>13</td>\n",
       "      <td>103</td>\n",
       "      <td>2</td>\n",
       "      <td>2.3</td>\n",
       "      <td>2</td>\n",
       "      <td>148000</td>\n",
       "      <td>13</td>\n",
       "      <td>4.0</td>\n",
       "      <td>2.0</td>\n",
       "      <td>...</td>\n",
       "      <td>0</td>\n",
       "      <td>0</td>\n",
       "      <td>1</td>\n",
       "      <td>0</td>\n",
       "      <td>0</td>\n",
       "      <td>0</td>\n",
       "      <td>1</td>\n",
       "      <td>0</td>\n",
       "      <td>1</td>\n",
       "      <td>0</td>\n",
       "    </tr>\n",
       "    <tr>\n",
       "      <th>...</th>\n",
       "      <td>...</td>\n",
       "      <td>...</td>\n",
       "      <td>...</td>\n",
       "      <td>...</td>\n",
       "      <td>...</td>\n",
       "      <td>...</td>\n",
       "      <td>...</td>\n",
       "      <td>...</td>\n",
       "      <td>...</td>\n",
       "      <td>...</td>\n",
       "      <td>...</td>\n",
       "      <td>...</td>\n",
       "      <td>...</td>\n",
       "      <td>...</td>\n",
       "      <td>...</td>\n",
       "      <td>...</td>\n",
       "      <td>...</td>\n",
       "      <td>...</td>\n",
       "      <td>...</td>\n",
       "      <td>...</td>\n",
       "      <td>...</td>\n",
       "    </tr>\n",
       "    <tr>\n",
       "      <th>115338</th>\n",
       "      <td>11</td>\n",
       "      <td>24</td>\n",
       "      <td>119</td>\n",
       "      <td>1</td>\n",
       "      <td>1.6</td>\n",
       "      <td>2</td>\n",
       "      <td>72000</td>\n",
       "      <td>4</td>\n",
       "      <td>4.0</td>\n",
       "      <td>1.0</td>\n",
       "      <td>...</td>\n",
       "      <td>0</td>\n",
       "      <td>0</td>\n",
       "      <td>1</td>\n",
       "      <td>0</td>\n",
       "      <td>0</td>\n",
       "      <td>0</td>\n",
       "      <td>1</td>\n",
       "      <td>0</td>\n",
       "      <td>1</td>\n",
       "      <td>0</td>\n",
       "    </tr>\n",
       "    <tr>\n",
       "      <th>151642</th>\n",
       "      <td>11</td>\n",
       "      <td>21</td>\n",
       "      <td>363</td>\n",
       "      <td>3</td>\n",
       "      <td>3.0</td>\n",
       "      <td>4</td>\n",
       "      <td>160000</td>\n",
       "      <td>12</td>\n",
       "      <td>4.0</td>\n",
       "      <td>2.0</td>\n",
       "      <td>...</td>\n",
       "      <td>0</td>\n",
       "      <td>0</td>\n",
       "      <td>1</td>\n",
       "      <td>0</td>\n",
       "      <td>1</td>\n",
       "      <td>0</td>\n",
       "      <td>0</td>\n",
       "      <td>1</td>\n",
       "      <td>0</td>\n",
       "      <td>0</td>\n",
       "    </tr>\n",
       "    <tr>\n",
       "      <th>144639</th>\n",
       "      <td>0</td>\n",
       "      <td>34</td>\n",
       "      <td>1005</td>\n",
       "      <td>1</td>\n",
       "      <td>3.2</td>\n",
       "      <td>4</td>\n",
       "      <td>235992</td>\n",
       "      <td>17</td>\n",
       "      <td>5.0</td>\n",
       "      <td>3.0</td>\n",
       "      <td>...</td>\n",
       "      <td>0</td>\n",
       "      <td>0</td>\n",
       "      <td>1</td>\n",
       "      <td>0</td>\n",
       "      <td>1</td>\n",
       "      <td>0</td>\n",
       "      <td>0</td>\n",
       "      <td>0</td>\n",
       "      <td>0</td>\n",
       "      <td>1</td>\n",
       "    </tr>\n",
       "    <tr>\n",
       "      <th>35546</th>\n",
       "      <td>6</td>\n",
       "      <td>29</td>\n",
       "      <td>827</td>\n",
       "      <td>4</td>\n",
       "      <td>1.6</td>\n",
       "      <td>1</td>\n",
       "      <td>290000</td>\n",
       "      <td>4</td>\n",
       "      <td>5.0</td>\n",
       "      <td>2.0</td>\n",
       "      <td>...</td>\n",
       "      <td>0</td>\n",
       "      <td>0</td>\n",
       "      <td>1</td>\n",
       "      <td>0</td>\n",
       "      <td>0</td>\n",
       "      <td>0</td>\n",
       "      <td>1</td>\n",
       "      <td>0</td>\n",
       "      <td>1</td>\n",
       "      <td>0</td>\n",
       "    </tr>\n",
       "    <tr>\n",
       "      <th>50488</th>\n",
       "      <td>0</td>\n",
       "      <td>24</td>\n",
       "      <td>695</td>\n",
       "      <td>1</td>\n",
       "      <td>3.5</td>\n",
       "      <td>4</td>\n",
       "      <td>230000</td>\n",
       "      <td>12</td>\n",
       "      <td>5.0</td>\n",
       "      <td>3.0</td>\n",
       "      <td>...</td>\n",
       "      <td>0</td>\n",
       "      <td>0</td>\n",
       "      <td>1</td>\n",
       "      <td>0</td>\n",
       "      <td>0</td>\n",
       "      <td>1</td>\n",
       "      <td>0</td>\n",
       "      <td>0</td>\n",
       "      <td>0</td>\n",
       "      <td>1</td>\n",
       "    </tr>\n",
       "  </tbody>\n",
       "</table>\n",
       "<p>92628 rows × 25 columns</p>\n",
       "</div>"
      ],
      "text/plain": [
       "        body_type  brand  model_of_car  color  engine_volume  engine_power  \\\n",
       "36326           6     29           718      1            1.4             3   \n",
       "105807          0     17           937      2            2.4             3   \n",
       "136940         17     33           659      3            1.8             2   \n",
       "51755           0     24           802      3            1.2             2   \n",
       "94132          11     13           103      2            2.3             2   \n",
       "...           ...    ...           ...    ...            ...           ...   \n",
       "115338         11     24           119      1            1.6             2   \n",
       "151642         11     21           363      3            3.0             4   \n",
       "144639          0     34          1005      1            3.2             4   \n",
       "35546           6     29           827      4            1.6             1   \n",
       "50488           0     24           695      1            3.5             4   \n",
       "\n",
       "        mileage  production_d  number_of_doors  owners_qty  ...  \\\n",
       "36326     34539             3              5.0         1.0  ...   \n",
       "105807   117000             8              5.0         3.0  ...   \n",
       "136940   120000            19              5.0         1.0  ...   \n",
       "51755     18217             2              5.0         1.0  ...   \n",
       "94132    148000            13              4.0         2.0  ...   \n",
       "...         ...           ...              ...         ...  ...   \n",
       "115338    72000             4              4.0         1.0  ...   \n",
       "151642   160000            12              4.0         2.0  ...   \n",
       "144639   235992            17              5.0         3.0  ...   \n",
       "35546    290000             4              5.0         2.0  ...   \n",
       "50488    230000            12              5.0         3.0  ...   \n",
       "\n",
       "        fuel_type_gas  fuel_type_hybrid  fuel_type_petrol  transmis_AMT  \\\n",
       "36326               0                 0                 1             1   \n",
       "105807              0                 0                 1             0   \n",
       "136940              0                 0                 1             0   \n",
       "51755               0                 0                 1             0   \n",
       "94132               0                 0                 1             0   \n",
       "...               ...               ...               ...           ...   \n",
       "115338              0                 0                 1             0   \n",
       "151642              0                 0                 1             0   \n",
       "144639              0                 0                 1             0   \n",
       "35546               0                 0                 1             0   \n",
       "50488               0                 0                 1             0   \n",
       "\n",
       "        transmis_AT  transmis_CVT  transmis_MT  type_of_drive_back  \\\n",
       "36326             0             0            0                   0   \n",
       "105807            1             0            0                   0   \n",
       "136940            1             0            0                   0   \n",
       "51755             0             1            0                   0   \n",
       "94132             0             0            1                   0   \n",
       "...             ...           ...          ...                 ...   \n",
       "115338            0             0            1                   0   \n",
       "151642            1             0            0                   1   \n",
       "144639            1             0            0                   0   \n",
       "35546             0             0            1                   0   \n",
       "50488             0             1            0                   0   \n",
       "\n",
       "        type_of_drive_front  type_of_drive_full  \n",
       "36326                     1                   0  \n",
       "105807                    0                   1  \n",
       "136940                    1                   0  \n",
       "51755                     1                   0  \n",
       "94132                     1                   0  \n",
       "...                     ...                 ...  \n",
       "115338                    1                   0  \n",
       "151642                    0                   0  \n",
       "144639                    0                   1  \n",
       "35546                     1                   0  \n",
       "50488                     0                   1  \n",
       "\n",
       "[92628 rows x 25 columns]"
      ]
     },
     "execution_count": 156,
     "metadata": {},
     "output_type": "execute_result"
    }
   ],
   "source": [
    "X_train, X_test, y_train, y_test = train_test_split(X, y, test_size=0.2, shuffle=True, random_state=RANDOM_SEED)\n",
    "X_train"
   ]
  },
  {
   "cell_type": "code",
   "execution_count": 157,
   "metadata": {},
   "outputs": [],
   "source": [
    "stsc = StandardScaler()\n",
    "X_train = stsc.fit_transform(X_train)\n",
    "X_test = stsc.transform(X_test)\n",
    "\n",
    "# Добавим веса\n",
    "X_train = X_train * weights\n",
    "X_test = X_test * weights"
   ]
  },
  {
   "cell_type": "markdown",
   "metadata": {},
   "source": [
    "Попробуем взять таргет в логорифм - это позволит уменьшить влияние выбросов на обучение модели"
   ]
  },
  {
   "cell_type": "code",
   "execution_count": 158,
   "metadata": {},
   "outputs": [
    {
     "data": {
      "text/plain": [
       "array([14.28488899, 13.92883924, 12.50246666, ..., 13.38472764,\n",
       "       12.95984445, 13.52782849])"
      ]
     },
     "execution_count": 158,
     "metadata": {},
     "output_type": "execute_result"
    }
   ],
   "source": [
    "np.log(y_train)"
   ]
  },
  {
   "cell_type": "markdown",
   "metadata": {},
   "source": [
    "## LinearRegression"
   ]
  },
  {
   "cell_type": "code",
   "execution_count": 159,
   "metadata": {},
   "outputs": [
    {
     "name": "stdout",
     "output_type": "stream",
     "text": [
      "Точность модели по метрике MAPE: 116.25%\n"
     ]
    }
   ],
   "source": [
    "# lin_reg = LinearRegression().fit(X_train, y_train)\n",
    "# y_pred = lin_reg.predict(X_test)\n",
    "# print(f\"Точность модели по метрике MAPE: {(mape(y_test, y_pred))*100:0.2f}%\")\n",
    "\n",
    "# Точность модели по метрике MAPE: 116.25%"
   ]
  },
  {
   "cell_type": "markdown",
   "metadata": {},
   "source": [
    "## GradientBoosting"
   ]
  },
  {
   "cell_type": "code",
   "execution_count": 160,
   "metadata": {},
   "outputs": [
    {
     "name": "stdout",
     "output_type": "stream",
     "text": [
      "Точность модели по метрике MAPE_без лого: 20.26%\n"
     ]
    }
   ],
   "source": [
    "#gb = GradientBoostingRegressor(min_samples_split=2,\n",
    "#                               learning_rate=0.03,\n",
    "#                                max_depth=30,\n",
    "#                               n_estimators=1000)\n",
    "# gb.fit(X_train,y_train)\n",
    "\n",
    "# Сначала попробуем без логорифмирования таргета\n",
    "\n",
    "# y_pred = gb.predict(X_test)\n",
    "# print(f\"Точность модели по метрике MAPE_без лого: {(mape(y_test, y_pred))*100:0.2f}%\")\n",
    "\n",
    "# Точность модели по метрике MAPE_без лого: 20.26%"
   ]
  },
  {
   "cell_type": "markdown",
   "metadata": {},
   "source": [
    "## Forest"
   ]
  },
  {
   "cell_type": "code",
   "execution_count": 161,
   "metadata": {},
   "outputs": [
    {
     "data": {
      "text/plain": [
       "RandomForestRegressor(max_depth=30, max_features='log2', n_estimators=1000,\n",
       "                      n_jobs=-1, oob_score=True, random_state=42)"
      ]
     },
     "execution_count": 161,
     "metadata": {},
     "output_type": "execute_result"
    }
   ],
   "source": [
    "rf = RandomForestRegressor(n_estimators=1000,\n",
    "                            n_jobs=-1,\n",
    "                            max_depth=30,\n",
    "                            max_features='log2',\n",
    "                            random_state=RANDOM_SEED,\n",
    "                            oob_score=True)\n",
    "rf.fit(X_train,y_train)"
   ]
  },
  {
   "cell_type": "code",
   "execution_count": 162,
   "metadata": {},
   "outputs": [
    {
     "name": "stdout",
     "output_type": "stream",
     "text": [
      "Точность модели по метрике MAPE_без лого: 18.14%\n"
     ]
    }
   ],
   "source": [
    "# Сначала попробуем без логорифмирования таргета\n",
    "\n",
    "#y_pred = rf.predict(X_test)\n",
    "#print(f\"Точность модели по метрике MAPE_без лого: {(mape(y_test, y_pred))*100:0.2f}%\")\n",
    "\n",
    "# Точность модели по метрике MAPE_без лого: 18.14%"
   ]
  },
  {
   "cell_type": "markdown",
   "metadata": {},
   "source": [
    "## Xgboosting"
   ]
  },
  {
   "cell_type": "code",
   "execution_count": 167,
   "metadata": {},
   "outputs": [
    {
     "name": "stdout",
     "output_type": "stream",
     "text": [
      "Точность модели по метрике MAPE: 13.82%\n"
     ]
    }
   ],
   "source": [
    "xb = xgb.XGBRegressor(objective='reg:squarederror', colsample_bytree=0.5, learning_rate=0.03, \\\n",
    "                      max_depth=12, alpha=1, n_jobs=-1, n_estimators=1000)\n",
    "xb.fit(X_train, np.log(y_train+1))\n",
    "print(f\"Точность модели по метрике MAPE: {(mape(y_test, np.exp(xb.predict(X_test))))*100:0.2f}%\")\n",
    "\n",
    "# Точность модели по метрике MAPE: 14.17% max_depth=8\n",
    "# Точность модели по метрике MAPE: 13.82% max_depth=12\n",
    "# Точность модели по метрике MAPE: 13.90% max_depth=18"
   ]
  },
  {
   "cell_type": "markdown",
   "metadata": {},
   "source": [
    "# Submission"
   ]
  },
  {
   "cell_type": "code",
   "execution_count": 168,
   "metadata": {},
   "outputs": [],
   "source": [
    "X_sub_st = stsc.transform(X_sub.drop('sell_id',1))\n",
    "X_sub_st = X_sub_st * weights\n",
    "\n",
    "pred = np.exp(xb.predict(X_sub_st))"
   ]
  },
  {
   "cell_type": "code",
   "execution_count": 169,
   "metadata": {},
   "outputs": [],
   "source": [
    "predict_submission = np.round(pred,-3).astype('int')"
   ]
  },
  {
   "cell_type": "code",
   "execution_count": 171,
   "metadata": {},
   "outputs": [
    {
     "data": {
      "text/html": [
       "<div>\n",
       "<style scoped>\n",
       "    .dataframe tbody tr th:only-of-type {\n",
       "        vertical-align: middle;\n",
       "    }\n",
       "\n",
       "    .dataframe tbody tr th {\n",
       "        vertical-align: top;\n",
       "    }\n",
       "\n",
       "    .dataframe thead th {\n",
       "        text-align: right;\n",
       "    }\n",
       "</style>\n",
       "<table border=\"1\" class=\"dataframe\">\n",
       "  <thead>\n",
       "    <tr style=\"text-align: right;\">\n",
       "      <th></th>\n",
       "      <th>sell_id</th>\n",
       "      <th>price</th>\n",
       "    </tr>\n",
       "  </thead>\n",
       "  <tbody>\n",
       "    <tr>\n",
       "      <th>0</th>\n",
       "      <td>1100575026</td>\n",
       "      <td>667000</td>\n",
       "    </tr>\n",
       "    <tr>\n",
       "      <th>1</th>\n",
       "      <td>1100549428</td>\n",
       "      <td>997000</td>\n",
       "    </tr>\n",
       "    <tr>\n",
       "      <th>2</th>\n",
       "      <td>1100658222</td>\n",
       "      <td>1061000</td>\n",
       "    </tr>\n",
       "    <tr>\n",
       "      <th>3</th>\n",
       "      <td>1100937408</td>\n",
       "      <td>788000</td>\n",
       "    </tr>\n",
       "    <tr>\n",
       "      <th>4</th>\n",
       "      <td>1101037972</td>\n",
       "      <td>789000</td>\n",
       "    </tr>\n",
       "    <tr>\n",
       "      <th>5</th>\n",
       "      <td>1100912634</td>\n",
       "      <td>873000</td>\n",
       "    </tr>\n",
       "    <tr>\n",
       "      <th>6</th>\n",
       "      <td>1101228730</td>\n",
       "      <td>735000</td>\n",
       "    </tr>\n",
       "    <tr>\n",
       "      <th>7</th>\n",
       "      <td>1100165896</td>\n",
       "      <td>447000</td>\n",
       "    </tr>\n",
       "    <tr>\n",
       "      <th>8</th>\n",
       "      <td>1100768262</td>\n",
       "      <td>2002000</td>\n",
       "    </tr>\n",
       "    <tr>\n",
       "      <th>9</th>\n",
       "      <td>1101218501</td>\n",
       "      <td>898000</td>\n",
       "    </tr>\n",
       "  </tbody>\n",
       "</table>\n",
       "</div>"
      ],
      "text/plain": [
       "      sell_id    price\n",
       "0  1100575026   667000\n",
       "1  1100549428   997000\n",
       "2  1100658222  1061000\n",
       "3  1100937408   788000\n",
       "4  1101037972   789000\n",
       "5  1100912634   873000\n",
       "6  1101228730   735000\n",
       "7  1100165896   447000\n",
       "8  1100768262  2002000\n",
       "9  1101218501   898000"
      ]
     },
     "execution_count": 171,
     "metadata": {},
     "output_type": "execute_result"
    }
   ],
   "source": [
    "sample_submission['price'] = predict_submission\n",
    "sample_submission.to_csv(f'submission_2_v16.csv', index=False)\n",
    "sample_submission.head(10)"
   ]
  },
  {
   "cell_type": "markdown",
   "metadata": {},
   "source": [
    "Вывод:\n",
    "Лучший результат на валидации показала модель Xgboosting: 13.82%"
   ]
  }
 ],
 "metadata": {
  "kernelspec": {
   "display_name": "Python 3",
   "language": "python",
   "name": "python3"
  },
  "language_info": {
   "codemirror_mode": {
    "name": "ipython",
    "version": 3
   },
   "file_extension": ".py",
   "mimetype": "text/x-python",
   "name": "python",
   "nbconvert_exporter": "python",
   "pygments_lexer": "ipython3",
   "version": "3.8.5"
  }
 },
 "nbformat": 4,
 "nbformat_minor": 4
}

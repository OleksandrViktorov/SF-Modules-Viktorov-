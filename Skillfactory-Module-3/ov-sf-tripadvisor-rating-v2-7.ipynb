{
 "cells": [
  {
   "cell_type": "markdown",
   "metadata": {},
   "source": [
    "# Predict TripAdvisor Rating\n",
    "## В этом соревновании нам предстоит предсказать рейтинг ресторана в TripAdvisor\n",
    "**По ходу задачи:**\n",
    "* Прокачаем работу с pandas\n",
    "* Научимся работать с Kaggle Notebooks\n",
    "* Поймем как делать предобработку различных данных\n",
    "* Научимся работать с пропущенными данными (Nan)\n",
    "* Познакомимся с различными видами кодирования признаков\n",
    "* Немного попробуем [Feature Engineering](https://ru.wikipedia.org/wiki/Конструирование_признаков) (генерировать новые признаки)\n",
    "* И совсем немного затронем ML\n",
    "* И многое другое...   \n",
    "\n",
    "\n",
    "\n",
    "### И самое важное, все это вы сможете сделать самостоятельно!\n",
    "\n",
    "*Этот Ноутбук являетсся Примером/Шаблоном к этому соревнованию (Baseline) и не служит готовым решением!*   \n",
    "Вы можете использовать его как основу для построения своего решения.\n",
    "\n",
    "> что такое baseline решение, зачем оно нужно и почему предоставлять baseline к соревнованию стало важным стандартом на kaggle и других площадках.   \n",
    "**baseline** создается больше как шаблон, где можно посмотреть как происходит обращение с входящими данными и что нужно получить на выходе. При этом МЛ начинка может быть достаточно простой, просто для примера. Это помогает быстрее приступить к самому МЛ, а не тратить ценное время на чисто инженерные задачи. \n",
    "Также baseline являеться хорошей опорной точкой по метрике. Если твое решение хуже baseline - ты явно делаешь что-то не то и стоит попробовать другой путь) \n",
    "\n",
    "В контексте нашего соревнования baseline идет с небольшими примерами того, что можно делать с данными, и с инструкцией, что делать дальше, чтобы улучшить результат.  Вообще готовым решением это сложно назвать, так как используются всего 2 самых простых признака (а остальные исключаются)."
   ]
  },
  {
   "cell_type": "markdown",
   "metadata": {},
   "source": [
    "# import"
   ]
  },
  {
   "cell_type": "code",
   "execution_count": 1,
   "metadata": {
    "_cell_guid": "b1076dfc-b9ad-4769-8c92-a6c4dae69d19",
    "_uuid": "8f2839f25d086af736a60e9eeb907d3b93b6e0e5",
    "execution": {
     "iopub.execute_input": "2021-08-09T16:13:58.917689Z",
     "iopub.status.busy": "2021-08-09T16:13:58.917042Z",
     "iopub.status.idle": "2021-08-09T16:14:00.013258Z",
     "shell.execute_reply": "2021-08-09T16:14:00.012273Z",
     "shell.execute_reply.started": "2021-08-09T16:13:58.917377Z"
    }
   },
   "outputs": [
    {
     "name": "stdout",
     "output_type": "stream",
     "text": [
      "/kaggle/input/sf-dst-restaurant-rating/sample_submission.csv\n",
      "/kaggle/input/sf-dst-restaurant-rating/main_task.csv\n",
      "/kaggle/input/sf-dst-restaurant-rating/kaggle_task.csv\n"
     ]
    }
   ],
   "source": [
    "# This Python 3 environment comes with many helpful analytics libraries installed\n",
    "# It is defined by the kaggle/python docker image: https://github.com/kaggle/docker-python\n",
    "# For example, here's several helpful packages to load in \n",
    "\n",
    "import numpy as np # linear algebra\n",
    "import pandas as pd # data processing, CSV file I/O (e.g. pd.read_csv)\n",
    "from datetime import datetime\n",
    "import matplotlib.pyplot as plt\n",
    "import seaborn as sns \n",
    "%matplotlib inline\n",
    "sns.set()\n",
    "\n",
    "# Загружаем специальный удобный инструмент для разделения датасета:\n",
    "from sklearn.model_selection import train_test_split\n",
    "\n",
    "# Input data files are available in the \"../input/\" directory.\n",
    "# For example, running this (by clicking run or pressing Shift+Enter) will list all files under the input directory\n",
    "\n",
    "import os\n",
    "for dirname, _, filenames in os.walk('/kaggle/input'):\n",
    "    for filename in filenames:\n",
    "        print(os.path.join(dirname, filename))\n",
    "\n",
    "# Any results you write to the current directory are saved as output."
   ]
  },
  {
   "cell_type": "code",
   "execution_count": 2,
   "metadata": {
    "execution": {
     "iopub.execute_input": "2021-08-09T16:14:00.017281Z",
     "iopub.status.busy": "2021-08-09T16:14:00.016994Z",
     "iopub.status.idle": "2021-08-09T16:14:00.021540Z",
     "shell.execute_reply": "2021-08-09T16:14:00.020278Z",
     "shell.execute_reply.started": "2021-08-09T16:14:00.017231Z"
    }
   },
   "outputs": [],
   "source": [
    "# всегда фиксируйте RANDOM_SEED, чтобы ваши эксперименты были воспроизводимы!\n",
    "RANDOM_SEED = 42"
   ]
  },
  {
   "cell_type": "code",
   "execution_count": 3,
   "metadata": {
    "execution": {
     "iopub.execute_input": "2021-08-09T16:14:00.023233Z",
     "iopub.status.busy": "2021-08-09T16:14:00.022925Z",
     "iopub.status.idle": "2021-08-09T16:14:03.318716Z",
     "shell.execute_reply": "2021-08-09T16:14:03.317787Z",
     "shell.execute_reply.started": "2021-08-09T16:14:00.023180Z"
    }
   },
   "outputs": [],
   "source": [
    "# зафиксируем версию пакетов, чтобы эксперименты были воспроизводимы:\n",
    "!pip freeze > requirements.txt"
   ]
  },
  {
   "cell_type": "markdown",
   "metadata": {},
   "source": [
    "# DATA"
   ]
  },
  {
   "cell_type": "code",
   "execution_count": 4,
   "metadata": {
    "_cell_guid": "79c7e3d0-c299-4dcb-8224-4455121ee9b0",
    "_uuid": "d629ff2d2480ee46fbb7e2d37f6b5fab8052498a",
    "execution": {
     "iopub.execute_input": "2021-08-09T16:14:03.320301Z",
     "iopub.status.busy": "2021-08-09T16:14:03.320017Z",
     "iopub.status.idle": "2021-08-09T16:14:03.556513Z",
     "shell.execute_reply": "2021-08-09T16:14:03.555720Z",
     "shell.execute_reply.started": "2021-08-09T16:14:03.320254Z"
    }
   },
   "outputs": [],
   "source": [
    "DATA_DIR = '/kaggle/input/sf-dst-restaurant-rating/'\n",
    "df_train = pd.read_csv(DATA_DIR+'/main_task.csv')\n",
    "df_test = pd.read_csv(DATA_DIR+'kaggle_task.csv')\n",
    "sample_submission = pd.read_csv(DATA_DIR+'/sample_submission.csv')"
   ]
  },
  {
   "cell_type": "code",
   "execution_count": 5,
   "metadata": {
    "execution": {
     "iopub.execute_input": "2021-08-09T16:14:03.558373Z",
     "iopub.status.busy": "2021-08-09T16:14:03.557993Z",
     "iopub.status.idle": "2021-08-09T16:14:03.584549Z",
     "shell.execute_reply": "2021-08-09T16:14:03.583284Z",
     "shell.execute_reply.started": "2021-08-09T16:14:03.558307Z"
    }
   },
   "outputs": [
    {
     "name": "stdout",
     "output_type": "stream",
     "text": [
      "<class 'pandas.core.frame.DataFrame'>\n",
      "RangeIndex: 40000 entries, 0 to 39999\n",
      "Data columns (total 10 columns):\n",
      "Restaurant_id        40000 non-null object\n",
      "City                 40000 non-null object\n",
      "Cuisine Style        30717 non-null object\n",
      "Ranking              40000 non-null float64\n",
      "Rating               40000 non-null float64\n",
      "Price Range          26114 non-null object\n",
      "Number of Reviews    37457 non-null float64\n",
      "Reviews              40000 non-null object\n",
      "URL_TA               40000 non-null object\n",
      "ID_TA                40000 non-null object\n",
      "dtypes: float64(3), object(7)\n",
      "memory usage: 3.1+ MB\n"
     ]
    }
   ],
   "source": [
    "df_train.info()"
   ]
  },
  {
   "cell_type": "code",
   "execution_count": 6,
   "metadata": {
    "execution": {
     "iopub.execute_input": "2021-08-09T16:14:03.587962Z",
     "iopub.status.busy": "2021-08-09T16:14:03.587666Z",
     "iopub.status.idle": "2021-08-09T16:14:03.615293Z",
     "shell.execute_reply": "2021-08-09T16:14:03.614346Z",
     "shell.execute_reply.started": "2021-08-09T16:14:03.587909Z"
    }
   },
   "outputs": [
    {
     "data": {
      "text/html": [
       "<div>\n",
       "<style scoped>\n",
       "    .dataframe tbody tr th:only-of-type {\n",
       "        vertical-align: middle;\n",
       "    }\n",
       "\n",
       "    .dataframe tbody tr th {\n",
       "        vertical-align: top;\n",
       "    }\n",
       "\n",
       "    .dataframe thead th {\n",
       "        text-align: right;\n",
       "    }\n",
       "</style>\n",
       "<table border=\"1\" class=\"dataframe\">\n",
       "  <thead>\n",
       "    <tr style=\"text-align: right;\">\n",
       "      <th></th>\n",
       "      <th>Restaurant_id</th>\n",
       "      <th>City</th>\n",
       "      <th>Cuisine Style</th>\n",
       "      <th>Ranking</th>\n",
       "      <th>Rating</th>\n",
       "      <th>Price Range</th>\n",
       "      <th>Number of Reviews</th>\n",
       "      <th>Reviews</th>\n",
       "      <th>URL_TA</th>\n",
       "      <th>ID_TA</th>\n",
       "    </tr>\n",
       "  </thead>\n",
       "  <tbody>\n",
       "    <tr>\n",
       "      <th>0</th>\n",
       "      <td>id_5569</td>\n",
       "      <td>Paris</td>\n",
       "      <td>['European', 'French', 'International']</td>\n",
       "      <td>5570.0</td>\n",
       "      <td>3.5</td>\n",
       "      <td>$$ - $$$</td>\n",
       "      <td>194.0</td>\n",
       "      <td>[['Good food at your doorstep', 'A good hotel ...</td>\n",
       "      <td>/Restaurant_Review-g187147-d1912643-Reviews-R_...</td>\n",
       "      <td>d1912643</td>\n",
       "    </tr>\n",
       "    <tr>\n",
       "      <th>1</th>\n",
       "      <td>id_1535</td>\n",
       "      <td>Stockholm</td>\n",
       "      <td>NaN</td>\n",
       "      <td>1537.0</td>\n",
       "      <td>4.0</td>\n",
       "      <td>NaN</td>\n",
       "      <td>10.0</td>\n",
       "      <td>[['Unique cuisine', 'Delicious Nepalese food']...</td>\n",
       "      <td>/Restaurant_Review-g189852-d7992032-Reviews-Bu...</td>\n",
       "      <td>d7992032</td>\n",
       "    </tr>\n",
       "    <tr>\n",
       "      <th>2</th>\n",
       "      <td>id_352</td>\n",
       "      <td>London</td>\n",
       "      <td>['Japanese', 'Sushi', 'Asian', 'Grill', 'Veget...</td>\n",
       "      <td>353.0</td>\n",
       "      <td>4.5</td>\n",
       "      <td>$$$$</td>\n",
       "      <td>688.0</td>\n",
       "      <td>[['Catch up with friends', 'Not exceptional'],...</td>\n",
       "      <td>/Restaurant_Review-g186338-d8632781-Reviews-RO...</td>\n",
       "      <td>d8632781</td>\n",
       "    </tr>\n",
       "    <tr>\n",
       "      <th>3</th>\n",
       "      <td>id_3456</td>\n",
       "      <td>Berlin</td>\n",
       "      <td>NaN</td>\n",
       "      <td>3458.0</td>\n",
       "      <td>5.0</td>\n",
       "      <td>NaN</td>\n",
       "      <td>3.0</td>\n",
       "      <td>[[], []]</td>\n",
       "      <td>/Restaurant_Review-g187323-d1358776-Reviews-Es...</td>\n",
       "      <td>d1358776</td>\n",
       "    </tr>\n",
       "    <tr>\n",
       "      <th>4</th>\n",
       "      <td>id_615</td>\n",
       "      <td>Munich</td>\n",
       "      <td>['German', 'Central European', 'Vegetarian Fri...</td>\n",
       "      <td>621.0</td>\n",
       "      <td>4.0</td>\n",
       "      <td>$$ - $$$</td>\n",
       "      <td>84.0</td>\n",
       "      <td>[['Best place to try a Bavarian food', 'Nice b...</td>\n",
       "      <td>/Restaurant_Review-g187309-d6864963-Reviews-Au...</td>\n",
       "      <td>d6864963</td>\n",
       "    </tr>\n",
       "  </tbody>\n",
       "</table>\n",
       "</div>"
      ],
      "text/plain": [
       "  Restaurant_id       City                                      Cuisine Style  \\\n",
       "0       id_5569      Paris            ['European', 'French', 'International']   \n",
       "1       id_1535  Stockholm                                                NaN   \n",
       "2        id_352     London  ['Japanese', 'Sushi', 'Asian', 'Grill', 'Veget...   \n",
       "3       id_3456     Berlin                                                NaN   \n",
       "4        id_615     Munich  ['German', 'Central European', 'Vegetarian Fri...   \n",
       "\n",
       "   Ranking  Rating Price Range  Number of Reviews  \\\n",
       "0   5570.0     3.5    $$ - $$$              194.0   \n",
       "1   1537.0     4.0         NaN               10.0   \n",
       "2    353.0     4.5        $$$$              688.0   \n",
       "3   3458.0     5.0         NaN                3.0   \n",
       "4    621.0     4.0    $$ - $$$               84.0   \n",
       "\n",
       "                                             Reviews  \\\n",
       "0  [['Good food at your doorstep', 'A good hotel ...   \n",
       "1  [['Unique cuisine', 'Delicious Nepalese food']...   \n",
       "2  [['Catch up with friends', 'Not exceptional'],...   \n",
       "3                                           [[], []]   \n",
       "4  [['Best place to try a Bavarian food', 'Nice b...   \n",
       "\n",
       "                                              URL_TA     ID_TA  \n",
       "0  /Restaurant_Review-g187147-d1912643-Reviews-R_...  d1912643  \n",
       "1  /Restaurant_Review-g189852-d7992032-Reviews-Bu...  d7992032  \n",
       "2  /Restaurant_Review-g186338-d8632781-Reviews-RO...  d8632781  \n",
       "3  /Restaurant_Review-g187323-d1358776-Reviews-Es...  d1358776  \n",
       "4  /Restaurant_Review-g187309-d6864963-Reviews-Au...  d6864963  "
      ]
     },
     "execution_count": 6,
     "metadata": {},
     "output_type": "execute_result"
    }
   ],
   "source": [
    "df_train.head(5)"
   ]
  },
  {
   "cell_type": "code",
   "execution_count": 7,
   "metadata": {
    "execution": {
     "iopub.execute_input": "2021-08-09T16:14:03.619390Z",
     "iopub.status.busy": "2021-08-09T16:14:03.619040Z",
     "iopub.status.idle": "2021-08-09T16:14:03.632684Z",
     "shell.execute_reply": "2021-08-09T16:14:03.631370Z",
     "shell.execute_reply.started": "2021-08-09T16:14:03.619339Z"
    }
   },
   "outputs": [
    {
     "name": "stdout",
     "output_type": "stream",
     "text": [
      "<class 'pandas.core.frame.DataFrame'>\n",
      "RangeIndex: 10000 entries, 0 to 9999\n",
      "Data columns (total 9 columns):\n",
      "Restaurant_id        10000 non-null object\n",
      "City                 10000 non-null object\n",
      "Cuisine Style        7693 non-null object\n",
      "Ranking              10000 non-null float64\n",
      "Price Range          6525 non-null object\n",
      "Number of Reviews    9343 non-null float64\n",
      "Reviews              9998 non-null object\n",
      "URL_TA               10000 non-null object\n",
      "ID_TA                10000 non-null object\n",
      "dtypes: float64(2), object(7)\n",
      "memory usage: 703.2+ KB\n"
     ]
    }
   ],
   "source": [
    "df_test.info()"
   ]
  },
  {
   "cell_type": "code",
   "execution_count": 8,
   "metadata": {
    "execution": {
     "iopub.execute_input": "2021-08-09T16:14:03.634396Z",
     "iopub.status.busy": "2021-08-09T16:14:03.634024Z",
     "iopub.status.idle": "2021-08-09T16:14:03.651914Z",
     "shell.execute_reply": "2021-08-09T16:14:03.650571Z",
     "shell.execute_reply.started": "2021-08-09T16:14:03.634341Z"
    }
   },
   "outputs": [
    {
     "data": {
      "text/html": [
       "<div>\n",
       "<style scoped>\n",
       "    .dataframe tbody tr th:only-of-type {\n",
       "        vertical-align: middle;\n",
       "    }\n",
       "\n",
       "    .dataframe tbody tr th {\n",
       "        vertical-align: top;\n",
       "    }\n",
       "\n",
       "    .dataframe thead th {\n",
       "        text-align: right;\n",
       "    }\n",
       "</style>\n",
       "<table border=\"1\" class=\"dataframe\">\n",
       "  <thead>\n",
       "    <tr style=\"text-align: right;\">\n",
       "      <th></th>\n",
       "      <th>Restaurant_id</th>\n",
       "      <th>City</th>\n",
       "      <th>Cuisine Style</th>\n",
       "      <th>Ranking</th>\n",
       "      <th>Price Range</th>\n",
       "      <th>Number of Reviews</th>\n",
       "      <th>Reviews</th>\n",
       "      <th>URL_TA</th>\n",
       "      <th>ID_TA</th>\n",
       "    </tr>\n",
       "  </thead>\n",
       "  <tbody>\n",
       "    <tr>\n",
       "      <th>0</th>\n",
       "      <td>id_0</td>\n",
       "      <td>Paris</td>\n",
       "      <td>['Bar', 'Pub']</td>\n",
       "      <td>12963.0</td>\n",
       "      <td>$$ - $$$</td>\n",
       "      <td>4.0</td>\n",
       "      <td>[[], []]</td>\n",
       "      <td>/Restaurant_Review-g187147-d10746918-Reviews-L...</td>\n",
       "      <td>d10746918</td>\n",
       "    </tr>\n",
       "    <tr>\n",
       "      <th>1</th>\n",
       "      <td>id_1</td>\n",
       "      <td>Helsinki</td>\n",
       "      <td>['European', 'Scandinavian', 'Gluten Free Opti...</td>\n",
       "      <td>106.0</td>\n",
       "      <td>$$ - $$$</td>\n",
       "      <td>97.0</td>\n",
       "      <td>[['Very good reviews!', 'Fine dining in Hakani...</td>\n",
       "      <td>/Restaurant_Review-g189934-d6674944-Reviews-Ra...</td>\n",
       "      <td>d6674944</td>\n",
       "    </tr>\n",
       "    <tr>\n",
       "      <th>2</th>\n",
       "      <td>id_2</td>\n",
       "      <td>Edinburgh</td>\n",
       "      <td>['Vegetarian Friendly']</td>\n",
       "      <td>810.0</td>\n",
       "      <td>$$ - $$$</td>\n",
       "      <td>28.0</td>\n",
       "      <td>[['Better than the Links', 'Ivy Black'], ['12/...</td>\n",
       "      <td>/Restaurant_Review-g186525-d13129638-Reviews-B...</td>\n",
       "      <td>d13129638</td>\n",
       "    </tr>\n",
       "    <tr>\n",
       "      <th>3</th>\n",
       "      <td>id_3</td>\n",
       "      <td>London</td>\n",
       "      <td>['Italian', 'Mediterranean', 'European', 'Vege...</td>\n",
       "      <td>1669.0</td>\n",
       "      <td>$$$$</td>\n",
       "      <td>202.0</td>\n",
       "      <td>[['Most exquisite', 'Delicious and authentic']...</td>\n",
       "      <td>/Restaurant_Review-g186338-d680417-Reviews-Qui...</td>\n",
       "      <td>d680417</td>\n",
       "    </tr>\n",
       "    <tr>\n",
       "      <th>4</th>\n",
       "      <td>id_4</td>\n",
       "      <td>Bratislava</td>\n",
       "      <td>['Italian', 'Mediterranean', 'European', 'Seaf...</td>\n",
       "      <td>37.0</td>\n",
       "      <td>$$$$</td>\n",
       "      <td>162.0</td>\n",
       "      <td>[['Always the best in bratislava', 'Very good ...</td>\n",
       "      <td>/Restaurant_Review-g274924-d1112354-Reviews-Ma...</td>\n",
       "      <td>d1112354</td>\n",
       "    </tr>\n",
       "  </tbody>\n",
       "</table>\n",
       "</div>"
      ],
      "text/plain": [
       "  Restaurant_id        City  \\\n",
       "0          id_0       Paris   \n",
       "1          id_1    Helsinki   \n",
       "2          id_2   Edinburgh   \n",
       "3          id_3      London   \n",
       "4          id_4  Bratislava   \n",
       "\n",
       "                                       Cuisine Style  Ranking Price Range  \\\n",
       "0                                     ['Bar', 'Pub']  12963.0    $$ - $$$   \n",
       "1  ['European', 'Scandinavian', 'Gluten Free Opti...    106.0    $$ - $$$   \n",
       "2                            ['Vegetarian Friendly']    810.0    $$ - $$$   \n",
       "3  ['Italian', 'Mediterranean', 'European', 'Vege...   1669.0        $$$$   \n",
       "4  ['Italian', 'Mediterranean', 'European', 'Seaf...     37.0        $$$$   \n",
       "\n",
       "   Number of Reviews                                            Reviews  \\\n",
       "0                4.0                                           [[], []]   \n",
       "1               97.0  [['Very good reviews!', 'Fine dining in Hakani...   \n",
       "2               28.0  [['Better than the Links', 'Ivy Black'], ['12/...   \n",
       "3              202.0  [['Most exquisite', 'Delicious and authentic']...   \n",
       "4              162.0  [['Always the best in bratislava', 'Very good ...   \n",
       "\n",
       "                                              URL_TA      ID_TA  \n",
       "0  /Restaurant_Review-g187147-d10746918-Reviews-L...  d10746918  \n",
       "1  /Restaurant_Review-g189934-d6674944-Reviews-Ra...   d6674944  \n",
       "2  /Restaurant_Review-g186525-d13129638-Reviews-B...  d13129638  \n",
       "3  /Restaurant_Review-g186338-d680417-Reviews-Qui...    d680417  \n",
       "4  /Restaurant_Review-g274924-d1112354-Reviews-Ma...   d1112354  "
      ]
     },
     "execution_count": 8,
     "metadata": {},
     "output_type": "execute_result"
    }
   ],
   "source": [
    "df_test.head(5)"
   ]
  },
  {
   "cell_type": "code",
   "execution_count": 9,
   "metadata": {
    "execution": {
     "iopub.execute_input": "2021-08-09T16:14:03.653556Z",
     "iopub.status.busy": "2021-08-09T16:14:03.653294Z",
     "iopub.status.idle": "2021-08-09T16:14:03.669384Z",
     "shell.execute_reply": "2021-08-09T16:14:03.668250Z",
     "shell.execute_reply.started": "2021-08-09T16:14:03.653513Z"
    }
   },
   "outputs": [
    {
     "data": {
      "text/html": [
       "<div>\n",
       "<style scoped>\n",
       "    .dataframe tbody tr th:only-of-type {\n",
       "        vertical-align: middle;\n",
       "    }\n",
       "\n",
       "    .dataframe tbody tr th {\n",
       "        vertical-align: top;\n",
       "    }\n",
       "\n",
       "    .dataframe thead th {\n",
       "        text-align: right;\n",
       "    }\n",
       "</style>\n",
       "<table border=\"1\" class=\"dataframe\">\n",
       "  <thead>\n",
       "    <tr style=\"text-align: right;\">\n",
       "      <th></th>\n",
       "      <th>Restaurant_id</th>\n",
       "      <th>Rating</th>\n",
       "    </tr>\n",
       "  </thead>\n",
       "  <tbody>\n",
       "    <tr>\n",
       "      <th>0</th>\n",
       "      <td>id_0</td>\n",
       "      <td>2.0</td>\n",
       "    </tr>\n",
       "    <tr>\n",
       "      <th>1</th>\n",
       "      <td>id_1</td>\n",
       "      <td>2.5</td>\n",
       "    </tr>\n",
       "    <tr>\n",
       "      <th>2</th>\n",
       "      <td>id_2</td>\n",
       "      <td>4.0</td>\n",
       "    </tr>\n",
       "    <tr>\n",
       "      <th>3</th>\n",
       "      <td>id_3</td>\n",
       "      <td>1.0</td>\n",
       "    </tr>\n",
       "    <tr>\n",
       "      <th>4</th>\n",
       "      <td>id_4</td>\n",
       "      <td>4.0</td>\n",
       "    </tr>\n",
       "  </tbody>\n",
       "</table>\n",
       "</div>"
      ],
      "text/plain": [
       "  Restaurant_id  Rating\n",
       "0          id_0     2.0\n",
       "1          id_1     2.5\n",
       "2          id_2     4.0\n",
       "3          id_3     1.0\n",
       "4          id_4     4.0"
      ]
     },
     "execution_count": 9,
     "metadata": {},
     "output_type": "execute_result"
    }
   ],
   "source": [
    "sample_submission.head(5)"
   ]
  },
  {
   "cell_type": "code",
   "execution_count": 10,
   "metadata": {
    "execution": {
     "iopub.execute_input": "2021-08-09T16:14:03.670989Z",
     "iopub.status.busy": "2021-08-09T16:14:03.670678Z",
     "iopub.status.idle": "2021-08-09T16:14:03.685214Z",
     "shell.execute_reply": "2021-08-09T16:14:03.684158Z",
     "shell.execute_reply.started": "2021-08-09T16:14:03.670932Z"
    }
   },
   "outputs": [
    {
     "name": "stdout",
     "output_type": "stream",
     "text": [
      "<class 'pandas.core.frame.DataFrame'>\n",
      "RangeIndex: 10000 entries, 0 to 9999\n",
      "Data columns (total 2 columns):\n",
      "Restaurant_id    10000 non-null object\n",
      "Rating           10000 non-null float64\n",
      "dtypes: float64(1), object(1)\n",
      "memory usage: 156.4+ KB\n"
     ]
    }
   ],
   "source": [
    "sample_submission.info()"
   ]
  },
  {
   "cell_type": "code",
   "execution_count": 11,
   "metadata": {
    "execution": {
     "iopub.execute_input": "2021-08-09T16:14:03.686855Z",
     "iopub.status.busy": "2021-08-09T16:14:03.686537Z",
     "iopub.status.idle": "2021-08-09T16:14:03.740425Z",
     "shell.execute_reply": "2021-08-09T16:14:03.739458Z",
     "shell.execute_reply.started": "2021-08-09T16:14:03.686811Z"
    }
   },
   "outputs": [],
   "source": [
    "# ВАЖНО! дря корректной обработки признаков объединяем трейн и тест в один датасет\n",
    "df_train['sample'] = 1 # помечаем где у нас трейн\n",
    "df_test['sample'] = 0 # помечаем где у нас тест\n",
    "df_test['Rating'] = 0 # в тесте у нас нет значения Rating, мы его должны предсказать, по этому пока просто заполняем нулями\n",
    "\n",
    "data = df_test.append(df_train, sort=False).reset_index(drop=True) # объединяем"
   ]
  },
  {
   "cell_type": "code",
   "execution_count": 12,
   "metadata": {
    "execution": {
     "iopub.execute_input": "2021-08-09T16:14:03.741825Z",
     "iopub.status.busy": "2021-08-09T16:14:03.741596Z",
     "iopub.status.idle": "2021-08-09T16:14:03.767523Z",
     "shell.execute_reply": "2021-08-09T16:14:03.766298Z",
     "shell.execute_reply.started": "2021-08-09T16:14:03.741792Z"
    }
   },
   "outputs": [
    {
     "name": "stdout",
     "output_type": "stream",
     "text": [
      "<class 'pandas.core.frame.DataFrame'>\n",
      "RangeIndex: 50000 entries, 0 to 49999\n",
      "Data columns (total 11 columns):\n",
      "Restaurant_id        50000 non-null object\n",
      "City                 50000 non-null object\n",
      "Cuisine Style        38410 non-null object\n",
      "Ranking              50000 non-null float64\n",
      "Price Range          32639 non-null object\n",
      "Number of Reviews    46800 non-null float64\n",
      "Reviews              49998 non-null object\n",
      "URL_TA               50000 non-null object\n",
      "ID_TA                50000 non-null object\n",
      "sample               50000 non-null int64\n",
      "Rating               50000 non-null float64\n",
      "dtypes: float64(3), int64(1), object(7)\n",
      "memory usage: 4.2+ MB\n"
     ]
    }
   ],
   "source": [
    "data.info()"
   ]
  },
  {
   "cell_type": "markdown",
   "metadata": {},
   "source": [
    "Подробнее по признакам:\n",
    "* City: Город \n",
    "* Cuisine Style: Кухня\n",
    "* Ranking: Ранг ресторана относительно других ресторанов в этом городе\n",
    "* Price Range: Цены в ресторане в 3 категориях\n",
    "* Number of Reviews: Количество отзывов\n",
    "* Reviews: 2 последних отзыва и даты этих отзывов\n",
    "* URL_TA: страница ресторана на 'www.tripadvisor.com' \n",
    "* ID_TA: ID ресторана в TripAdvisor\n",
    "* Rating: Рейтинг ресторана"
   ]
  },
  {
   "cell_type": "code",
   "execution_count": 13,
   "metadata": {
    "execution": {
     "iopub.execute_input": "2021-08-09T16:14:03.769134Z",
     "iopub.status.busy": "2021-08-09T16:14:03.768861Z",
     "iopub.status.idle": "2021-08-09T16:14:03.786964Z",
     "shell.execute_reply": "2021-08-09T16:14:03.786178Z",
     "shell.execute_reply.started": "2021-08-09T16:14:03.769074Z"
    }
   },
   "outputs": [
    {
     "data": {
      "text/html": [
       "<div>\n",
       "<style scoped>\n",
       "    .dataframe tbody tr th:only-of-type {\n",
       "        vertical-align: middle;\n",
       "    }\n",
       "\n",
       "    .dataframe tbody tr th {\n",
       "        vertical-align: top;\n",
       "    }\n",
       "\n",
       "    .dataframe thead th {\n",
       "        text-align: right;\n",
       "    }\n",
       "</style>\n",
       "<table border=\"1\" class=\"dataframe\">\n",
       "  <thead>\n",
       "    <tr style=\"text-align: right;\">\n",
       "      <th></th>\n",
       "      <th>Restaurant_id</th>\n",
       "      <th>City</th>\n",
       "      <th>Cuisine Style</th>\n",
       "      <th>Ranking</th>\n",
       "      <th>Price Range</th>\n",
       "      <th>Number of Reviews</th>\n",
       "      <th>Reviews</th>\n",
       "      <th>URL_TA</th>\n",
       "      <th>ID_TA</th>\n",
       "      <th>sample</th>\n",
       "      <th>Rating</th>\n",
       "    </tr>\n",
       "  </thead>\n",
       "  <tbody>\n",
       "    <tr>\n",
       "      <th>31894</th>\n",
       "      <td>id_1040</td>\n",
       "      <td>Munich</td>\n",
       "      <td>['Vegetarian Friendly']</td>\n",
       "      <td>1050.0</td>\n",
       "      <td>$$ - $$$</td>\n",
       "      <td>27.0</td>\n",
       "      <td>[['Absolutely yummy elegance', 'Very creative ...</td>\n",
       "      <td>/Restaurant_Review-g187309-d7153029-Reviews-Pr...</td>\n",
       "      <td>d7153029</td>\n",
       "      <td>1</td>\n",
       "      <td>4.0</td>\n",
       "    </tr>\n",
       "    <tr>\n",
       "      <th>31779</th>\n",
       "      <td>id_2536</td>\n",
       "      <td>Rome</td>\n",
       "      <td>['Italian', 'Cafe', 'Vegetarian Friendly', 'Ve...</td>\n",
       "      <td>2537.0</td>\n",
       "      <td>$</td>\n",
       "      <td>75.0</td>\n",
       "      <td>[['So friendly!', 'Your Corner Cafe'], ['12/21...</td>\n",
       "      <td>/Restaurant_Review-g187791-d7722688-Reviews-Mo...</td>\n",
       "      <td>d7722688</td>\n",
       "      <td>1</td>\n",
       "      <td>4.5</td>\n",
       "    </tr>\n",
       "    <tr>\n",
       "      <th>42906</th>\n",
       "      <td>id_10084</td>\n",
       "      <td>London</td>\n",
       "      <td>['Japanese', 'Sushi', 'Asian']</td>\n",
       "      <td>10093.0</td>\n",
       "      <td>$$ - $$$</td>\n",
       "      <td>101.0</td>\n",
       "      <td>[['Delicious Japanese food', 'Good honest Japa...</td>\n",
       "      <td>/Restaurant_Review-g186338-d797226-Reviews-Haz...</td>\n",
       "      <td>d797226</td>\n",
       "      <td>1</td>\n",
       "      <td>3.5</td>\n",
       "    </tr>\n",
       "    <tr>\n",
       "      <th>40359</th>\n",
       "      <td>id_4050</td>\n",
       "      <td>Berlin</td>\n",
       "      <td>NaN</td>\n",
       "      <td>4052.0</td>\n",
       "      <td>NaN</td>\n",
       "      <td>2.0</td>\n",
       "      <td>[['Good for breakfast'], ['12/01/2017']]</td>\n",
       "      <td>/Restaurant_Review-g187323-d12948857-Reviews-J...</td>\n",
       "      <td>d12948857</td>\n",
       "      <td>1</td>\n",
       "      <td>4.5</td>\n",
       "    </tr>\n",
       "    <tr>\n",
       "      <th>47493</th>\n",
       "      <td>id_5355</td>\n",
       "      <td>Madrid</td>\n",
       "      <td>['Mediterranean', 'Spanish', 'European']</td>\n",
       "      <td>5358.0</td>\n",
       "      <td>$$ - $$$</td>\n",
       "      <td>122.0</td>\n",
       "      <td>[['Great value for money', 'Paella low quality...</td>\n",
       "      <td>/Restaurant_Review-g187514-d3575211-Reviews-Ar...</td>\n",
       "      <td>d3575211</td>\n",
       "      <td>1</td>\n",
       "      <td>3.5</td>\n",
       "    </tr>\n",
       "  </tbody>\n",
       "</table>\n",
       "</div>"
      ],
      "text/plain": [
       "      Restaurant_id    City  \\\n",
       "31894       id_1040  Munich   \n",
       "31779       id_2536    Rome   \n",
       "42906      id_10084  London   \n",
       "40359       id_4050  Berlin   \n",
       "47493       id_5355  Madrid   \n",
       "\n",
       "                                           Cuisine Style  Ranking Price Range  \\\n",
       "31894                            ['Vegetarian Friendly']   1050.0    $$ - $$$   \n",
       "31779  ['Italian', 'Cafe', 'Vegetarian Friendly', 'Ve...   2537.0           $   \n",
       "42906                     ['Japanese', 'Sushi', 'Asian']  10093.0    $$ - $$$   \n",
       "40359                                                NaN   4052.0         NaN   \n",
       "47493           ['Mediterranean', 'Spanish', 'European']   5358.0    $$ - $$$   \n",
       "\n",
       "       Number of Reviews                                            Reviews  \\\n",
       "31894               27.0  [['Absolutely yummy elegance', 'Very creative ...   \n",
       "31779               75.0  [['So friendly!', 'Your Corner Cafe'], ['12/21...   \n",
       "42906              101.0  [['Delicious Japanese food', 'Good honest Japa...   \n",
       "40359                2.0           [['Good for breakfast'], ['12/01/2017']]   \n",
       "47493              122.0  [['Great value for money', 'Paella low quality...   \n",
       "\n",
       "                                                  URL_TA      ID_TA  sample  \\\n",
       "31894  /Restaurant_Review-g187309-d7153029-Reviews-Pr...   d7153029       1   \n",
       "31779  /Restaurant_Review-g187791-d7722688-Reviews-Mo...   d7722688       1   \n",
       "42906  /Restaurant_Review-g186338-d797226-Reviews-Haz...    d797226       1   \n",
       "40359  /Restaurant_Review-g187323-d12948857-Reviews-J...  d12948857       1   \n",
       "47493  /Restaurant_Review-g187514-d3575211-Reviews-Ar...   d3575211       1   \n",
       "\n",
       "       Rating  \n",
       "31894     4.0  \n",
       "31779     4.5  \n",
       "42906     3.5  \n",
       "40359     4.5  \n",
       "47493     3.5  "
      ]
     },
     "execution_count": 13,
     "metadata": {},
     "output_type": "execute_result"
    }
   ],
   "source": [
    "data.sample(5)"
   ]
  },
  {
   "cell_type": "markdown",
   "metadata": {},
   "source": [
    "Как видим, большинство признаков у нас требует очистки и предварительной обработки."
   ]
  },
  {
   "cell_type": "markdown",
   "metadata": {},
   "source": [
    "# Cleaning and Prepping Data\n",
    "Обычно данные содержат в себе кучу мусора, который необходимо почистить, для того чтобы привести их в приемлемый формат. Чистка данных — это необходимый этап решения почти любой реальной задачи.   \n",
    "![](https://analyticsindiamag.com/wp-content/uploads/2018/01/data-cleaning.png)"
   ]
  },
  {
   "cell_type": "markdown",
   "metadata": {},
   "source": [
    "## Обработка признаков\n",
    "\n",
    "Пройдемся по каждому признаку и приведем предварительную обработку. Посмотрим на пропуски и создадим новые признаки."
   ]
  },
  {
   "cell_type": "code",
   "execution_count": 14,
   "metadata": {
    "execution": {
     "iopub.execute_input": "2021-08-09T16:14:03.788608Z",
     "iopub.status.busy": "2021-08-09T16:14:03.788267Z",
     "iopub.status.idle": "2021-08-09T16:14:03.821583Z",
     "shell.execute_reply": "2021-08-09T16:14:03.820606Z",
     "shell.execute_reply.started": "2021-08-09T16:14:03.788553Z"
    }
   },
   "outputs": [
    {
     "data": {
      "text/plain": [
       "Restaurant_id            0\n",
       "City                     0\n",
       "Cuisine Style        11590\n",
       "Ranking                  0\n",
       "Price Range          17361\n",
       "Number of Reviews     3200\n",
       "Reviews                  2\n",
       "URL_TA                   0\n",
       "ID_TA                    0\n",
       "sample                   0\n",
       "Rating                   0\n",
       "dtype: int64"
      ]
     },
     "execution_count": 14,
     "metadata": {},
     "output_type": "execute_result"
    }
   ],
   "source": [
    "data.isna().sum()"
   ]
  },
  {
   "cell_type": "markdown",
   "metadata": {},
   "source": [
    "Cuisine Style, Price Range и Number of Reviews содержат много пропусков. Далее мы их заполним и создадим новые признаки, которые будут говорить об отсутствии информации."
   ]
  },
  {
   "cell_type": "markdown",
   "metadata": {},
   "source": [
    "### Restaurant_id"
   ]
  },
  {
   "cell_type": "code",
   "execution_count": 15,
   "metadata": {
    "execution": {
     "iopub.execute_input": "2021-08-09T16:14:03.823590Z",
     "iopub.status.busy": "2021-08-09T16:14:03.823016Z",
     "iopub.status.idle": "2021-08-09T16:14:03.847715Z",
     "shell.execute_reply": "2021-08-09T16:14:03.846628Z",
     "shell.execute_reply.started": "2021-08-09T16:14:03.823432Z"
    }
   },
   "outputs": [
    {
     "data": {
      "text/plain": [
       "id_633      19\n",
       "id_871      19\n",
       "id_227      19\n",
       "id_436      19\n",
       "id_430      18\n",
       "            ..\n",
       "id_3907      1\n",
       "id_11017     1\n",
       "id_12357     1\n",
       "id_13625     1\n",
       "id_14894     1\n",
       "Name: Restaurant_id, Length: 13094, dtype: int64"
      ]
     },
     "execution_count": 15,
     "metadata": {},
     "output_type": "execute_result"
    }
   ],
   "source": [
    "data.Restaurant_id.value_counts()"
   ]
  },
  {
   "cell_type": "markdown",
   "metadata": {},
   "source": [
    "Мы видим что есть повторящиеся id, возможно эти рестораны сетевые. \n",
    "\n",
    "Создадим новый признак chain: 1 - сетевой, 0 - несетевой."
   ]
  },
  {
   "cell_type": "code",
   "execution_count": 16,
   "metadata": {
    "execution": {
     "iopub.execute_input": "2021-08-09T16:14:03.849617Z",
     "iopub.status.busy": "2021-08-09T16:14:03.849255Z",
     "iopub.status.idle": "2021-08-09T16:14:03.883344Z",
     "shell.execute_reply": "2021-08-09T16:14:03.882371Z",
     "shell.execute_reply.started": "2021-08-09T16:14:03.849550Z"
    }
   },
   "outputs": [],
   "source": [
    "chain_lst = list(data.Restaurant_id.value_counts()[data.Restaurant_id.value_counts() > 1].index)"
   ]
  },
  {
   "cell_type": "code",
   "execution_count": 17,
   "metadata": {
    "execution": {
     "iopub.execute_input": "2021-08-09T16:14:03.885172Z",
     "iopub.status.busy": "2021-08-09T16:14:03.884800Z",
     "iopub.status.idle": "2021-08-09T16:14:03.927353Z",
     "shell.execute_reply": "2021-08-09T16:14:03.926324Z",
     "shell.execute_reply.started": "2021-08-09T16:14:03.885072Z"
    }
   },
   "outputs": [],
   "source": [
    "data['chain'] = data[data.Restaurant_id.isin(chain_lst)].Restaurant_id.apply(lambda x: 1)\n",
    "data['chain'].fillna(0, inplace=True)"
   ]
  },
  {
   "cell_type": "code",
   "execution_count": 18,
   "metadata": {
    "execution": {
     "iopub.execute_input": "2021-08-09T16:14:03.929367Z",
     "iopub.status.busy": "2021-08-09T16:14:03.928975Z",
     "iopub.status.idle": "2021-08-09T16:14:03.939631Z",
     "shell.execute_reply": "2021-08-09T16:14:03.938791Z",
     "shell.execute_reply.started": "2021-08-09T16:14:03.929299Z"
    }
   },
   "outputs": [
    {
     "data": {
      "text/plain": [
       "1.0    46193\n",
       "0.0     3807\n",
       "Name: chain, dtype: int64"
      ]
     },
     "execution_count": 18,
     "metadata": {},
     "output_type": "execute_result"
    }
   ],
   "source": [
    "data['chain'].value_counts()"
   ]
  },
  {
   "cell_type": "markdown",
   "metadata": {},
   "source": [
    "### City"
   ]
  },
  {
   "cell_type": "code",
   "execution_count": 19,
   "metadata": {
    "execution": {
     "iopub.execute_input": "2021-08-09T16:14:03.940991Z",
     "iopub.status.busy": "2021-08-09T16:14:03.940752Z",
     "iopub.status.idle": "2021-08-09T16:14:04.308256Z",
     "shell.execute_reply": "2021-08-09T16:14:04.307225Z",
     "shell.execute_reply.started": "2021-08-09T16:14:03.940951Z"
    }
   },
   "outputs": [
    {
     "data": {
      "image/png": "[encoded data removed]",
      "text/plain": [
       "<Figure size 720x288 with 1 Axes>"
      ]
     },
     "metadata": {},
     "output_type": "display_data"
    }
   ],
   "source": [
    "plt.figure(figsize=(10,4))\n",
    "data.City.value_counts(ascending=False).plot(kind='bar');"
   ]
  },
  {
   "cell_type": "markdown",
   "metadata": {},
   "source": [
    "Создадим признак количество ресторанов в городе."
   ]
  },
  {
   "cell_type": "code",
   "execution_count": 20,
   "metadata": {
    "execution": {
     "iopub.execute_input": "2021-08-09T16:14:04.310103Z",
     "iopub.status.busy": "2021-08-09T16:14:04.309768Z",
     "iopub.status.idle": "2021-08-09T16:14:04.322536Z",
     "shell.execute_reply": "2021-08-09T16:14:04.321223Z",
     "shell.execute_reply.started": "2021-08-09T16:14:04.310050Z"
    }
   },
   "outputs": [],
   "source": [
    "city_counts_dict = dict(data['City'].value_counts())"
   ]
  },
  {
   "cell_type": "code",
   "execution_count": 21,
   "metadata": {
    "execution": {
     "iopub.execute_input": "2021-08-09T16:14:04.324932Z",
     "iopub.status.busy": "2021-08-09T16:14:04.324314Z",
     "iopub.status.idle": "2021-08-09T16:14:04.340569Z",
     "shell.execute_reply": "2021-08-09T16:14:04.339547Z",
     "shell.execute_reply.started": "2021-08-09T16:14:04.324706Z"
    }
   },
   "outputs": [],
   "source": [
    "data['rest_counts'] = data.City.map(city_counts_dict)"
   ]
  },
  {
   "cell_type": "code",
   "execution_count": 22,
   "metadata": {
    "execution": {
     "iopub.execute_input": "2021-08-09T16:14:04.343327Z",
     "iopub.status.busy": "2021-08-09T16:14:04.342708Z",
     "iopub.status.idle": "2021-08-09T16:14:05.104534Z",
     "shell.execute_reply": "2021-08-09T16:14:05.103441Z",
     "shell.execute_reply.started": "2021-08-09T16:14:04.343020Z"
    }
   },
   "outputs": [
    {
     "data": {
      "image/png": "[encoded data removed]",
      "text/plain": [
       "<Figure size 1296x504 with 1 Axes>"
      ]
     },
     "metadata": {},
     "output_type": "display_data"
    }
   ],
   "source": [
    "plt.figure(figsize=(18, 7))\n",
    "sns.boxplot(x='City', y='Rating', data=data[data['sample'] == 1])\n",
    "plt.xticks(rotation=90);"
   ]
  },
  {
   "cell_type": "markdown",
   "metadata": {},
   "source": [
    "На графике можно увидеть, что рейтинг ресторанов в Rome начинаются с 3, а в Milan вероятность рейтинга с оценкой 5 очень мала. "
   ]
  },
  {
   "cell_type": "markdown",
   "metadata": {},
   "source": [
    "### Cuisine Style"
   ]
  },
  {
   "cell_type": "code",
   "execution_count": 23,
   "metadata": {
    "execution": {
     "iopub.execute_input": "2021-08-09T16:14:05.106102Z",
     "iopub.status.busy": "2021-08-09T16:14:05.105850Z",
     "iopub.status.idle": "2021-08-09T16:14:05.113390Z",
     "shell.execute_reply": "2021-08-09T16:14:05.111956Z",
     "shell.execute_reply.started": "2021-08-09T16:14:05.106059Z"
    }
   },
   "outputs": [
    {
     "data": {
      "text/plain": [
       "\"['European', 'Scandinavian', 'Gluten Free Options', 'Vegetarian Friendly', 'Vegan Options']\""
      ]
     },
     "execution_count": 23,
     "metadata": {},
     "output_type": "execute_result"
    }
   ],
   "source": [
    "data['Cuisine Style'][1]"
   ]
  },
  {
   "cell_type": "markdown",
   "metadata": {},
   "source": [
    "Значения представлены в виде строки, обработаем их. Создадим список уникальных кухонь представленных во всем датасете. Пропуски заполним значением 'Other', создадим колонку, которая показывает было ли значение пустое."
   ]
  },
  {
   "cell_type": "code",
   "execution_count": 24,
   "metadata": {
    "execution": {
     "iopub.execute_input": "2021-08-09T16:14:05.114976Z",
     "iopub.status.busy": "2021-08-09T16:14:05.114728Z",
     "iopub.status.idle": "2021-08-09T16:14:05.126405Z",
     "shell.execute_reply": "2021-08-09T16:14:05.125576Z",
     "shell.execute_reply.started": "2021-08-09T16:14:05.114933Z"
    }
   },
   "outputs": [],
   "source": [
    "data['Cuisine Style_NAN'] = data['Cuisine Style'].isna().astype('uint8')"
   ]
  },
  {
   "cell_type": "code",
   "execution_count": 25,
   "metadata": {
    "execution": {
     "iopub.execute_input": "2021-08-09T16:14:05.128906Z",
     "iopub.status.busy": "2021-08-09T16:14:05.128518Z",
     "iopub.status.idle": "2021-08-09T16:14:05.142999Z",
     "shell.execute_reply": "2021-08-09T16:14:05.141950Z",
     "shell.execute_reply.started": "2021-08-09T16:14:05.128841Z"
    }
   },
   "outputs": [],
   "source": [
    "data['Cuisine Style'].fillna(\"['Other']\", inplace=True)"
   ]
  },
  {
   "cell_type": "code",
   "execution_count": 26,
   "metadata": {
    "execution": {
     "iopub.execute_input": "2021-08-09T16:14:05.145315Z",
     "iopub.status.busy": "2021-08-09T16:14:05.144907Z",
     "iopub.status.idle": "2021-08-09T16:14:05.663563Z",
     "shell.execute_reply": "2021-08-09T16:14:05.662565Z",
     "shell.execute_reply.started": "2021-08-09T16:14:05.145162Z"
    }
   },
   "outputs": [],
   "source": [
    "data['Cuisine Style'] = data['Cuisine Style'].apply(lambda x: eval(x))"
   ]
  },
  {
   "cell_type": "markdown",
   "metadata": {},
   "source": [
    "Создадим признак 'cuisine_count' - количество представленных кухонь в ресторане."
   ]
  },
  {
   "cell_type": "code",
   "execution_count": 27,
   "metadata": {
    "execution": {
     "iopub.execute_input": "2021-08-09T16:14:05.668476Z",
     "iopub.status.busy": "2021-08-09T16:14:05.668171Z",
     "iopub.status.idle": "2021-08-09T16:14:05.693623Z",
     "shell.execute_reply": "2021-08-09T16:14:05.692580Z",
     "shell.execute_reply.started": "2021-08-09T16:14:05.668430Z"
    }
   },
   "outputs": [],
   "source": [
    "data['cuisine_count'] = data['Cuisine Style'].apply(lambda x: len(x))"
   ]
  },
  {
   "cell_type": "markdown",
   "metadata": {},
   "source": [
    "Посмотрим частоту встречаемости кухонь и выберем редкие (< 50)"
   ]
  },
  {
   "cell_type": "code",
   "execution_count": 28,
   "metadata": {
    "execution": {
     "iopub.execute_input": "2021-08-09T16:14:05.695440Z",
     "iopub.status.busy": "2021-08-09T16:14:05.695046Z",
     "iopub.status.idle": "2021-08-09T16:14:07.654183Z",
     "shell.execute_reply": "2021-08-09T16:14:07.653361Z",
     "shell.execute_reply.started": "2021-08-09T16:14:05.695368Z"
    }
   },
   "outputs": [
    {
     "data": {
      "image/png": "[encoded data removed]",
      "text/plain": [
       "<Figure size 1296x432 with 1 Axes>"
      ]
     },
     "metadata": {},
     "output_type": "display_data"
    }
   ],
   "source": [
    "plt.figure(figsize=(18,6))\n",
    "data.explode('Cuisine Style')['Cuisine Style'].value_counts(ascending=False).plot(kind='bar');"
   ]
  },
  {
   "cell_type": "markdown",
   "metadata": {},
   "source": [
    "Vegetarian Friendly и European лидируют. Кухни, встречающиеся меньше 50 раз, будем считать редкими."
   ]
  },
  {
   "cell_type": "code",
   "execution_count": 29,
   "metadata": {
    "execution": {
     "iopub.execute_input": "2021-08-09T16:14:07.655982Z",
     "iopub.status.busy": "2021-08-09T16:14:07.655700Z",
     "iopub.status.idle": "2021-08-09T16:14:08.341104Z",
     "shell.execute_reply": "2021-08-09T16:14:08.340207Z",
     "shell.execute_reply.started": "2021-08-09T16:14:07.655933Z"
    }
   },
   "outputs": [],
   "source": [
    "cuisine_rare_lst = data.explode('Cuisine Style')['Cuisine Style'].value_counts()[\n",
    "    data.explode('Cuisine Style')['Cuisine Style'].value_counts() < 50].index.tolist()"
   ]
  },
  {
   "cell_type": "code",
   "execution_count": 30,
   "metadata": {
    "execution": {
     "iopub.execute_input": "2021-08-09T16:14:08.343277Z",
     "iopub.status.busy": "2021-08-09T16:14:08.342770Z",
     "iopub.status.idle": "2021-08-09T16:14:08.349084Z",
     "shell.execute_reply": "2021-08-09T16:14:08.348317Z",
     "shell.execute_reply.started": "2021-08-09T16:14:08.343075Z"
    }
   },
   "outputs": [],
   "source": [
    "def cuisine_rare_count(cell):\n",
    "    '''Количество редких кухонь в ресторане'''\n",
    "    x = 0\n",
    "    for i in cuisine_rare_lst:\n",
    "        if i in cell:\n",
    "            x += 1\n",
    "    return x"
   ]
  },
  {
   "cell_type": "code",
   "execution_count": 31,
   "metadata": {
    "execution": {
     "iopub.execute_input": "2021-08-09T16:14:08.350600Z",
     "iopub.status.busy": "2021-08-09T16:14:08.350165Z",
     "iopub.status.idle": "2021-08-09T16:14:08.516512Z",
     "shell.execute_reply": "2021-08-09T16:14:08.515415Z",
     "shell.execute_reply.started": "2021-08-09T16:14:08.350547Z"
    }
   },
   "outputs": [],
   "source": [
    "data['cuisine_rare'] = data['Cuisine Style'].apply(cuisine_rare_count)"
   ]
  },
  {
   "cell_type": "markdown",
   "metadata": {},
   "source": [
    "Создадим dummy переменные кухонь"
   ]
  },
  {
   "cell_type": "code",
   "execution_count": 32,
   "metadata": {
    "execution": {
     "iopub.execute_input": "2021-08-09T16:14:08.518033Z",
     "iopub.status.busy": "2021-08-09T16:14:08.517747Z",
     "iopub.status.idle": "2021-08-09T16:14:08.860939Z",
     "shell.execute_reply": "2021-08-09T16:14:08.860249Z",
     "shell.execute_reply.started": "2021-08-09T16:14:08.517993Z"
    }
   },
   "outputs": [],
   "source": [
    "cuisine_lst = list(data.explode('Cuisine Style')['Cuisine Style'].unique())"
   ]
  },
  {
   "cell_type": "code",
   "execution_count": 33,
   "metadata": {
    "execution": {
     "iopub.execute_input": "2021-08-09T16:14:08.862515Z",
     "iopub.status.busy": "2021-08-09T16:14:08.862057Z",
     "iopub.status.idle": "2021-08-09T16:14:11.454770Z",
     "shell.execute_reply": "2021-08-09T16:14:11.453744Z",
     "shell.execute_reply.started": "2021-08-09T16:14:08.862461Z"
    }
   },
   "outputs": [],
   "source": [
    "def find_item(cell):\n",
    "    if item in cell:\n",
    "        return 1\n",
    "    return 0\n",
    "    \n",
    "for item in cuisine_lst:\n",
    "    data[item] = data['Cuisine Style'].apply(find_item)"
   ]
  },
  {
   "cell_type": "markdown",
   "metadata": {},
   "source": [
    "### Ranking"
   ]
  },
  {
   "cell_type": "code",
   "execution_count": 34,
   "metadata": {
    "execution": {
     "iopub.execute_input": "2021-08-09T16:14:11.456964Z",
     "iopub.status.busy": "2021-08-09T16:14:11.456422Z",
     "iopub.status.idle": "2021-08-09T16:14:11.795550Z",
     "shell.execute_reply": "2021-08-09T16:14:11.794573Z",
     "shell.execute_reply.started": "2021-08-09T16:14:11.456750Z"
    }
   },
   "outputs": [
    {
     "data": {
      "image/png": "[encoded data removed]",
      "text/plain": [
       "<Figure size 720x360 with 1 Axes>"
      ]
     },
     "metadata": {},
     "output_type": "display_data"
    }
   ],
   "source": [
    "plt.rcParams['figure.figsize'] = (10,5)\n",
    "data['Ranking'].hist(bins=100);"
   ]
  },
  {
   "cell_type": "markdown",
   "metadata": {},
   "source": [
    "Посмотрим на топ 10 городов"
   ]
  },
  {
   "cell_type": "code",
   "execution_count": 35,
   "metadata": {
    "execution": {
     "iopub.execute_input": "2021-08-09T16:14:11.797419Z",
     "iopub.status.busy": "2021-08-09T16:14:11.797057Z",
     "iopub.status.idle": "2021-08-09T16:14:12.675148Z",
     "shell.execute_reply": "2021-08-09T16:14:12.673864Z",
     "shell.execute_reply.started": "2021-08-09T16:14:11.797362Z"
    }
   },
   "outputs": [
    {
     "data": {
      "image/png": "[encoded data removed]",
      "text/plain": [
       "<Figure size 720x360 with 1 Axes>"
      ]
     },
     "metadata": {},
     "output_type": "display_data"
    }
   ],
   "source": [
    "for x in (data['City'].value_counts())[0:10].index:\n",
    "    data['Ranking'][data['City'] == x].hist(bins=35)"
   ]
  },
  {
   "cell_type": "markdown",
   "metadata": {},
   "source": [
    "Получается, что Ranking имеет нормальное распределение, просто в больших городах больше ресторанов, из-за этого мы имеем смещение. Разделим Ranking на количество ресторанов в городе."
   ]
  },
  {
   "cell_type": "code",
   "execution_count": 36,
   "metadata": {
    "execution": {
     "iopub.execute_input": "2021-08-09T16:14:12.677537Z",
     "iopub.status.busy": "2021-08-09T16:14:12.676959Z",
     "iopub.status.idle": "2021-08-09T16:14:12.703836Z",
     "shell.execute_reply": "2021-08-09T16:14:12.702654Z",
     "shell.execute_reply.started": "2021-08-09T16:14:12.677314Z"
    }
   },
   "outputs": [],
   "source": [
    "data['ranking_norm'] = data.Ranking / data.rest_counts"
   ]
  },
  {
   "cell_type": "code",
   "execution_count": 37,
   "metadata": {
    "execution": {
     "iopub.execute_input": "2021-08-09T16:14:12.705719Z",
     "iopub.status.busy": "2021-08-09T16:14:12.705243Z",
     "iopub.status.idle": "2021-08-09T16:14:13.673273Z",
     "shell.execute_reply": "2021-08-09T16:14:13.672060Z",
     "shell.execute_reply.started": "2021-08-09T16:14:12.705673Z"
    }
   },
   "outputs": [
    {
     "data": {
      "image/png": "[encoded data removed]",
      "text/plain": [
       "<Figure size 720x360 with 1 Axes>"
      ]
     },
     "metadata": {},
     "output_type": "display_data"
    }
   ],
   "source": [
    "for x in (data['City'].value_counts())[0:10].index:\n",
    "    data['ranking_norm'][data['City'] == x].hist(bins=35)"
   ]
  },
  {
   "cell_type": "markdown",
   "metadata": {},
   "source": [
    "### Price Range\n",
    "\n",
    "Заменим пропуски и изменим значения от 1 до 3. Создадим признак отсутствия информации."
   ]
  },
  {
   "cell_type": "code",
   "execution_count": 38,
   "metadata": {
    "execution": {
     "iopub.execute_input": "2021-08-09T16:14:13.675542Z",
     "iopub.status.busy": "2021-08-09T16:14:13.675165Z",
     "iopub.status.idle": "2021-08-09T16:14:13.688887Z",
     "shell.execute_reply": "2021-08-09T16:14:13.687890Z",
     "shell.execute_reply.started": "2021-08-09T16:14:13.675472Z"
    }
   },
   "outputs": [
    {
     "data": {
      "text/plain": [
       "$$ - $$$    23041\n",
       "NaN         17361\n",
       "$            7816\n",
       "$$$$         1782\n",
       "Name: Price Range, dtype: int64"
      ]
     },
     "execution_count": 38,
     "metadata": {},
     "output_type": "execute_result"
    }
   ],
   "source": [
    "data['Price Range'].value_counts(dropna=False)"
   ]
  },
  {
   "cell_type": "code",
   "execution_count": 39,
   "metadata": {
    "execution": {
     "iopub.execute_input": "2021-08-09T16:14:13.690674Z",
     "iopub.status.busy": "2021-08-09T16:14:13.690291Z",
     "iopub.status.idle": "2021-08-09T16:14:13.703046Z",
     "shell.execute_reply": "2021-08-09T16:14:13.702083Z",
     "shell.execute_reply.started": "2021-08-09T16:14:13.690516Z"
    }
   },
   "outputs": [],
   "source": [
    "data['Price Range_NAN'] = data['Price Range'].isna().astype('uint8')"
   ]
  },
  {
   "cell_type": "code",
   "execution_count": 40,
   "metadata": {
    "execution": {
     "iopub.execute_input": "2021-08-09T16:14:13.704639Z",
     "iopub.status.busy": "2021-08-09T16:14:13.704371Z",
     "iopub.status.idle": "2021-08-09T16:14:14.017502Z",
     "shell.execute_reply": "2021-08-09T16:14:14.016419Z",
     "shell.execute_reply.started": "2021-08-09T16:14:13.704597Z"
    }
   },
   "outputs": [
    {
     "name": "stdout",
     "output_type": "stream",
     "text": [
      "Paris $$ - $$$\n",
      "Helsinki $$ - $$$\n",
      "Edinburgh $$ - $$$\n",
      "London $$ - $$$\n",
      "Bratislava $$ - $$$\n",
      "Lisbon $$ - $$$\n",
      "Budapest $$ - $$$\n",
      "Stockholm $$ - $$$\n",
      "Rome $$ - $$$\n",
      "Milan $$ - $$$\n",
      "Munich $$ - $$$\n",
      "Hamburg $$ - $$$\n",
      "Prague $$ - $$$\n",
      "Vienna $$ - $$$\n",
      "Dublin $$ - $$$\n",
      "Barcelona $$ - $$$\n",
      "Brussels $$ - $$$\n",
      "Madrid $$ - $$$\n",
      "Oslo $$ - $$$\n",
      "Amsterdam $$ - $$$\n",
      "Berlin $$ - $$$\n",
      "Lyon $$ - $$$\n",
      "Athens $$ - $$$\n",
      "Warsaw $$ - $$$\n",
      "Oporto $$ - $$$\n",
      "Krakow $$ - $$$\n",
      "Copenhagen $$ - $$$\n",
      "Luxembourg $$ - $$$\n",
      "Zurich $$ - $$$\n",
      "Geneva $$ - $$$\n",
      "Ljubljana $$ - $$$\n"
     ]
    }
   ],
   "source": [
    "city_lst = data.City.unique()\n",
    "for city in city_lst:\n",
    "    print(city,  data[data['City'] == city]['Price Range'].mode()[0])"
   ]
  },
  {
   "cell_type": "markdown",
   "metadata": {},
   "source": [
    "Мода цен в ресторанах по городам одинаковая."
   ]
  },
  {
   "cell_type": "code",
   "execution_count": 41,
   "metadata": {
    "execution": {
     "iopub.execute_input": "2021-08-09T16:14:14.019100Z",
     "iopub.status.busy": "2021-08-09T16:14:14.018855Z",
     "iopub.status.idle": "2021-08-09T16:14:14.030755Z",
     "shell.execute_reply": "2021-08-09T16:14:14.029786Z",
     "shell.execute_reply.started": "2021-08-09T16:14:14.019059Z"
    }
   },
   "outputs": [],
   "source": [
    "data['Price Range'].fillna(data['Price Range'].mode()[0], inplace=True)"
   ]
  },
  {
   "cell_type": "code",
   "execution_count": 42,
   "metadata": {
    "execution": {
     "iopub.execute_input": "2021-08-09T16:14:14.037965Z",
     "iopub.status.busy": "2021-08-09T16:14:14.037481Z",
     "iopub.status.idle": "2021-08-09T16:14:14.043341Z",
     "shell.execute_reply": "2021-08-09T16:14:14.042231Z",
     "shell.execute_reply.started": "2021-08-09T16:14:14.037735Z"
    }
   },
   "outputs": [],
   "source": [
    "price_dict = {'$': 1,\n",
    "              '$$ - $$$': 2,\n",
    "              '$$$$': 3}"
   ]
  },
  {
   "cell_type": "code",
   "execution_count": 43,
   "metadata": {
    "execution": {
     "iopub.execute_input": "2021-08-09T16:14:14.046153Z",
     "iopub.status.busy": "2021-08-09T16:14:14.045726Z",
     "iopub.status.idle": "2021-08-09T16:14:14.066216Z",
     "shell.execute_reply": "2021-08-09T16:14:14.064741Z",
     "shell.execute_reply.started": "2021-08-09T16:14:14.046066Z"
    }
   },
   "outputs": [],
   "source": [
    "data['Price Range'] = data['Price Range'].map(price_dict)"
   ]
  },
  {
   "cell_type": "code",
   "execution_count": 44,
   "metadata": {
    "execution": {
     "iopub.execute_input": "2021-08-09T16:14:14.068403Z",
     "iopub.status.busy": "2021-08-09T16:14:14.067762Z",
     "iopub.status.idle": "2021-08-09T16:14:14.281546Z",
     "shell.execute_reply": "2021-08-09T16:14:14.280832Z",
     "shell.execute_reply.started": "2021-08-09T16:14:14.068104Z"
    }
   },
   "outputs": [
    {
     "data": {
      "image/png": "[encoded data removed]",
      "text/plain": [
       "<Figure size 720x360 with 1 Axes>"
      ]
     },
     "metadata": {},
     "output_type": "display_data"
    }
   ],
   "source": [
    "sns.boxplot(x='Price Range', y='Rating', data=data);"
   ]
  },
  {
   "cell_type": "markdown",
   "metadata": {},
   "source": [
    "Самые дорогие рестораны реже получают низкие оценки."
   ]
  },
  {
   "cell_type": "markdown",
   "metadata": {},
   "source": [
    "### Reviews"
   ]
  },
  {
   "cell_type": "code",
   "execution_count": 45,
   "metadata": {
    "execution": {
     "iopub.execute_input": "2021-08-09T16:14:14.283465Z",
     "iopub.status.busy": "2021-08-09T16:14:14.282914Z",
     "iopub.status.idle": "2021-08-09T16:14:14.290817Z",
     "shell.execute_reply": "2021-08-09T16:14:14.289562Z",
     "shell.execute_reply.started": "2021-08-09T16:14:14.283403Z"
    }
   },
   "outputs": [
    {
     "data": {
      "text/plain": [
       "\"[['Very good reviews!', 'Fine dining in Hakaniemi'], ['12/05/2017', '10/29/2017']]\""
      ]
     },
     "execution_count": 45,
     "metadata": {},
     "output_type": "execute_result"
    }
   ],
   "source": [
    "data.Reviews[1]"
   ]
  },
  {
   "cell_type": "markdown",
   "metadata": {},
   "source": [
    "Значения признака представлены в виде строки, но есть четкая структура списков."
   ]
  },
  {
   "cell_type": "code",
   "execution_count": 46,
   "metadata": {
    "execution": {
     "iopub.execute_input": "2021-08-09T16:14:14.293174Z",
     "iopub.status.busy": "2021-08-09T16:14:14.292621Z",
     "iopub.status.idle": "2021-08-09T16:14:15.003660Z",
     "shell.execute_reply": "2021-08-09T16:14:15.002190Z",
     "shell.execute_reply.started": "2021-08-09T16:14:14.292964Z"
    }
   },
   "outputs": [],
   "source": [
    "data['Reviews'] = data.Reviews.dropna().apply(\n",
    "    lambda x: eval(x.replace('nan', '').replace('[,', \"['',\")))"
   ]
  },
  {
   "cell_type": "code",
   "execution_count": 47,
   "metadata": {
    "execution": {
     "iopub.execute_input": "2021-08-09T16:14:15.006016Z",
     "iopub.status.busy": "2021-08-09T16:14:15.005466Z",
     "iopub.status.idle": "2021-08-09T16:14:15.048601Z",
     "shell.execute_reply": "2021-08-09T16:14:15.047791Z",
     "shell.execute_reply.started": "2021-08-09T16:14:15.005794Z"
    }
   },
   "outputs": [],
   "source": [
    "data['Reviews'] = data['Reviews'].dropna().apply(\n",
    "    lambda x: np.nan if len(x[0]) == 0 & len(x[1]) == 0 else x)"
   ]
  },
  {
   "cell_type": "markdown",
   "metadata": {},
   "source": [
    "Создадим новые признаки, reviews, date_1, date_2"
   ]
  },
  {
   "cell_type": "code",
   "execution_count": 48,
   "metadata": {
    "execution": {
     "iopub.execute_input": "2021-08-09T16:14:15.050069Z",
     "iopub.status.busy": "2021-08-09T16:14:15.049685Z",
     "iopub.status.idle": "2021-08-09T16:14:15.130528Z",
     "shell.execute_reply": "2021-08-09T16:14:15.129821Z",
     "shell.execute_reply.started": "2021-08-09T16:14:15.050029Z"
    }
   },
   "outputs": [],
   "source": [
    "data['date'] = data['Reviews'].dropna().apply(lambda x: x[1])\n",
    "data['date_1'] = data['date'].dropna().apply(lambda x: x[1] if len(x) == 2 else np.nan)\n",
    "data['date_2'] = data['date'].dropna().apply(lambda x: x[0] if len(x) > 0 else np.nan)"
   ]
  },
  {
   "cell_type": "code",
   "execution_count": 49,
   "metadata": {
    "execution": {
     "iopub.execute_input": "2021-08-09T16:14:15.131930Z",
     "iopub.status.busy": "2021-08-09T16:14:15.131555Z",
     "iopub.status.idle": "2021-08-09T16:14:15.219699Z",
     "shell.execute_reply": "2021-08-09T16:14:15.218619Z",
     "shell.execute_reply.started": "2021-08-09T16:14:15.131890Z"
    }
   },
   "outputs": [],
   "source": [
    "data.drop('date', axis=1, inplace=True)"
   ]
  },
  {
   "cell_type": "markdown",
   "metadata": {},
   "source": [
    "Заменим пропуски в date_1 и date_2 на min и max дату соответственно. Максимальная разница количества дней  между коментариями будет говорит о том, что отзывы практически не оставляют"
   ]
  },
  {
   "cell_type": "code",
   "execution_count": 50,
   "metadata": {
    "execution": {
     "iopub.execute_input": "2021-08-09T16:14:15.221246Z",
     "iopub.status.busy": "2021-08-09T16:14:15.220978Z",
     "iopub.status.idle": "2021-08-09T16:14:15.285919Z",
     "shell.execute_reply": "2021-08-09T16:14:15.284799Z",
     "shell.execute_reply.started": "2021-08-09T16:14:15.221201Z"
    }
   },
   "outputs": [],
   "source": [
    "data['date_1'] = pd.to_datetime(data['date_1'])\n",
    "data['date_2'] = pd.to_datetime(data['date_2'])"
   ]
  },
  {
   "cell_type": "code",
   "execution_count": 51,
   "metadata": {
    "execution": {
     "iopub.execute_input": "2021-08-09T16:14:15.287436Z",
     "iopub.status.busy": "2021-08-09T16:14:15.287177Z",
     "iopub.status.idle": "2021-08-09T16:14:15.300751Z",
     "shell.execute_reply": "2021-08-09T16:14:15.299250Z",
     "shell.execute_reply.started": "2021-08-09T16:14:15.287391Z"
    }
   },
   "outputs": [],
   "source": [
    "data['date_1'].fillna(data['date_1'].min(), inplace=True)\n",
    "data['date_2'].fillna(data['date_2'].max(), inplace=True)"
   ]
  },
  {
   "cell_type": "markdown",
   "metadata": {},
   "source": [
    "Создадим признак разницы дней между последними двумя отзывами."
   ]
  },
  {
   "cell_type": "code",
   "execution_count": 52,
   "metadata": {
    "execution": {
     "iopub.execute_input": "2021-08-09T16:14:15.303023Z",
     "iopub.status.busy": "2021-08-09T16:14:15.302708Z",
     "iopub.status.idle": "2021-08-09T16:14:15.313056Z",
     "shell.execute_reply": "2021-08-09T16:14:15.312206Z",
     "shell.execute_reply.started": "2021-08-09T16:14:15.302963Z"
    }
   },
   "outputs": [],
   "source": [
    "data['rewiew_days'] = abs(data['date_2'] - data['date_1']).dt.days"
   ]
  },
  {
   "cell_type": "code",
   "execution_count": 53,
   "metadata": {
    "execution": {
     "iopub.execute_input": "2021-08-09T16:14:15.314967Z",
     "iopub.status.busy": "2021-08-09T16:14:15.314514Z",
     "iopub.status.idle": "2021-08-09T16:14:15.717587Z",
     "shell.execute_reply": "2021-08-09T16:14:15.716636Z",
     "shell.execute_reply.started": "2021-08-09T16:14:15.314908Z"
    }
   },
   "outputs": [
    {
     "data": {
      "image/png": "[encoded data removed]",
      "text/plain": [
       "<Figure size 720x360 with 1 Axes>"
      ]
     },
     "metadata": {},
     "output_type": "display_data"
    }
   ],
   "source": [
    "plt.figure(figsize=(10,5))\n",
    "data['rewiew_days'].hist(bins=75);"
   ]
  },
  {
   "cell_type": "code",
   "execution_count": 54,
   "metadata": {
    "execution": {
     "iopub.execute_input": "2021-08-09T16:14:15.719771Z",
     "iopub.status.busy": "2021-08-09T16:14:15.719412Z",
     "iopub.status.idle": "2021-08-09T16:14:15.736019Z",
     "shell.execute_reply": "2021-08-09T16:14:15.734787Z",
     "shell.execute_reply.started": "2021-08-09T16:14:15.719704Z"
    }
   },
   "outputs": [
    {
     "data": {
      "text/plain": [
       "0        1260\n",
       "1        1343\n",
       "2        1320\n",
       "3        1342\n",
       "4        1278\n",
       "         ... \n",
       "49995    1332\n",
       "49996    1327\n",
       "49997    1740\n",
       "49998    1490\n",
       "49999    2017\n",
       "Name: days_to_today, Length: 50000, dtype: int64"
      ]
     },
     "execution_count": 54,
     "metadata": {},
     "output_type": "execute_result"
    }
   ],
   "source": [
    "data['days_to_today'] = (datetime.now() - data['date_2']).dt.days\n",
    "data['days_to_today']"
   ]
  },
  {
   "cell_type": "markdown",
   "metadata": {},
   "source": [
    "Обработаем отзывы. Создадим признак количества последних коментариев (0-2)"
   ]
  },
  {
   "cell_type": "code",
   "execution_count": 55,
   "metadata": {
    "execution": {
     "iopub.execute_input": "2021-08-09T16:14:15.738250Z",
     "iopub.status.busy": "2021-08-09T16:14:15.737666Z",
     "iopub.status.idle": "2021-08-09T16:14:15.777470Z",
     "shell.execute_reply": "2021-08-09T16:14:15.776596Z",
     "shell.execute_reply.started": "2021-08-09T16:14:15.738033Z"
    }
   },
   "outputs": [],
   "source": [
    "data['Reviews'] = data['Reviews'].dropna().apply(lambda x: x[0])"
   ]
  },
  {
   "cell_type": "code",
   "execution_count": 56,
   "metadata": {
    "execution": {
     "iopub.execute_input": "2021-08-09T16:14:15.779211Z",
     "iopub.status.busy": "2021-08-09T16:14:15.778851Z",
     "iopub.status.idle": "2021-08-09T16:14:15.816026Z",
     "shell.execute_reply": "2021-08-09T16:14:15.815298Z",
     "shell.execute_reply.started": "2021-08-09T16:14:15.779150Z"
    }
   },
   "outputs": [],
   "source": [
    "data['last_rewiew_counts'] = data['Reviews'].dropna().apply(\n",
    "    lambda x: 2 if len(x) == 2 else 1 if len(x) == 1 else 0)"
   ]
  },
  {
   "cell_type": "code",
   "execution_count": 57,
   "metadata": {
    "execution": {
     "iopub.execute_input": "2021-08-09T16:14:15.817565Z",
     "iopub.status.busy": "2021-08-09T16:14:15.817131Z",
     "iopub.status.idle": "2021-08-09T16:14:15.821963Z",
     "shell.execute_reply": "2021-08-09T16:14:15.821270Z",
     "shell.execute_reply.started": "2021-08-09T16:14:15.817504Z"
    }
   },
   "outputs": [],
   "source": [
    "data.last_rewiew_counts.fillna(0, inplace=True)"
   ]
  },
  {
   "cell_type": "code",
   "execution_count": 58,
   "metadata": {
    "execution": {
     "iopub.execute_input": "2021-08-09T16:14:15.823520Z",
     "iopub.status.busy": "2021-08-09T16:14:15.823033Z",
     "iopub.status.idle": "2021-08-09T16:14:15.836623Z",
     "shell.execute_reply": "2021-08-09T16:14:15.835295Z",
     "shell.execute_reply.started": "2021-08-09T16:14:15.823472Z"
    }
   },
   "outputs": [],
   "source": [
    "def len_rewiews(cell):\n",
    "    x = 0\n",
    "    for i in cell:\n",
    "        x += len(i)\n",
    "    return x"
   ]
  },
  {
   "cell_type": "code",
   "execution_count": 59,
   "metadata": {
    "execution": {
     "iopub.execute_input": "2021-08-09T16:14:15.838742Z",
     "iopub.status.busy": "2021-08-09T16:14:15.838319Z",
     "iopub.status.idle": "2021-08-09T16:14:15.888703Z",
     "shell.execute_reply": "2021-08-09T16:14:15.887528Z",
     "shell.execute_reply.started": "2021-08-09T16:14:15.838677Z"
    }
   },
   "outputs": [],
   "source": [
    "data['len_rewiews'] = data['Reviews'].dropna().apply(len_rewiews)\n",
    "data['len_rewiews'].fillna(0, inplace=True)"
   ]
  },
  {
   "cell_type": "markdown",
   "metadata": {},
   "source": [
    "### Number of Reviews"
   ]
  },
  {
   "cell_type": "markdown",
   "metadata": {},
   "source": [
    "Посмотрим пропуски в колонке Number of Reviews"
   ]
  },
  {
   "cell_type": "code",
   "execution_count": 60,
   "metadata": {
    "execution": {
     "iopub.execute_input": "2021-08-09T16:14:15.890606Z",
     "iopub.status.busy": "2021-08-09T16:14:15.890318Z",
     "iopub.status.idle": "2021-08-09T16:14:15.956103Z",
     "shell.execute_reply": "2021-08-09T16:14:15.954134Z",
     "shell.execute_reply.started": "2021-08-09T16:14:15.890547Z"
    }
   },
   "outputs": [
    {
     "data": {
      "text/html": [
       "<div>\n",
       "<style scoped>\n",
       "    .dataframe tbody tr th:only-of-type {\n",
       "        vertical-align: middle;\n",
       "    }\n",
       "\n",
       "    .dataframe tbody tr th {\n",
       "        vertical-align: top;\n",
       "    }\n",
       "\n",
       "    .dataframe thead th {\n",
       "        text-align: right;\n",
       "    }\n",
       "</style>\n",
       "<table border=\"1\" class=\"dataframe\">\n",
       "  <thead>\n",
       "    <tr style=\"text-align: right;\">\n",
       "      <th></th>\n",
       "      <th>Number of Reviews</th>\n",
       "      <th>last_rewiew_counts</th>\n",
       "    </tr>\n",
       "  </thead>\n",
       "  <tbody>\n",
       "    <tr>\n",
       "      <th>7</th>\n",
       "      <td>NaN</td>\n",
       "      <td>0.0</td>\n",
       "    </tr>\n",
       "    <tr>\n",
       "      <th>25</th>\n",
       "      <td>NaN</td>\n",
       "      <td>0.0</td>\n",
       "    </tr>\n",
       "    <tr>\n",
       "      <th>53</th>\n",
       "      <td>NaN</td>\n",
       "      <td>0.0</td>\n",
       "    </tr>\n",
       "    <tr>\n",
       "      <th>74</th>\n",
       "      <td>NaN</td>\n",
       "      <td>1.0</td>\n",
       "    </tr>\n",
       "    <tr>\n",
       "      <th>81</th>\n",
       "      <td>NaN</td>\n",
       "      <td>0.0</td>\n",
       "    </tr>\n",
       "  </tbody>\n",
       "</table>\n",
       "</div>"
      ],
      "text/plain": [
       "    Number of Reviews  last_rewiew_counts\n",
       "7                 NaN                 0.0\n",
       "25                NaN                 0.0\n",
       "53                NaN                 0.0\n",
       "74                NaN                 1.0\n",
       "81                NaN                 0.0"
      ]
     },
     "execution_count": 60,
     "metadata": {},
     "output_type": "execute_result"
    }
   ],
   "source": [
    "data[data['Number of Reviews'].isna()][['Number of Reviews', 'last_rewiew_counts']].head()"
   ]
  },
  {
   "cell_type": "code",
   "execution_count": 61,
   "metadata": {
    "execution": {
     "iopub.execute_input": "2021-08-09T16:14:15.958295Z",
     "iopub.status.busy": "2021-08-09T16:14:15.957843Z",
     "iopub.status.idle": "2021-08-09T16:14:15.966649Z",
     "shell.execute_reply": "2021-08-09T16:14:15.965506Z",
     "shell.execute_reply.started": "2021-08-09T16:14:15.958191Z"
    }
   },
   "outputs": [
    {
     "data": {
      "text/plain": [
       "3200"
      ]
     },
     "execution_count": 61,
     "metadata": {},
     "output_type": "execute_result"
    }
   ],
   "source": [
    "data['Number of Reviews'].isna().sum()"
   ]
  },
  {
   "cell_type": "code",
   "execution_count": 62,
   "metadata": {
    "execution": {
     "iopub.execute_input": "2021-08-09T16:14:15.969141Z",
     "iopub.status.busy": "2021-08-09T16:14:15.968644Z",
     "iopub.status.idle": "2021-08-09T16:14:15.988212Z",
     "shell.execute_reply": "2021-08-09T16:14:15.987027Z",
     "shell.execute_reply.started": "2021-08-09T16:14:15.969040Z"
    }
   },
   "outputs": [],
   "source": [
    "data.loc[(data['last_rewiew_counts'] == 0) & (\n",
    "    data['Number of Reviews'].isna()), 'Number of Reviews'] = 0\n",
    "data.loc[(data['last_rewiew_counts'] == 1) & (\n",
    "    data['Number of Reviews'].isna()), 'Number of Reviews'] = 1"
   ]
  },
  {
   "cell_type": "code",
   "execution_count": 63,
   "metadata": {
    "execution": {
     "iopub.execute_input": "2021-08-09T16:14:15.989877Z",
     "iopub.status.busy": "2021-08-09T16:14:15.989527Z",
     "iopub.status.idle": "2021-08-09T16:14:15.995916Z",
     "shell.execute_reply": "2021-08-09T16:14:15.995267Z",
     "shell.execute_reply.started": "2021-08-09T16:14:15.989819Z"
    }
   },
   "outputs": [
    {
     "data": {
      "text/plain": [
       "0"
      ]
     },
     "execution_count": 63,
     "metadata": {},
     "output_type": "execute_result"
    }
   ],
   "source": [
    "data['Number of Reviews'].isna().sum()"
   ]
  },
  {
   "cell_type": "code",
   "execution_count": 64,
   "metadata": {
    "execution": {
     "iopub.execute_input": "2021-08-09T16:14:15.997456Z",
     "iopub.status.busy": "2021-08-09T16:14:15.997075Z",
     "iopub.status.idle": "2021-08-09T16:14:16.031771Z",
     "shell.execute_reply": "2021-08-09T16:14:16.030959Z",
     "shell.execute_reply.started": "2021-08-09T16:14:15.997418Z"
    }
   },
   "outputs": [
    {
     "data": {
      "text/html": [
       "<div>\n",
       "<style scoped>\n",
       "    .dataframe tbody tr th:only-of-type {\n",
       "        vertical-align: middle;\n",
       "    }\n",
       "\n",
       "    .dataframe tbody tr th {\n",
       "        vertical-align: top;\n",
       "    }\n",
       "\n",
       "    .dataframe thead th {\n",
       "        text-align: right;\n",
       "    }\n",
       "</style>\n",
       "<table border=\"1\" class=\"dataframe\">\n",
       "  <thead>\n",
       "    <tr style=\"text-align: right;\">\n",
       "      <th></th>\n",
       "      <th>Number of Reviews</th>\n",
       "      <th>last_rewiew_counts</th>\n",
       "    </tr>\n",
       "  </thead>\n",
       "  <tbody>\n",
       "    <tr>\n",
       "      <th>0</th>\n",
       "      <td>4.0</td>\n",
       "      <td>0.0</td>\n",
       "    </tr>\n",
       "    <tr>\n",
       "      <th>6</th>\n",
       "      <td>2.0</td>\n",
       "      <td>0.0</td>\n",
       "    </tr>\n",
       "    <tr>\n",
       "      <th>7</th>\n",
       "      <td>0.0</td>\n",
       "      <td>0.0</td>\n",
       "    </tr>\n",
       "    <tr>\n",
       "      <th>18</th>\n",
       "      <td>2.0</td>\n",
       "      <td>0.0</td>\n",
       "    </tr>\n",
       "    <tr>\n",
       "      <th>20</th>\n",
       "      <td>8.0</td>\n",
       "      <td>0.0</td>\n",
       "    </tr>\n",
       "  </tbody>\n",
       "</table>\n",
       "</div>"
      ],
      "text/plain": [
       "    Number of Reviews  last_rewiew_counts\n",
       "0                 4.0                 0.0\n",
       "6                 2.0                 0.0\n",
       "7                 0.0                 0.0\n",
       "18                2.0                 0.0\n",
       "20                8.0                 0.0"
      ]
     },
     "execution_count": 64,
     "metadata": {},
     "output_type": "execute_result"
    }
   ],
   "source": [
    "data[data['last_rewiew_counts'] ==0][['Number of Reviews', 'last_rewiew_counts']].head()"
   ]
  },
  {
   "cell_type": "markdown",
   "metadata": {},
   "source": [
    "У нас есть значения последних отзывов равные 0, хотя общее количество отзывов > 0. Это значит, что отзывы оставляли пустые.\n",
    "\n",
    "Создадим словарь количество отзывов по городам и подставим в датасет"
   ]
  },
  {
   "cell_type": "code",
   "execution_count": 65,
   "metadata": {
    "execution": {
     "iopub.execute_input": "2021-08-09T16:14:16.033510Z",
     "iopub.status.busy": "2021-08-09T16:14:16.033226Z",
     "iopub.status.idle": "2021-08-09T16:14:16.347804Z",
     "shell.execute_reply": "2021-08-09T16:14:16.346480Z",
     "shell.execute_reply.started": "2021-08-09T16:14:16.033460Z"
    }
   },
   "outputs": [
    {
     "data": {
      "image/png": "[encoded data removed]",
      "text/plain": [
       "<Figure size 720x360 with 1 Axes>"
      ]
     },
     "metadata": {},
     "output_type": "display_data"
    }
   ],
   "source": [
    "data.groupby('City')['Number of Reviews'].sum().sort_values(ascending=False).plot(kind='bar');"
   ]
  },
  {
   "cell_type": "code",
   "execution_count": 66,
   "metadata": {
    "execution": {
     "iopub.execute_input": "2021-08-09T16:14:16.350337Z",
     "iopub.status.busy": "2021-08-09T16:14:16.349691Z",
     "iopub.status.idle": "2021-08-09T16:14:16.361816Z",
     "shell.execute_reply": "2021-08-09T16:14:16.360941Z",
     "shell.execute_reply.started": "2021-08-09T16:14:16.350081Z"
    }
   },
   "outputs": [],
   "source": [
    "rewiews_city_dict = dict(data.groupby('City')['Number of Reviews'].sum())"
   ]
  },
  {
   "cell_type": "code",
   "execution_count": 67,
   "metadata": {
    "execution": {
     "iopub.execute_input": "2021-08-09T16:14:16.364383Z",
     "iopub.status.busy": "2021-08-09T16:14:16.363653Z",
     "iopub.status.idle": "2021-08-09T16:14:16.378097Z",
     "shell.execute_reply": "2021-08-09T16:14:16.376722Z",
     "shell.execute_reply.started": "2021-08-09T16:14:16.364318Z"
    }
   },
   "outputs": [],
   "source": [
    "data['num_rewiews_city'] = data.City.map(rewiews_city_dict)"
   ]
  },
  {
   "cell_type": "markdown",
   "metadata": {},
   "source": [
    "Создадим признак отношения рейтинга в городе к количеству отзывов в городе."
   ]
  },
  {
   "cell_type": "code",
   "execution_count": 68,
   "metadata": {
    "execution": {
     "iopub.execute_input": "2021-08-09T16:14:16.380656Z",
     "iopub.status.busy": "2021-08-09T16:14:16.380108Z",
     "iopub.status.idle": "2021-08-09T16:14:16.392669Z",
     "shell.execute_reply": "2021-08-09T16:14:16.391334Z",
     "shell.execute_reply.started": "2021-08-09T16:14:16.380522Z"
    }
   },
   "outputs": [],
   "source": [
    "data['relative_rank_reviews'] = data['Ranking'] / data['num_rewiews_city']"
   ]
  },
  {
   "cell_type": "markdown",
   "metadata": {},
   "source": [
    "### URL_TA "
   ]
  },
  {
   "cell_type": "code",
   "execution_count": 69,
   "metadata": {
    "execution": {
     "iopub.execute_input": "2021-08-09T16:14:16.395546Z",
     "iopub.status.busy": "2021-08-09T16:14:16.394894Z",
     "iopub.status.idle": "2021-08-09T16:14:16.403816Z",
     "shell.execute_reply": "2021-08-09T16:14:16.402503Z",
     "shell.execute_reply.started": "2021-08-09T16:14:16.395348Z"
    }
   },
   "outputs": [
    {
     "data": {
      "text/plain": [
       "'/Restaurant_Review-g187147-d10746918-Reviews-Le_Perchoir-Paris_Ile_de_France.html'"
      ]
     },
     "execution_count": 69,
     "metadata": {},
     "output_type": "execute_result"
    }
   ],
   "source": [
    "data['URL_TA'][0]"
   ]
  },
  {
   "cell_type": "code",
   "execution_count": 70,
   "metadata": {
    "execution": {
     "iopub.execute_input": "2021-08-09T16:14:16.406428Z",
     "iopub.status.busy": "2021-08-09T16:14:16.405811Z",
     "iopub.status.idle": "2021-08-09T16:14:16.443054Z",
     "shell.execute_reply": "2021-08-09T16:14:16.442038Z",
     "shell.execute_reply.started": "2021-08-09T16:14:16.406178Z"
    }
   },
   "outputs": [],
   "source": [
    "data.drop(['URL_TA'], axis=1, inplace=True)"
   ]
  },
  {
   "cell_type": "markdown",
   "metadata": {},
   "source": [
    "### ID_TA"
   ]
  },
  {
   "cell_type": "code",
   "execution_count": 71,
   "metadata": {
    "execution": {
     "iopub.execute_input": "2021-08-09T16:14:16.445377Z",
     "iopub.status.busy": "2021-08-09T16:14:16.444696Z",
     "iopub.status.idle": "2021-08-09T16:14:16.489686Z",
     "shell.execute_reply": "2021-08-09T16:14:16.488909Z",
     "shell.execute_reply.started": "2021-08-09T16:14:16.445264Z"
    }
   },
   "outputs": [],
   "source": [
    "data['ID_TA'] = data['ID_TA'].apply(lambda x: int(x[1:]))"
   ]
  },
  {
   "cell_type": "markdown",
   "metadata": {},
   "source": [
    "### Dummy"
   ]
  },
  {
   "cell_type": "code",
   "execution_count": 72,
   "metadata": {
    "execution": {
     "iopub.execute_input": "2021-08-09T16:14:34.535828Z",
     "iopub.status.busy": "2021-08-09T16:14:34.535457Z",
     "iopub.status.idle": "2021-08-09T16:14:34.639481Z",
     "shell.execute_reply": "2021-08-09T16:14:34.638329Z",
     "shell.execute_reply.started": "2021-08-09T16:14:34.535764Z"
    }
   },
   "outputs": [],
   "source": [
    "data = pd.get_dummies(data, columns=['City'])"
   ]
  },
  {
   "cell_type": "markdown",
   "metadata": {},
   "source": [
    "### Удалим все нечисловые признаки и признаки, которые ухудшали модель."
   ]
  },
  {
   "cell_type": "code",
   "execution_count": 73,
   "metadata": {
    "execution": {
     "iopub.execute_input": "2021-08-09T16:15:52.234771Z",
     "iopub.status.busy": "2021-08-09T16:15:52.234409Z",
     "iopub.status.idle": "2021-08-09T16:15:52.366749Z",
     "shell.execute_reply": "2021-08-09T16:15:52.365695Z",
     "shell.execute_reply.started": "2021-08-09T16:15:52.234714Z"
    }
   },
   "outputs": [],
   "source": [
    "data = data.select_dtypes(exclude='O').drop(['date_1', 'date_2',\n",
    "                                             'len_rewiews',\n",
    "                                             'Ranking',\n",
    "                                             'chain','last_rewiew_counts'], axis=1)"
   ]
  },
  {
   "cell_type": "code",
   "execution_count": 74,
   "metadata": {
    "execution": {
     "iopub.execute_input": "2021-08-09T16:16:04.331936Z",
     "iopub.status.busy": "2021-08-09T16:16:04.331469Z",
     "iopub.status.idle": "2021-08-09T16:16:04.355647Z",
     "shell.execute_reply": "2021-08-09T16:16:04.354627Z",
     "shell.execute_reply.started": "2021-08-09T16:16:04.331890Z"
    }
   },
   "outputs": [
    {
     "data": {
      "text/html": [
       "<div>\n",
       "<style scoped>\n",
       "    .dataframe tbody tr th:only-of-type {\n",
       "        vertical-align: middle;\n",
       "    }\n",
       "\n",
       "    .dataframe tbody tr th {\n",
       "        vertical-align: top;\n",
       "    }\n",
       "\n",
       "    .dataframe thead th {\n",
       "        text-align: right;\n",
       "    }\n",
       "</style>\n",
       "<table border=\"1\" class=\"dataframe\">\n",
       "  <thead>\n",
       "    <tr style=\"text-align: right;\">\n",
       "      <th></th>\n",
       "      <th>Price Range</th>\n",
       "      <th>Number of Reviews</th>\n",
       "      <th>ID_TA</th>\n",
       "      <th>sample</th>\n",
       "      <th>Rating</th>\n",
       "      <th>rest_counts</th>\n",
       "      <th>Cuisine Style_NAN</th>\n",
       "      <th>cuisine_count</th>\n",
       "      <th>cuisine_rare</th>\n",
       "      <th>Bar</th>\n",
       "      <th>...</th>\n",
       "      <th>City_Munich</th>\n",
       "      <th>City_Oporto</th>\n",
       "      <th>City_Oslo</th>\n",
       "      <th>City_Paris</th>\n",
       "      <th>City_Prague</th>\n",
       "      <th>City_Rome</th>\n",
       "      <th>City_Stockholm</th>\n",
       "      <th>City_Vienna</th>\n",
       "      <th>City_Warsaw</th>\n",
       "      <th>City_Zurich</th>\n",
       "    </tr>\n",
       "  </thead>\n",
       "  <tbody>\n",
       "    <tr>\n",
       "      <th>0</th>\n",
       "      <td>2</td>\n",
       "      <td>4.0</td>\n",
       "      <td>10746918</td>\n",
       "      <td>0</td>\n",
       "      <td>0.0</td>\n",
       "      <td>6108</td>\n",
       "      <td>0</td>\n",
       "      <td>2</td>\n",
       "      <td>0</td>\n",
       "      <td>1</td>\n",
       "      <td>...</td>\n",
       "      <td>0</td>\n",
       "      <td>0</td>\n",
       "      <td>0</td>\n",
       "      <td>1</td>\n",
       "      <td>0</td>\n",
       "      <td>0</td>\n",
       "      <td>0</td>\n",
       "      <td>0</td>\n",
       "      <td>0</td>\n",
       "      <td>0</td>\n",
       "    </tr>\n",
       "    <tr>\n",
       "      <th>1</th>\n",
       "      <td>2</td>\n",
       "      <td>97.0</td>\n",
       "      <td>6674944</td>\n",
       "      <td>0</td>\n",
       "      <td>0.0</td>\n",
       "      <td>475</td>\n",
       "      <td>0</td>\n",
       "      <td>5</td>\n",
       "      <td>0</td>\n",
       "      <td>0</td>\n",
       "      <td>...</td>\n",
       "      <td>0</td>\n",
       "      <td>0</td>\n",
       "      <td>0</td>\n",
       "      <td>0</td>\n",
       "      <td>0</td>\n",
       "      <td>0</td>\n",
       "      <td>0</td>\n",
       "      <td>0</td>\n",
       "      <td>0</td>\n",
       "      <td>0</td>\n",
       "    </tr>\n",
       "    <tr>\n",
       "      <th>2</th>\n",
       "      <td>2</td>\n",
       "      <td>28.0</td>\n",
       "      <td>13129638</td>\n",
       "      <td>0</td>\n",
       "      <td>0.0</td>\n",
       "      <td>745</td>\n",
       "      <td>0</td>\n",
       "      <td>1</td>\n",
       "      <td>0</td>\n",
       "      <td>0</td>\n",
       "      <td>...</td>\n",
       "      <td>0</td>\n",
       "      <td>0</td>\n",
       "      <td>0</td>\n",
       "      <td>0</td>\n",
       "      <td>0</td>\n",
       "      <td>0</td>\n",
       "      <td>0</td>\n",
       "      <td>0</td>\n",
       "      <td>0</td>\n",
       "      <td>0</td>\n",
       "    </tr>\n",
       "    <tr>\n",
       "      <th>3</th>\n",
       "      <td>3</td>\n",
       "      <td>202.0</td>\n",
       "      <td>680417</td>\n",
       "      <td>0</td>\n",
       "      <td>0.0</td>\n",
       "      <td>7193</td>\n",
       "      <td>0</td>\n",
       "      <td>5</td>\n",
       "      <td>0</td>\n",
       "      <td>0</td>\n",
       "      <td>...</td>\n",
       "      <td>0</td>\n",
       "      <td>0</td>\n",
       "      <td>0</td>\n",
       "      <td>0</td>\n",
       "      <td>0</td>\n",
       "      <td>0</td>\n",
       "      <td>0</td>\n",
       "      <td>0</td>\n",
       "      <td>0</td>\n",
       "      <td>0</td>\n",
       "    </tr>\n",
       "    <tr>\n",
       "      <th>4</th>\n",
       "      <td>3</td>\n",
       "      <td>162.0</td>\n",
       "      <td>1112354</td>\n",
       "      <td>0</td>\n",
       "      <td>0.0</td>\n",
       "      <td>380</td>\n",
       "      <td>0</td>\n",
       "      <td>6</td>\n",
       "      <td>0</td>\n",
       "      <td>0</td>\n",
       "      <td>...</td>\n",
       "      <td>0</td>\n",
       "      <td>0</td>\n",
       "      <td>0</td>\n",
       "      <td>0</td>\n",
       "      <td>0</td>\n",
       "      <td>0</td>\n",
       "      <td>0</td>\n",
       "      <td>0</td>\n",
       "      <td>0</td>\n",
       "      <td>0</td>\n",
       "    </tr>\n",
       "  </tbody>\n",
       "</table>\n",
       "<p>5 rows × 172 columns</p>\n",
       "</div>"
      ],
      "text/plain": [
       "   Price Range  Number of Reviews     ID_TA  sample  Rating  rest_counts  \\\n",
       "0            2                4.0  10746918       0     0.0         6108   \n",
       "1            2               97.0   6674944       0     0.0          475   \n",
       "2            2               28.0  13129638       0     0.0          745   \n",
       "3            3              202.0    680417       0     0.0         7193   \n",
       "4            3              162.0   1112354       0     0.0          380   \n",
       "\n",
       "   Cuisine Style_NAN  cuisine_count  cuisine_rare  Bar  ...  City_Munich  \\\n",
       "0                  0              2             0    1  ...            0   \n",
       "1                  0              5             0    0  ...            0   \n",
       "2                  0              1             0    0  ...            0   \n",
       "3                  0              5             0    0  ...            0   \n",
       "4                  0              6             0    0  ...            0   \n",
       "\n",
       "   City_Oporto  City_Oslo  City_Paris  City_Prague  City_Rome  City_Stockholm  \\\n",
       "0            0          0           1            0          0               0   \n",
       "1            0          0           0            0          0               0   \n",
       "2            0          0           0            0          0               0   \n",
       "3            0          0           0            0          0               0   \n",
       "4            0          0           0            0          0               0   \n",
       "\n",
       "   City_Vienna  City_Warsaw  City_Zurich  \n",
       "0            0            0            0  \n",
       "1            0            0            0  \n",
       "2            0            0            0  \n",
       "3            0            0            0  \n",
       "4            0            0            0  \n",
       "\n",
       "[5 rows x 172 columns]"
      ]
     },
     "execution_count": 74,
     "metadata": {},
     "output_type": "execute_result"
    }
   ],
   "source": [
    "data.head()"
   ]
  },
  {
   "cell_type": "markdown",
   "metadata": {},
   "source": [
    "### Посмотрим распределение целевой переменной"
   ]
  },
  {
   "cell_type": "code",
   "execution_count": 75,
   "metadata": {
    "execution": {
     "iopub.execute_input": "2021-08-09T16:16:37.576303Z",
     "iopub.status.busy": "2021-08-09T16:16:37.575927Z",
     "iopub.status.idle": "2021-08-09T16:16:37.749189Z",
     "shell.execute_reply": "2021-08-09T16:16:37.748506Z",
     "shell.execute_reply.started": "2021-08-09T16:16:37.576237Z"
    }
   },
   "outputs": [
    {
     "data": {
      "image/png": "[encoded data removed]",
      "text/plain": [
       "<Figure size 720x360 with 1 Axes>"
      ]
     },
     "metadata": {},
     "output_type": "display_data"
    }
   ],
   "source": [
    "plt.figure(figsize=(10, 5))\n",
    "df_train['Rating'].value_counts(ascending=True).plot(kind='barh');"
   ]
  },
  {
   "cell_type": "markdown",
   "metadata": {},
   "source": [
    "### Посмотрим распределение целевой переменной относительно признака ranking_norm"
   ]
  },
  {
   "cell_type": "code",
   "execution_count": 76,
   "metadata": {
    "execution": {
     "iopub.execute_input": "2021-08-09T16:18:52.187988Z",
     "iopub.status.busy": "2021-08-09T16:18:52.187655Z",
     "iopub.status.idle": "2021-08-09T16:18:52.625731Z",
     "shell.execute_reply": "2021-08-09T16:18:52.624042Z",
     "shell.execute_reply.started": "2021-08-09T16:18:52.187945Z"
    }
   },
   "outputs": [
    {
     "data": {
      "image/png": "[encoded data removed]",
      "text/plain": [
       "<Figure size 720x360 with 1 Axes>"
      ]
     },
     "metadata": {},
     "output_type": "display_data"
    }
   ],
   "source": [
    "plt.figure(figsize=(10, 5))\n",
    "data['ranking_norm'][data['Rating'] == 5].hist(bins=100);"
   ]
  },
  {
   "cell_type": "code",
   "execution_count": 77,
   "metadata": {
    "execution": {
     "iopub.execute_input": "2021-08-09T16:19:03.212054Z",
     "iopub.status.busy": "2021-08-09T16:19:03.211728Z",
     "iopub.status.idle": "2021-08-09T16:19:03.637964Z",
     "shell.execute_reply": "2021-08-09T16:19:03.636505Z",
     "shell.execute_reply.started": "2021-08-09T16:19:03.212004Z"
    }
   },
   "outputs": [
    {
     "data": {
      "image/png": "[encoded data removed]",
      "text/plain": [
       "<Figure size 720x360 with 1 Axes>"
      ]
     },
     "metadata": {},
     "output_type": "display_data"
    }
   ],
   "source": [
    "plt.figure(figsize=(10, 5))\n",
    "data['ranking_norm'][data['Rating'] < 4].hist(bins=100);"
   ]
  },
  {
   "cell_type": "code",
   "execution_count": 78,
   "metadata": {
    "execution": {
     "iopub.execute_input": "2021-08-09T16:19:12.157455Z",
     "iopub.status.busy": "2021-08-09T16:19:12.157104Z",
     "iopub.status.idle": "2021-08-09T16:19:13.088135Z",
     "shell.execute_reply": "2021-08-09T16:19:13.086945Z",
     "shell.execute_reply.started": "2021-08-09T16:19:12.157401Z"
    }
   },
   "outputs": [
    {
     "data": {
      "image/png": "[encoded data removed]",
      "text/plain": [
       "<Figure size 720x360 with 1 Axes>"
      ]
     },
     "metadata": {},
     "output_type": "display_data"
    }
   ],
   "source": [
    "for x in data.Rating.unique():\n",
    "    data['ranking_norm'][data['Rating'] == x].hist(bins=35)"
   ]
  },
  {
   "cell_type": "markdown",
   "metadata": {},
   "source": [
    "## Корреляция признаков"
   ]
  },
  {
   "cell_type": "code",
   "execution_count": 79,
   "metadata": {
    "execution": {
     "iopub.execute_input": "2021-08-09T16:19:46.037823Z",
     "iopub.status.busy": "2021-08-09T16:19:46.037466Z",
     "iopub.status.idle": "2021-08-09T16:19:47.541098Z",
     "shell.execute_reply": "2021-08-09T16:19:47.540005Z",
     "shell.execute_reply.started": "2021-08-09T16:19:46.037767Z"
    }
   },
   "outputs": [
    {
     "data": {
      "image/png": "[encoded data removed]",
      "text/plain": [
       "<Figure size 1080x792 with 2 Axes>"
      ]
     },
     "metadata": {},
     "output_type": "display_data"
    }
   ],
   "source": [
    "plt.rcParams['figure.figsize'] = (15,11)\n",
    "sns.heatmap(data.drop(cuisine_lst, axis=1).corr(), cmap='coolwarm');"
   ]
  },
  {
   "cell_type": "code",
   "execution_count": 80,
   "metadata": {
    "execution": {
     "iopub.execute_input": "2021-08-09T16:20:05.217521Z",
     "iopub.status.busy": "2021-08-09T16:20:05.217013Z",
     "iopub.status.idle": "2021-08-09T16:20:05.463757Z",
     "shell.execute_reply": "2021-08-09T16:20:05.462685Z",
     "shell.execute_reply.started": "2021-08-09T16:20:05.217471Z"
    }
   },
   "outputs": [
    {
     "data": {
      "text/html": [
       "<div>\n",
       "<style scoped>\n",
       "    .dataframe tbody tr th:only-of-type {\n",
       "        vertical-align: middle;\n",
       "    }\n",
       "\n",
       "    .dataframe tbody tr th {\n",
       "        vertical-align: top;\n",
       "    }\n",
       "\n",
       "    .dataframe thead th {\n",
       "        text-align: right;\n",
       "    }\n",
       "</style>\n",
       "<table border=\"1\" class=\"dataframe\">\n",
       "  <thead>\n",
       "    <tr style=\"text-align: right;\">\n",
       "      <th></th>\n",
       "      <th>Rating</th>\n",
       "    </tr>\n",
       "  </thead>\n",
       "  <tbody>\n",
       "    <tr>\n",
       "      <th>Rating</th>\n",
       "      <td>1.000000</td>\n",
       "    </tr>\n",
       "    <tr>\n",
       "      <th>sample</th>\n",
       "      <td>0.936543</td>\n",
       "    </tr>\n",
       "    <tr>\n",
       "      <th>ID_TA</th>\n",
       "      <td>0.049589</td>\n",
       "    </tr>\n",
       "    <tr>\n",
       "      <th>cuisine_count</th>\n",
       "      <td>0.034506</td>\n",
       "    </tr>\n",
       "    <tr>\n",
       "      <th>City_Rome</th>\n",
       "      <td>0.027527</td>\n",
       "    </tr>\n",
       "    <tr>\n",
       "      <th>City_Athens</th>\n",
       "      <td>0.016852</td>\n",
       "    </tr>\n",
       "    <tr>\n",
       "      <th>City_Berlin</th>\n",
       "      <td>0.012834</td>\n",
       "    </tr>\n",
       "    <tr>\n",
       "      <th>Number of Reviews</th>\n",
       "      <td>0.011011</td>\n",
       "    </tr>\n",
       "    <tr>\n",
       "      <th>City_Vienna</th>\n",
       "      <td>0.010188</td>\n",
       "    </tr>\n",
       "    <tr>\n",
       "      <th>City_Oporto</th>\n",
       "      <td>0.009654</td>\n",
       "    </tr>\n",
       "    <tr>\n",
       "      <th>City_Ljubljana</th>\n",
       "      <td>0.007644</td>\n",
       "    </tr>\n",
       "    <tr>\n",
       "      <th>City_Krakow</th>\n",
       "      <td>0.007538</td>\n",
       "    </tr>\n",
       "    <tr>\n",
       "      <th>City_Amsterdam</th>\n",
       "      <td>0.007447</td>\n",
       "    </tr>\n",
       "    <tr>\n",
       "      <th>City_Budapest</th>\n",
       "      <td>0.006301</td>\n",
       "    </tr>\n",
       "    <tr>\n",
       "      <th>City_Dublin</th>\n",
       "      <td>0.005758</td>\n",
       "    </tr>\n",
       "    <tr>\n",
       "      <th>City_Edinburgh</th>\n",
       "      <td>0.005484</td>\n",
       "    </tr>\n",
       "    <tr>\n",
       "      <th>cuisine_rare</th>\n",
       "      <td>0.004835</td>\n",
       "    </tr>\n",
       "    <tr>\n",
       "      <th>City_Geneva</th>\n",
       "      <td>0.002312</td>\n",
       "    </tr>\n",
       "    <tr>\n",
       "      <th>City_Hamburg</th>\n",
       "      <td>0.002112</td>\n",
       "    </tr>\n",
       "    <tr>\n",
       "      <th>City_Warsaw</th>\n",
       "      <td>0.001580</td>\n",
       "    </tr>\n",
       "    <tr>\n",
       "      <th>City_Prague</th>\n",
       "      <td>0.001123</td>\n",
       "    </tr>\n",
       "    <tr>\n",
       "      <th>City_Copenhagen</th>\n",
       "      <td>0.000948</td>\n",
       "    </tr>\n",
       "    <tr>\n",
       "      <th>City_Lisbon</th>\n",
       "      <td>-0.000081</td>\n",
       "    </tr>\n",
       "    <tr>\n",
       "      <th>City_Barcelona</th>\n",
       "      <td>-0.000703</td>\n",
       "    </tr>\n",
       "    <tr>\n",
       "      <th>City_Zurich</th>\n",
       "      <td>-0.001481</td>\n",
       "    </tr>\n",
       "    <tr>\n",
       "      <th>City_Bratislava</th>\n",
       "      <td>-0.002550</td>\n",
       "    </tr>\n",
       "    <tr>\n",
       "      <th>City_Luxembourg</th>\n",
       "      <td>-0.002940</td>\n",
       "    </tr>\n",
       "    <tr>\n",
       "      <th>City_Munich</th>\n",
       "      <td>-0.003420</td>\n",
       "    </tr>\n",
       "    <tr>\n",
       "      <th>City_Brussels</th>\n",
       "      <td>-0.003957</td>\n",
       "    </tr>\n",
       "    <tr>\n",
       "      <th>City_Helsinki</th>\n",
       "      <td>-0.004032</td>\n",
       "    </tr>\n",
       "    <tr>\n",
       "      <th>City_Lyon</th>\n",
       "      <td>-0.005922</td>\n",
       "    </tr>\n",
       "    <tr>\n",
       "      <th>num_rewiews_city</th>\n",
       "      <td>-0.006835</td>\n",
       "    </tr>\n",
       "    <tr>\n",
       "      <th>City_London</th>\n",
       "      <td>-0.006952</td>\n",
       "    </tr>\n",
       "    <tr>\n",
       "      <th>City_Oslo</th>\n",
       "      <td>-0.007143</td>\n",
       "    </tr>\n",
       "    <tr>\n",
       "      <th>rewiew_days</th>\n",
       "      <td>-0.007174</td>\n",
       "    </tr>\n",
       "    <tr>\n",
       "      <th>City_Paris</th>\n",
       "      <td>-0.007362</td>\n",
       "    </tr>\n",
       "    <tr>\n",
       "      <th>City_Stockholm</th>\n",
       "      <td>-0.010417</td>\n",
       "    </tr>\n",
       "    <tr>\n",
       "      <th>Cuisine Style_NAN</th>\n",
       "      <td>-0.010781</td>\n",
       "    </tr>\n",
       "    <tr>\n",
       "      <th>Price Range</th>\n",
       "      <td>-0.012176</td>\n",
       "    </tr>\n",
       "    <tr>\n",
       "      <th>rest_counts</th>\n",
       "      <td>-0.014779</td>\n",
       "    </tr>\n",
       "    <tr>\n",
       "      <th>City_Madrid</th>\n",
       "      <td>-0.016232</td>\n",
       "    </tr>\n",
       "    <tr>\n",
       "      <th>Price Range_NAN</th>\n",
       "      <td>-0.020519</td>\n",
       "    </tr>\n",
       "    <tr>\n",
       "      <th>City_Milan</th>\n",
       "      <td>-0.023233</td>\n",
       "    </tr>\n",
       "    <tr>\n",
       "      <th>days_to_today</th>\n",
       "      <td>-0.027544</td>\n",
       "    </tr>\n",
       "    <tr>\n",
       "      <th>relative_rank_reviews</th>\n",
       "      <td>-0.135067</td>\n",
       "    </tr>\n",
       "    <tr>\n",
       "      <th>ranking_norm</th>\n",
       "      <td>-0.168728</td>\n",
       "    </tr>\n",
       "  </tbody>\n",
       "</table>\n",
       "</div>"
      ],
      "text/plain": [
       "                         Rating\n",
       "Rating                 1.000000\n",
       "sample                 0.936543\n",
       "ID_TA                  0.049589\n",
       "cuisine_count          0.034506\n",
       "City_Rome              0.027527\n",
       "City_Athens            0.016852\n",
       "City_Berlin            0.012834\n",
       "Number of Reviews      0.011011\n",
       "City_Vienna            0.010188\n",
       "City_Oporto            0.009654\n",
       "City_Ljubljana         0.007644\n",
       "City_Krakow            0.007538\n",
       "City_Amsterdam         0.007447\n",
       "City_Budapest          0.006301\n",
       "City_Dublin            0.005758\n",
       "City_Edinburgh         0.005484\n",
       "cuisine_rare           0.004835\n",
       "City_Geneva            0.002312\n",
       "City_Hamburg           0.002112\n",
       "City_Warsaw            0.001580\n",
       "City_Prague            0.001123\n",
       "City_Copenhagen        0.000948\n",
       "City_Lisbon           -0.000081\n",
       "City_Barcelona        -0.000703\n",
       "City_Zurich           -0.001481\n",
       "City_Bratislava       -0.002550\n",
       "City_Luxembourg       -0.002940\n",
       "City_Munich           -0.003420\n",
       "City_Brussels         -0.003957\n",
       "City_Helsinki         -0.004032\n",
       "City_Lyon             -0.005922\n",
       "num_rewiews_city      -0.006835\n",
       "City_London           -0.006952\n",
       "City_Oslo             -0.007143\n",
       "rewiew_days           -0.007174\n",
       "City_Paris            -0.007362\n",
       "City_Stockholm        -0.010417\n",
       "Cuisine Style_NAN     -0.010781\n",
       "Price Range           -0.012176\n",
       "rest_counts           -0.014779\n",
       "City_Madrid           -0.016232\n",
       "Price Range_NAN       -0.020519\n",
       "City_Milan            -0.023233\n",
       "days_to_today         -0.027544\n",
       "relative_rank_reviews -0.135067\n",
       "ranking_norm          -0.168728"
      ]
     },
     "execution_count": 80,
     "metadata": {},
     "output_type": "execute_result"
    }
   ],
   "source": [
    "data.drop(cuisine_lst, axis=1).corr().Rating.sort_values(ascending=False).to_frame()"
   ]
  },
  {
   "cell_type": "markdown",
   "metadata": {},
   "source": [
    "Теперь выделим тестовую часть"
   ]
  },
  {
   "cell_type": "code",
   "execution_count": 81,
   "metadata": {
    "execution": {
     "iopub.execute_input": "2021-08-09T16:20:47.139915Z",
     "iopub.status.busy": "2021-08-09T16:20:47.139472Z",
     "iopub.status.idle": "2021-08-09T16:20:47.225541Z",
     "shell.execute_reply": "2021-08-09T16:20:47.224359Z",
     "shell.execute_reply.started": "2021-08-09T16:20:47.139872Z"
    }
   },
   "outputs": [],
   "source": [
    "train_data = data.query('sample == 1').drop(['sample'], axis=1)\n",
    "test_data = data.query('sample == 0').drop(['sample'], axis=1)\n",
    "\n",
    "y = train_data.Rating.values            # наш таргет\n",
    "X = train_data.drop(['Rating'], axis=1)"
   ]
  },
  {
   "cell_type": "markdown",
   "metadata": {},
   "source": [
    "**Перед тем, как отправлять наши данные на обучение, разделим данные на еще один тест и трейн, для валидации.**"
   ]
  },
  {
   "cell_type": "code",
   "execution_count": 82,
   "metadata": {
    "execution": {
     "iopub.execute_input": "2021-08-09T16:21:36.924621Z",
     "iopub.status.busy": "2021-08-09T16:21:36.924267Z",
     "iopub.status.idle": "2021-08-09T16:21:36.979443Z",
     "shell.execute_reply": "2021-08-09T16:21:36.978371Z",
     "shell.execute_reply.started": "2021-08-09T16:21:36.924559Z"
    }
   },
   "outputs": [],
   "source": [
    "# Воспользуемся специальной функцией train_test_split для разбивки тестовых данных\n",
    "# выделим 20% данных на валидацию (параметр test_size)\n",
    "X_train, X_test, y_train, y_test = train_test_split(X, y, test_size=0.2, random_state=RANDOM_SEED)"
   ]
  },
  {
   "cell_type": "code",
   "execution_count": 83,
   "metadata": {
    "execution": {
     "iopub.execute_input": "2021-08-09T16:21:44.745382Z",
     "iopub.status.busy": "2021-08-09T16:21:44.745007Z",
     "iopub.status.idle": "2021-08-09T16:21:44.752164Z",
     "shell.execute_reply": "2021-08-09T16:21:44.751109Z",
     "shell.execute_reply.started": "2021-08-09T16:21:44.745317Z"
    }
   },
   "outputs": [
    {
     "data": {
      "text/plain": [
       "((10000, 171), (40000, 171), (40000, 170), (32000, 170), (8000, 170))"
      ]
     },
     "execution_count": 83,
     "metadata": {},
     "output_type": "execute_result"
    }
   ],
   "source": [
    "# проверяем\n",
    "test_data.shape, train_data.shape, X.shape, X_train.shape, X_test.shape"
   ]
  },
  {
   "cell_type": "markdown",
   "metadata": {},
   "source": [
    "# Model \n",
    "Сам ML"
   ]
  },
  {
   "cell_type": "code",
   "execution_count": 84,
   "metadata": {
    "execution": {
     "iopub.execute_input": "2021-08-09T16:22:35.173338Z",
     "iopub.status.busy": "2021-08-09T16:22:35.172965Z",
     "iopub.status.idle": "2021-08-09T16:22:35.340257Z",
     "shell.execute_reply": "2021-08-09T16:22:35.339352Z",
     "shell.execute_reply.started": "2021-08-09T16:22:35.173267Z"
    }
   },
   "outputs": [],
   "source": [
    "# Импортируем необходимые библиотеки:\n",
    "from sklearn.ensemble import RandomForestRegressor # инструмент для создания и обучения модели\n",
    "from sklearn import metrics # инструменты для оценки точности модели"
   ]
  },
  {
   "cell_type": "code",
   "execution_count": 85,
   "metadata": {
    "execution": {
     "iopub.execute_input": "2021-08-09T16:22:45.101907Z",
     "iopub.status.busy": "2021-08-09T16:22:45.101527Z",
     "iopub.status.idle": "2021-08-09T16:22:45.106460Z",
     "shell.execute_reply": "2021-08-09T16:22:45.105403Z",
     "shell.execute_reply.started": "2021-08-09T16:22:45.101841Z"
    }
   },
   "outputs": [],
   "source": [
    "# Создаём модель (НАСТРОЙКИ НЕ ТРОГАЕМ)\n",
    "model = RandomForestRegressor(n_estimators=100, verbose=1, n_jobs=-1, random_state=RANDOM_SEED)"
   ]
  },
  {
   "cell_type": "code",
   "execution_count": 86,
   "metadata": {
    "execution": {
     "iopub.execute_input": "2021-08-09T16:28:00.392027Z",
     "iopub.status.busy": "2021-08-09T16:28:00.391726Z",
     "iopub.status.idle": "2021-08-09T16:28:20.443887Z",
     "shell.execute_reply": "2021-08-09T16:28:20.442925Z",
     "shell.execute_reply.started": "2021-08-09T16:28:00.391989Z"
    }
   },
   "outputs": [
    {
     "name": "stderr",
     "output_type": "stream",
     "text": [
      "[Parallel(n_jobs=-1)]: Using backend ThreadingBackend with 4 concurrent workers.\n",
      "[Parallel(n_jobs=-1)]: Done  42 tasks      | elapsed:    8.8s\n",
      "[Parallel(n_jobs=-1)]: Done 100 out of 100 | elapsed:   20.0s finished\n",
      "[Parallel(n_jobs=4)]: Using backend ThreadingBackend with 4 concurrent workers.\n",
      "[Parallel(n_jobs=4)]: Done  42 tasks      | elapsed:    0.0s\n",
      "[Parallel(n_jobs=4)]: Done 100 out of 100 | elapsed:    0.1s finished\n"
     ]
    }
   ],
   "source": [
    "# Обучаем модель на тестовом наборе данных\n",
    "model.fit(X_train, y_train)\n",
    "\n",
    "# Используем обученную модель для предсказания рейтинга ресторанов в тестовой выборке.\n",
    "# Предсказанные значения записываем в переменную y_pred\n",
    "y_pred = model.predict(X_test)\n",
    "\n",
    "# # Округлим предсказанные значения до степени округления целевой переменной\n",
    "# np.round(y_pred*2)/2\n",
    "\n",
    "def round_of_rating(number):\n",
    "    return np.round(number * 2) / 2\n",
    "\n",
    "y_pred_old = y_pred.copy()\n",
    "y_pred = round_of_rating(y_pred) "
   ]
  },
  {
   "cell_type": "code",
   "execution_count": 87,
   "metadata": {
    "execution": {
     "iopub.execute_input": "2021-08-09T16:28:20.445934Z",
     "iopub.status.busy": "2021-08-09T16:28:20.445656Z",
     "iopub.status.idle": "2021-08-09T16:28:20.451512Z",
     "shell.execute_reply": "2021-08-09T16:28:20.450419Z",
     "shell.execute_reply.started": "2021-08-09T16:28:20.445881Z"
    }
   },
   "outputs": [
    {
     "name": "stdout",
     "output_type": "stream",
     "text": [
      "MAE: 0.1615625\n"
     ]
    }
   ],
   "source": [
    "# Сравниваем предсказанные значения (y_pred) с реальными (y_test), и смотрим насколько они в среднем отличаются\n",
    "# Метрика называется Mean Absolute Error (MAE) и показывает среднее отклонение предсказанных значений от фактических.\n",
    "print('MAE:', metrics.mean_absolute_error(y_test, y_pred))"
   ]
  },
  {
   "cell_type": "code",
   "execution_count": 88,
   "metadata": {
    "execution": {
     "iopub.execute_input": "2021-08-09T16:28:39.792974Z",
     "iopub.status.busy": "2021-08-09T16:28:39.792674Z",
     "iopub.status.idle": "2021-08-09T16:28:40.385033Z",
     "shell.execute_reply": "2021-08-09T16:28:40.384041Z",
     "shell.execute_reply.started": "2021-08-09T16:28:39.792924Z"
    }
   },
   "outputs": [
    {
     "data": {
      "text/plain": [
       "<matplotlib.axes._subplots.AxesSubplot at 0x7fc6c98475c0>"
      ]
     },
     "execution_count": 88,
     "metadata": {},
     "output_type": "execute_result"
    },
    {
     "data": {
      "image/png": "[encoded data removed]",
      "text/plain": [
       "<Figure size 720x720 with 1 Axes>"
      ]
     },
     "metadata": {},
     "output_type": "display_data"
    }
   ],
   "source": [
    "# в RandomForestRegressor есть возможность вывести самые важные признаки для модели\n",
    "plt.rcParams['figure.figsize'] = (10,10)\n",
    "feat_importances = pd.Series(model.feature_importances_, index=X.columns)\n",
    "feat_importances.nlargest(20).plot(kind='barh')"
   ]
  },
  {
   "cell_type": "markdown",
   "metadata": {},
   "source": [
    "# Submission\n",
    "Если все устраевает - готовим Submission на kaggle"
   ]
  },
  {
   "cell_type": "code",
   "execution_count": 89,
   "metadata": {
    "execution": {
     "iopub.execute_input": "2021-08-09T16:32:19.973874Z",
     "iopub.status.busy": "2021-08-09T16:32:19.973499Z",
     "iopub.status.idle": "2021-08-09T16:32:20.005996Z",
     "shell.execute_reply": "2021-08-09T16:32:20.004967Z",
     "shell.execute_reply.started": "2021-08-09T16:32:19.973811Z"
    }
   },
   "outputs": [
    {
     "data": {
      "text/html": [
       "<div>\n",
       "<style scoped>\n",
       "    .dataframe tbody tr th:only-of-type {\n",
       "        vertical-align: middle;\n",
       "    }\n",
       "\n",
       "    .dataframe tbody tr th {\n",
       "        vertical-align: top;\n",
       "    }\n",
       "\n",
       "    .dataframe thead th {\n",
       "        text-align: right;\n",
       "    }\n",
       "</style>\n",
       "<table border=\"1\" class=\"dataframe\">\n",
       "  <thead>\n",
       "    <tr style=\"text-align: right;\">\n",
       "      <th></th>\n",
       "      <th>Price Range</th>\n",
       "      <th>Number of Reviews</th>\n",
       "      <th>ID_TA</th>\n",
       "      <th>Rating</th>\n",
       "      <th>rest_counts</th>\n",
       "      <th>Cuisine Style_NAN</th>\n",
       "      <th>cuisine_count</th>\n",
       "      <th>cuisine_rare</th>\n",
       "      <th>Bar</th>\n",
       "      <th>Pub</th>\n",
       "      <th>...</th>\n",
       "      <th>City_Munich</th>\n",
       "      <th>City_Oporto</th>\n",
       "      <th>City_Oslo</th>\n",
       "      <th>City_Paris</th>\n",
       "      <th>City_Prague</th>\n",
       "      <th>City_Rome</th>\n",
       "      <th>City_Stockholm</th>\n",
       "      <th>City_Vienna</th>\n",
       "      <th>City_Warsaw</th>\n",
       "      <th>City_Zurich</th>\n",
       "    </tr>\n",
       "  </thead>\n",
       "  <tbody>\n",
       "    <tr>\n",
       "      <th>9619</th>\n",
       "      <td>1</td>\n",
       "      <td>9.0</td>\n",
       "      <td>7784949</td>\n",
       "      <td>0.0</td>\n",
       "      <td>6108</td>\n",
       "      <td>0</td>\n",
       "      <td>1</td>\n",
       "      <td>0</td>\n",
       "      <td>0</td>\n",
       "      <td>0</td>\n",
       "      <td>...</td>\n",
       "      <td>0</td>\n",
       "      <td>0</td>\n",
       "      <td>0</td>\n",
       "      <td>1</td>\n",
       "      <td>0</td>\n",
       "      <td>0</td>\n",
       "      <td>0</td>\n",
       "      <td>0</td>\n",
       "      <td>0</td>\n",
       "      <td>0</td>\n",
       "    </tr>\n",
       "    <tr>\n",
       "      <th>2020</th>\n",
       "      <td>2</td>\n",
       "      <td>0.0</td>\n",
       "      <td>13298310</td>\n",
       "      <td>0.0</td>\n",
       "      <td>6108</td>\n",
       "      <td>1</td>\n",
       "      <td>1</td>\n",
       "      <td>0</td>\n",
       "      <td>0</td>\n",
       "      <td>0</td>\n",
       "      <td>...</td>\n",
       "      <td>0</td>\n",
       "      <td>0</td>\n",
       "      <td>0</td>\n",
       "      <td>1</td>\n",
       "      <td>0</td>\n",
       "      <td>0</td>\n",
       "      <td>0</td>\n",
       "      <td>0</td>\n",
       "      <td>0</td>\n",
       "      <td>0</td>\n",
       "    </tr>\n",
       "    <tr>\n",
       "      <th>9878</th>\n",
       "      <td>2</td>\n",
       "      <td>36.0</td>\n",
       "      <td>6627759</td>\n",
       "      <td>0.0</td>\n",
       "      <td>819</td>\n",
       "      <td>0</td>\n",
       "      <td>3</td>\n",
       "      <td>0</td>\n",
       "      <td>0</td>\n",
       "      <td>0</td>\n",
       "      <td>...</td>\n",
       "      <td>0</td>\n",
       "      <td>0</td>\n",
       "      <td>0</td>\n",
       "      <td>0</td>\n",
       "      <td>0</td>\n",
       "      <td>0</td>\n",
       "      <td>0</td>\n",
       "      <td>0</td>\n",
       "      <td>0</td>\n",
       "      <td>0</td>\n",
       "    </tr>\n",
       "    <tr>\n",
       "      <th>1756</th>\n",
       "      <td>3</td>\n",
       "      <td>157.0</td>\n",
       "      <td>947562</td>\n",
       "      <td>0.0</td>\n",
       "      <td>6108</td>\n",
       "      <td>0</td>\n",
       "      <td>3</td>\n",
       "      <td>0</td>\n",
       "      <td>0</td>\n",
       "      <td>0</td>\n",
       "      <td>...</td>\n",
       "      <td>0</td>\n",
       "      <td>0</td>\n",
       "      <td>0</td>\n",
       "      <td>1</td>\n",
       "      <td>0</td>\n",
       "      <td>0</td>\n",
       "      <td>0</td>\n",
       "      <td>0</td>\n",
       "      <td>0</td>\n",
       "      <td>0</td>\n",
       "    </tr>\n",
       "    <tr>\n",
       "      <th>3252</th>\n",
       "      <td>2</td>\n",
       "      <td>9.0</td>\n",
       "      <td>4767612</td>\n",
       "      <td>0.0</td>\n",
       "      <td>1816</td>\n",
       "      <td>0</td>\n",
       "      <td>2</td>\n",
       "      <td>0</td>\n",
       "      <td>0</td>\n",
       "      <td>0</td>\n",
       "      <td>...</td>\n",
       "      <td>0</td>\n",
       "      <td>0</td>\n",
       "      <td>0</td>\n",
       "      <td>0</td>\n",
       "      <td>1</td>\n",
       "      <td>0</td>\n",
       "      <td>0</td>\n",
       "      <td>0</td>\n",
       "      <td>0</td>\n",
       "      <td>0</td>\n",
       "    </tr>\n",
       "    <tr>\n",
       "      <th>2121</th>\n",
       "      <td>2</td>\n",
       "      <td>7.0</td>\n",
       "      <td>12238866</td>\n",
       "      <td>0.0</td>\n",
       "      <td>2589</td>\n",
       "      <td>1</td>\n",
       "      <td>1</td>\n",
       "      <td>0</td>\n",
       "      <td>0</td>\n",
       "      <td>0</td>\n",
       "      <td>...</td>\n",
       "      <td>0</td>\n",
       "      <td>0</td>\n",
       "      <td>0</td>\n",
       "      <td>0</td>\n",
       "      <td>0</td>\n",
       "      <td>1</td>\n",
       "      <td>0</td>\n",
       "      <td>0</td>\n",
       "      <td>0</td>\n",
       "      <td>0</td>\n",
       "    </tr>\n",
       "    <tr>\n",
       "      <th>5932</th>\n",
       "      <td>2</td>\n",
       "      <td>10.0</td>\n",
       "      <td>8788146</td>\n",
       "      <td>0.0</td>\n",
       "      <td>554</td>\n",
       "      <td>0</td>\n",
       "      <td>3</td>\n",
       "      <td>0</td>\n",
       "      <td>0</td>\n",
       "      <td>0</td>\n",
       "      <td>...</td>\n",
       "      <td>0</td>\n",
       "      <td>0</td>\n",
       "      <td>0</td>\n",
       "      <td>0</td>\n",
       "      <td>0</td>\n",
       "      <td>0</td>\n",
       "      <td>0</td>\n",
       "      <td>0</td>\n",
       "      <td>0</td>\n",
       "      <td>0</td>\n",
       "    </tr>\n",
       "    <tr>\n",
       "      <th>967</th>\n",
       "      <td>2</td>\n",
       "      <td>3.0</td>\n",
       "      <td>7011418</td>\n",
       "      <td>0.0</td>\n",
       "      <td>2589</td>\n",
       "      <td>0</td>\n",
       "      <td>4</td>\n",
       "      <td>0</td>\n",
       "      <td>0</td>\n",
       "      <td>0</td>\n",
       "      <td>...</td>\n",
       "      <td>0</td>\n",
       "      <td>0</td>\n",
       "      <td>0</td>\n",
       "      <td>0</td>\n",
       "      <td>0</td>\n",
       "      <td>1</td>\n",
       "      <td>0</td>\n",
       "      <td>0</td>\n",
       "      <td>0</td>\n",
       "      <td>0</td>\n",
       "    </tr>\n",
       "    <tr>\n",
       "      <th>2838</th>\n",
       "      <td>1</td>\n",
       "      <td>784.0</td>\n",
       "      <td>5883980</td>\n",
       "      <td>0.0</td>\n",
       "      <td>6108</td>\n",
       "      <td>0</td>\n",
       "      <td>2</td>\n",
       "      <td>0</td>\n",
       "      <td>0</td>\n",
       "      <td>0</td>\n",
       "      <td>...</td>\n",
       "      <td>0</td>\n",
       "      <td>0</td>\n",
       "      <td>0</td>\n",
       "      <td>1</td>\n",
       "      <td>0</td>\n",
       "      <td>0</td>\n",
       "      <td>0</td>\n",
       "      <td>0</td>\n",
       "      <td>0</td>\n",
       "      <td>0</td>\n",
       "    </tr>\n",
       "    <tr>\n",
       "      <th>167</th>\n",
       "      <td>2</td>\n",
       "      <td>13.0</td>\n",
       "      <td>6016792</td>\n",
       "      <td>0.0</td>\n",
       "      <td>2694</td>\n",
       "      <td>0</td>\n",
       "      <td>3</td>\n",
       "      <td>0</td>\n",
       "      <td>0</td>\n",
       "      <td>0</td>\n",
       "      <td>...</td>\n",
       "      <td>0</td>\n",
       "      <td>0</td>\n",
       "      <td>0</td>\n",
       "      <td>0</td>\n",
       "      <td>0</td>\n",
       "      <td>0</td>\n",
       "      <td>0</td>\n",
       "      <td>0</td>\n",
       "      <td>0</td>\n",
       "      <td>0</td>\n",
       "    </tr>\n",
       "  </tbody>\n",
       "</table>\n",
       "<p>10 rows × 171 columns</p>\n",
       "</div>"
      ],
      "text/plain": [
       "      Price Range  Number of Reviews     ID_TA  Rating  rest_counts  \\\n",
       "9619            1                9.0   7784949     0.0         6108   \n",
       "2020            2                0.0  13298310     0.0         6108   \n",
       "9878            2               36.0   6627759     0.0          819   \n",
       "1756            3              157.0    947562     0.0         6108   \n",
       "3252            2                9.0   4767612     0.0         1816   \n",
       "2121            2                7.0  12238866     0.0         2589   \n",
       "5932            2               10.0   8788146     0.0          554   \n",
       "967             2                3.0   7011418     0.0         2589   \n",
       "2838            1              784.0   5883980     0.0         6108   \n",
       "167             2               13.0   6016792     0.0         2694   \n",
       "\n",
       "      Cuisine Style_NAN  cuisine_count  cuisine_rare  Bar  Pub  ...  \\\n",
       "9619                  0              1             0    0    0  ...   \n",
       "2020                  1              1             0    0    0  ...   \n",
       "9878                  0              3             0    0    0  ...   \n",
       "1756                  0              3             0    0    0  ...   \n",
       "3252                  0              2             0    0    0  ...   \n",
       "2121                  1              1             0    0    0  ...   \n",
       "5932                  0              3             0    0    0  ...   \n",
       "967                   0              4             0    0    0  ...   \n",
       "2838                  0              2             0    0    0  ...   \n",
       "167                   0              3             0    0    0  ...   \n",
       "\n",
       "      City_Munich  City_Oporto  City_Oslo  City_Paris  City_Prague  City_Rome  \\\n",
       "9619            0            0          0           1            0          0   \n",
       "2020            0            0          0           1            0          0   \n",
       "9878            0            0          0           0            0          0   \n",
       "1756            0            0          0           1            0          0   \n",
       "3252            0            0          0           0            1          0   \n",
       "2121            0            0          0           0            0          1   \n",
       "5932            0            0          0           0            0          0   \n",
       "967             0            0          0           0            0          1   \n",
       "2838            0            0          0           1            0          0   \n",
       "167             0            0          0           0            0          0   \n",
       "\n",
       "      City_Stockholm  City_Vienna  City_Warsaw  City_Zurich  \n",
       "9619               0            0            0            0  \n",
       "2020               0            0            0            0  \n",
       "9878               0            0            0            0  \n",
       "1756               0            0            0            0  \n",
       "3252               0            0            0            0  \n",
       "2121               0            0            0            0  \n",
       "5932               0            0            0            0  \n",
       "967                0            0            0            0  \n",
       "2838               0            0            0            0  \n",
       "167                0            0            0            0  \n",
       "\n",
       "[10 rows x 171 columns]"
      ]
     },
     "execution_count": 89,
     "metadata": {},
     "output_type": "execute_result"
    }
   ],
   "source": [
    "test_data.sample(10)"
   ]
  },
  {
   "cell_type": "code",
   "execution_count": 90,
   "metadata": {
    "execution": {
     "iopub.execute_input": "2021-08-09T16:32:31.023089Z",
     "iopub.status.busy": "2021-08-09T16:32:31.022518Z",
     "iopub.status.idle": "2021-08-09T16:32:31.033838Z",
     "shell.execute_reply": "2021-08-09T16:32:31.032826Z",
     "shell.execute_reply.started": "2021-08-09T16:32:31.023020Z"
    }
   },
   "outputs": [],
   "source": [
    "test_data = test_data.drop(['Rating'], axis=1)"
   ]
  },
  {
   "cell_type": "code",
   "execution_count": 91,
   "metadata": {
    "execution": {
     "iopub.execute_input": "2021-08-09T16:33:58.352109Z",
     "iopub.status.busy": "2021-08-09T16:33:58.351723Z",
     "iopub.status.idle": "2021-08-09T16:33:58.364462Z",
     "shell.execute_reply": "2021-08-09T16:33:58.363694Z",
     "shell.execute_reply.started": "2021-08-09T16:33:58.352054Z"
    }
   },
   "outputs": [
    {
     "data": {
      "text/html": [
       "<div>\n",
       "<style scoped>\n",
       "    .dataframe tbody tr th:only-of-type {\n",
       "        vertical-align: middle;\n",
       "    }\n",
       "\n",
       "    .dataframe tbody tr th {\n",
       "        vertical-align: top;\n",
       "    }\n",
       "\n",
       "    .dataframe thead th {\n",
       "        text-align: right;\n",
       "    }\n",
       "</style>\n",
       "<table border=\"1\" class=\"dataframe\">\n",
       "  <thead>\n",
       "    <tr style=\"text-align: right;\">\n",
       "      <th></th>\n",
       "      <th>Restaurant_id</th>\n",
       "      <th>Rating</th>\n",
       "    </tr>\n",
       "  </thead>\n",
       "  <tbody>\n",
       "    <tr>\n",
       "      <th>0</th>\n",
       "      <td>id_0</td>\n",
       "      <td>2.0</td>\n",
       "    </tr>\n",
       "    <tr>\n",
       "      <th>1</th>\n",
       "      <td>id_1</td>\n",
       "      <td>2.5</td>\n",
       "    </tr>\n",
       "    <tr>\n",
       "      <th>2</th>\n",
       "      <td>id_2</td>\n",
       "      <td>4.0</td>\n",
       "    </tr>\n",
       "    <tr>\n",
       "      <th>3</th>\n",
       "      <td>id_3</td>\n",
       "      <td>1.0</td>\n",
       "    </tr>\n",
       "    <tr>\n",
       "      <th>4</th>\n",
       "      <td>id_4</td>\n",
       "      <td>4.0</td>\n",
       "    </tr>\n",
       "    <tr>\n",
       "      <th>...</th>\n",
       "      <td>...</td>\n",
       "      <td>...</td>\n",
       "    </tr>\n",
       "    <tr>\n",
       "      <th>9995</th>\n",
       "      <td>id_9995</td>\n",
       "      <td>3.0</td>\n",
       "    </tr>\n",
       "    <tr>\n",
       "      <th>9996</th>\n",
       "      <td>id_9996</td>\n",
       "      <td>1.5</td>\n",
       "    </tr>\n",
       "    <tr>\n",
       "      <th>9997</th>\n",
       "      <td>id_9997</td>\n",
       "      <td>4.5</td>\n",
       "    </tr>\n",
       "    <tr>\n",
       "      <th>9998</th>\n",
       "      <td>id_9998</td>\n",
       "      <td>1.0</td>\n",
       "    </tr>\n",
       "    <tr>\n",
       "      <th>9999</th>\n",
       "      <td>id_9999</td>\n",
       "      <td>2.5</td>\n",
       "    </tr>\n",
       "  </tbody>\n",
       "</table>\n",
       "<p>10000 rows × 2 columns</p>\n",
       "</div>"
      ],
      "text/plain": [
       "     Restaurant_id  Rating\n",
       "0             id_0     2.0\n",
       "1             id_1     2.5\n",
       "2             id_2     4.0\n",
       "3             id_3     1.0\n",
       "4             id_4     4.0\n",
       "...            ...     ...\n",
       "9995       id_9995     3.0\n",
       "9996       id_9996     1.5\n",
       "9997       id_9997     4.5\n",
       "9998       id_9998     1.0\n",
       "9999       id_9999     2.5\n",
       "\n",
       "[10000 rows x 2 columns]"
      ]
     },
     "execution_count": 91,
     "metadata": {},
     "output_type": "execute_result"
    }
   ],
   "source": [
    "sample_submission"
   ]
  },
  {
   "cell_type": "code",
   "execution_count": 92,
   "metadata": {
    "execution": {
     "iopub.execute_input": "2021-08-09T16:33:03.353052Z",
     "iopub.status.busy": "2021-08-09T16:33:03.352700Z",
     "iopub.status.idle": "2021-08-09T16:33:03.572214Z",
     "shell.execute_reply": "2021-08-09T16:33:03.571412Z",
     "shell.execute_reply.started": "2021-08-09T16:33:03.352999Z"
    }
   },
   "outputs": [
    {
     "name": "stderr",
     "output_type": "stream",
     "text": [
      "[Parallel(n_jobs=4)]: Using backend ThreadingBackend with 4 concurrent workers.\n",
      "[Parallel(n_jobs=4)]: Done  42 tasks      | elapsed:    0.0s\n",
      "[Parallel(n_jobs=4)]: Done 100 out of 100 | elapsed:    0.1s finished\n"
     ]
    }
   ],
   "source": [
    "predict_submission = model.predict(test_data)"
   ]
  },
  {
   "cell_type": "code",
   "execution_count": 93,
   "metadata": {
    "execution": {
     "iopub.execute_input": "2021-08-09T16:33:21.432798Z",
     "iopub.status.busy": "2021-08-09T16:33:21.432474Z",
     "iopub.status.idle": "2021-08-09T16:33:21.500987Z",
     "shell.execute_reply": "2021-08-09T16:33:21.500267Z",
     "shell.execute_reply.started": "2021-08-09T16:33:21.432755Z"
    }
   },
   "outputs": [],
   "source": [
    "for i in range(predict_submission.size):\n",
    "        predict_submission[i]=round_of_rating(predict_submission[i])"
   ]
  },
  {
   "cell_type": "code",
   "execution_count": 94,
   "metadata": {
    "execution": {
     "iopub.execute_input": "2021-08-09T16:33:36.825484Z",
     "iopub.status.busy": "2021-08-09T16:33:36.825099Z",
     "iopub.status.idle": "2021-08-09T16:33:36.832083Z",
     "shell.execute_reply": "2021-08-09T16:33:36.830995Z",
     "shell.execute_reply.started": "2021-08-09T16:33:36.825429Z"
    }
   },
   "outputs": [
    {
     "data": {
      "text/plain": [
       "array([3. , 4. , 4.5, ..., 3. , 4.5, 4.5])"
      ]
     },
     "execution_count": 94,
     "metadata": {},
     "output_type": "execute_result"
    }
   ],
   "source": [
    "predict_submission"
   ]
  },
  {
   "cell_type": "code",
   "execution_count": 95,
   "metadata": {
    "execution": {
     "iopub.execute_input": "2021-08-09T16:34:18.398375Z",
     "iopub.status.busy": "2021-08-09T16:34:18.397730Z",
     "iopub.status.idle": "2021-08-09T16:34:18.882269Z",
     "shell.execute_reply": "2021-08-09T16:34:18.881221Z",
     "shell.execute_reply.started": "2021-08-09T16:34:18.398308Z"
    }
   },
   "outputs": [
    {
     "data": {
      "text/html": [
       "<div>\n",
       "<style scoped>\n",
       "    .dataframe tbody tr th:only-of-type {\n",
       "        vertical-align: middle;\n",
       "    }\n",
       "\n",
       "    .dataframe tbody tr th {\n",
       "        vertical-align: top;\n",
       "    }\n",
       "\n",
       "    .dataframe thead th {\n",
       "        text-align: right;\n",
       "    }\n",
       "</style>\n",
       "<table border=\"1\" class=\"dataframe\">\n",
       "  <thead>\n",
       "    <tr style=\"text-align: right;\">\n",
       "      <th></th>\n",
       "      <th>Restaurant_id</th>\n",
       "      <th>Rating</th>\n",
       "    </tr>\n",
       "  </thead>\n",
       "  <tbody>\n",
       "    <tr>\n",
       "      <th>0</th>\n",
       "      <td>id_0</td>\n",
       "      <td>3.0</td>\n",
       "    </tr>\n",
       "    <tr>\n",
       "      <th>1</th>\n",
       "      <td>id_1</td>\n",
       "      <td>4.0</td>\n",
       "    </tr>\n",
       "    <tr>\n",
       "      <th>2</th>\n",
       "      <td>id_2</td>\n",
       "      <td>4.5</td>\n",
       "    </tr>\n",
       "    <tr>\n",
       "      <th>3</th>\n",
       "      <td>id_3</td>\n",
       "      <td>4.5</td>\n",
       "    </tr>\n",
       "    <tr>\n",
       "      <th>4</th>\n",
       "      <td>id_4</td>\n",
       "      <td>4.5</td>\n",
       "    </tr>\n",
       "    <tr>\n",
       "      <th>5</th>\n",
       "      <td>id_5</td>\n",
       "      <td>4.5</td>\n",
       "    </tr>\n",
       "    <tr>\n",
       "      <th>6</th>\n",
       "      <td>id_6</td>\n",
       "      <td>2.5</td>\n",
       "    </tr>\n",
       "    <tr>\n",
       "      <th>7</th>\n",
       "      <td>id_7</td>\n",
       "      <td>2.5</td>\n",
       "    </tr>\n",
       "    <tr>\n",
       "      <th>8</th>\n",
       "      <td>id_8</td>\n",
       "      <td>4.0</td>\n",
       "    </tr>\n",
       "    <tr>\n",
       "      <th>9</th>\n",
       "      <td>id_9</td>\n",
       "      <td>4.5</td>\n",
       "    </tr>\n",
       "  </tbody>\n",
       "</table>\n",
       "</div>"
      ],
      "text/plain": [
       "  Restaurant_id  Rating\n",
       "0          id_0     3.0\n",
       "1          id_1     4.0\n",
       "2          id_2     4.5\n",
       "3          id_3     4.5\n",
       "4          id_4     4.5\n",
       "5          id_5     4.5\n",
       "6          id_6     2.5\n",
       "7          id_7     2.5\n",
       "8          id_8     4.0\n",
       "9          id_9     4.5"
      ]
     },
     "execution_count": 95,
     "metadata": {},
     "output_type": "execute_result"
    }
   ],
   "source": [
    "sample_submission['Rating'] = predict_submission\n",
    "sample_submission.to_csv('submission.csv', index=False)\n",
    "sample_submission.head(10)"
   ]
  }
 ],
 "metadata": {
  "kernelspec": {
   "display_name": "Python 3",
   "language": "python",
   "name": "python3"
  },
  "language_info": {
   "codemirror_mode": {
    "name": "ipython",
    "version": 3
   },
   "file_extension": ".py",
   "mimetype": "text/x-python",
   "name": "python",
   "nbconvert_exporter": "python",
   "pygments_lexer": "ipython3",
   "version": "3.6.6"
  }
 },
 "nbformat": 4,
 "nbformat_minor": 4
}
